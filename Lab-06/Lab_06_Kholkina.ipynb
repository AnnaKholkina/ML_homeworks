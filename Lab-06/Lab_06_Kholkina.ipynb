{
  "nbformat": 4,
  "nbformat_minor": 5,
  "metadata": {
    "kernelspec": {
      "display_name": "Python 3",
      "language": "python",
      "name": "python3"
    },
    "language_info": {
      "codemirror_mode": {
        "name": "ipython",
        "version": 3
      },
      "file_extension": ".py",
      "mimetype": "text/x-python",
      "name": "python",
      "nbconvert_exporter": "python",
      "pygments_lexer": "ipython3",
      "version": "3.8.8"
    },
    "colab": {
      "name": "Lab-06_Kholkina.ipynb",
      "provenance": []
    }
  },
  "cells": [
    {
      "cell_type": "markdown",
      "metadata": {
        "id": "6b8b1c8d"
      },
      "source": [
        "`Дисциплина: Методы и технологии машинного обучения`   \n",
        "`Уровень подготовки: бакалавриат`   \n",
        "`Направление подготовки: 01.03.02 Прикладная математика и информатика`   \n",
        "`Семестр: осень 2021/2022`   "
      ],
      "id": "6b8b1c8d"
    },
    {
      "cell_type": "markdown",
      "metadata": {
        "id": "1fc5c8ab"
      },
      "source": [
        "# Лабораторная работа №6: Машины опорных векторов. \n",
        "\n",
        "Холькина Анна, 3 вариант.\n",
        "\n",
        "В практических примерах ниже показано:    \n",
        "* как классифицировать данные с помощью модели SVM\n",
        "* как использовать конвейеры для подгонки модели и применения её к новым данным\n",
        "\n",
        "Точность всех моделей оценивается методом перекрёстной проверки по 5 блокам.  \n"
      ],
      "id": "1fc5c8ab"
    },
    {
      "cell_type": "markdown",
      "metadata": {
        "id": "7Fbhep07d_Fp"
      },
      "source": [
        "## Данные\n",
        "\n",
        "Набор данных можно загрузить напрямую по ссылке: <https://raw.githubusercontent.com/aksyuk/MTML/main/Labs/data/in-vehicle-coupon-recommendation.csv>. Справочник к данным доступен по адресу: <https://github.com/aksyuk/MTML/blob/main/Labs/data/CodeBook_in-vehicle-coupon-recommendation.md>.    \n",
        "\n",
        "Загружаем данные во фрейм и выясняем их размерность. В таблице много строк, поэтому для экономии времени загрузку сделаем в два шага: сначала скачаем таблицу и сохраним в папку `'./data'`, затем прочитаем её во фрейм. Перед скачиванием проверим, нет ли уже такого файла в папке с данными. \n",
        "\n",
        "1.   `fixed_acidity` – постоянная кислотность;\n",
        "2.   `volatile_acidity` – переменная кислотность;\n",
        "3.   `citric_acid` – содержание лимонной кислоты;\n",
        "4.   `residual_sugar` - остаточный сахар;\n",
        "5.   `chlorides` – содержание хлоридов;\n",
        "6.   `free_sulfur_dioxide` – содержание диоксида серы в свободном виде;\n",
        "7.   `total_sulfur_dioxide` – общее содержание диоксида серы;\n",
        "8.   `density` – плотность;\n",
        "9.   `pH` – кислотность;\n",
        "10.  `sulphates` – содержание сульфатов;\n",
        "11.  `alcohol` – содержание алкоголя;\n",
        "12.  `quality` – балльная оценка качества вина, от 0 до 10;\n",
        "13.  `Y` – целевая переменная: 1 = высокое качество (quality > 5), 0 = низкое (quality <= 5)."
      ],
      "id": "7Fbhep07d_Fp"
    },
    {
      "cell_type": "markdown",
      "metadata": {
        "id": "61b9ab5d"
      },
      "source": [
        "# Указания к выполнению\n",
        "\n",
        "\n",
        "## Загружаем пакеты"
      ],
      "id": "61b9ab5d"
    },
    {
      "cell_type": "code",
      "metadata": {
        "id": "c8fa189c"
      },
      "source": [
        "# загрузка пакетов: инструменты --------------------------------------------\n",
        "#  работа с массивами\n",
        "import numpy as np\n",
        "#  фреймы данных\n",
        "import pandas as pd\n",
        "#  графики\n",
        "import matplotlib as mpl\n",
        "#  стили и шаблоны графиков на основе matplotlib\n",
        "import seaborn as sns\n",
        "# перекодировка символьных показателей\n",
        "from sklearn.preprocessing import LabelEncoder\n",
        "# загрузка файлов по URL\n",
        "import urllib\n",
        "# проверка существования файла на диске\n",
        "from pathlib import Path\n",
        "# для форматирования результатов с помощью Markdown\n",
        "from IPython.display import Markdown, display\n",
        "# перекодировка категориальных переменных\n",
        "from sklearn.preprocessing import OrdinalEncoder, OneHotEncoder\n",
        "# хи-квадрат тест на независимость по таблице сопряжённости\n",
        "from scipy.stats import chi2_contingency, t\n",
        "#  для таймера\n",
        "import time\n",
        "\n",
        "# загрузка пакетов: модели ------------------------------------------------- \n",
        "# SVM\n",
        "from sklearn.svm import SVC\n",
        "# логистическая рагрессия\n",
        "from sklearn.linear_model import LogisticRegression \n",
        "# стандартизация\n",
        "from sklearn.preprocessing import StandardScaler\n",
        "# метод главных компонент\n",
        "from sklearn.decomposition import PCA\n",
        "# конвейеры\n",
        "from sklearn.pipeline import make_pipeline\n",
        "# перекрёстная проверка и метод проверочной выборки\n",
        "from sklearn.model_selection import cross_val_score, train_test_split \n",
        "# для перекрёстной проверки и сеточного поиска\n",
        "from sklearn.model_selection import KFold, GridSearchCV\n",
        "# сводка по точности классификации\n",
        "from sklearn.metrics import classification_report\n",
        "\n",
        "# загрузка пакетов: данные -------------------------------------------------\n",
        "from sklearn import datasets\n",
        "\n",
        "# загрузка пакетов: модели -------------------------------------------------\n",
        "#  дерево классификации\n",
        "from sklearn.tree import DecisionTreeClassifier, export_text, plot_tree\n",
        "\n",
        "\n",
        "# бэггинг\n",
        "from sklearn.ensemble import BaggingClassifier\n",
        "# случайный лес\n",
        "from sklearn.ensemble import RandomForestClassifier\n",
        "# бустинг\n",
        "from sklearn.ensemble import GradientBoostingClassifier\n",
        "\n",
        "# для теста хи-квадрат\n",
        "import scipy\n"
      ],
      "id": "c8fa189c",
      "execution_count": 1,
      "outputs": []
    },
    {
      "cell_type": "code",
      "metadata": {
        "id": "43a4a48e"
      },
      "source": [
        "# константы\n",
        "#  ядро для генератора случайных чисел\n",
        "my_seed = 3\n",
        "#  создаём псевдоним для короткого обращения к графикам\n",
        "plt = mpl.pyplot\n",
        "# настройка стиля и отображения графиков\n",
        "#  примеры стилей и шаблонов графиков: \n",
        "#  http://tonysyu.github.io/raw_content/matplotlib-style-gallery/gallery.html\n",
        "mpl.style.use('seaborn-whitegrid')\n",
        "sns.set_palette(\"Set2\")\n",
        "# раскомментируйте следующую строку, чтобы посмотреть палитру\n",
        "# sns.color_palette(\"Set2\")"
      ],
      "id": "43a4a48e",
      "execution_count": 2,
      "outputs": []
    },
    {
      "cell_type": "code",
      "metadata": {
        "colab": {
          "base_uri": "https://localhost:8080/"
        },
        "id": "a7e42f2c",
        "outputId": "2b2302a3-6196-4587-ab7a-fb2209351d92"
      },
      "source": [
        "# загружаем таблицу и превращаем её во фрейм\n",
        "DF_raw = pd.read_csv('https://raw.githubusercontent.com/aksyuk/MTML/main/Labs/data/winequality-red_for_lab.csv')\n",
        "\n",
        "# выясняем размерность фрейма\n",
        "print('Число строк и столбцов в наборе данных:\\n', DF_raw.shape)"
      ],
      "id": "a7e42f2c",
      "execution_count": 3,
      "outputs": [
        {
          "output_type": "stream",
          "name": "stdout",
          "text": [
            "Число строк и столбцов в наборе данных:\n",
            " (1599, 13)\n"
          ]
        }
      ]
    },
    {
      "cell_type": "code",
      "metadata": {
        "colab": {
          "base_uri": "https://localhost:8080/",
          "height": 204
        },
        "id": "bc0a967b",
        "outputId": "c6ad8fee-be19-40b7-e10f-0d6a2af5f6c9"
      },
      "source": [
        "DF_raw.head(5)"
      ],
      "id": "bc0a967b",
      "execution_count": 4,
      "outputs": [
        {
          "output_type": "execute_result",
          "data": {
            "text/html": [
              "<div>\n",
              "<style scoped>\n",
              "    .dataframe tbody tr th:only-of-type {\n",
              "        vertical-align: middle;\n",
              "    }\n",
              "\n",
              "    .dataframe tbody tr th {\n",
              "        vertical-align: top;\n",
              "    }\n",
              "\n",
              "    .dataframe thead th {\n",
              "        text-align: right;\n",
              "    }\n",
              "</style>\n",
              "<table border=\"1\" class=\"dataframe\">\n",
              "  <thead>\n",
              "    <tr style=\"text-align: right;\">\n",
              "      <th></th>\n",
              "      <th>fixed_acidity</th>\n",
              "      <th>volatile_acidity</th>\n",
              "      <th>citric_acid</th>\n",
              "      <th>residual_sugar</th>\n",
              "      <th>chlorides</th>\n",
              "      <th>free_sulfur_dioxide</th>\n",
              "      <th>total_sulfur_dioxide</th>\n",
              "      <th>density</th>\n",
              "      <th>pH</th>\n",
              "      <th>sulphates</th>\n",
              "      <th>alcohol</th>\n",
              "      <th>quality</th>\n",
              "      <th>Y</th>\n",
              "    </tr>\n",
              "  </thead>\n",
              "  <tbody>\n",
              "    <tr>\n",
              "      <th>0</th>\n",
              "      <td>7.4</td>\n",
              "      <td>0.70</td>\n",
              "      <td>0.00</td>\n",
              "      <td>1.9</td>\n",
              "      <td>0.076</td>\n",
              "      <td>11.0</td>\n",
              "      <td>34.0</td>\n",
              "      <td>0.9978</td>\n",
              "      <td>3.51</td>\n",
              "      <td>0.56</td>\n",
              "      <td>9.4</td>\n",
              "      <td>5</td>\n",
              "      <td>0</td>\n",
              "    </tr>\n",
              "    <tr>\n",
              "      <th>1</th>\n",
              "      <td>7.8</td>\n",
              "      <td>0.88</td>\n",
              "      <td>0.00</td>\n",
              "      <td>2.6</td>\n",
              "      <td>0.098</td>\n",
              "      <td>25.0</td>\n",
              "      <td>67.0</td>\n",
              "      <td>0.9968</td>\n",
              "      <td>3.20</td>\n",
              "      <td>0.68</td>\n",
              "      <td>9.8</td>\n",
              "      <td>5</td>\n",
              "      <td>0</td>\n",
              "    </tr>\n",
              "    <tr>\n",
              "      <th>2</th>\n",
              "      <td>7.8</td>\n",
              "      <td>0.76</td>\n",
              "      <td>0.04</td>\n",
              "      <td>2.3</td>\n",
              "      <td>0.092</td>\n",
              "      <td>15.0</td>\n",
              "      <td>54.0</td>\n",
              "      <td>0.9970</td>\n",
              "      <td>3.26</td>\n",
              "      <td>0.65</td>\n",
              "      <td>9.8</td>\n",
              "      <td>5</td>\n",
              "      <td>0</td>\n",
              "    </tr>\n",
              "    <tr>\n",
              "      <th>3</th>\n",
              "      <td>11.2</td>\n",
              "      <td>0.28</td>\n",
              "      <td>0.56</td>\n",
              "      <td>1.9</td>\n",
              "      <td>0.075</td>\n",
              "      <td>17.0</td>\n",
              "      <td>60.0</td>\n",
              "      <td>0.9980</td>\n",
              "      <td>3.16</td>\n",
              "      <td>0.58</td>\n",
              "      <td>9.8</td>\n",
              "      <td>6</td>\n",
              "      <td>1</td>\n",
              "    </tr>\n",
              "    <tr>\n",
              "      <th>4</th>\n",
              "      <td>7.4</td>\n",
              "      <td>0.70</td>\n",
              "      <td>0.00</td>\n",
              "      <td>1.9</td>\n",
              "      <td>0.076</td>\n",
              "      <td>11.0</td>\n",
              "      <td>34.0</td>\n",
              "      <td>0.9978</td>\n",
              "      <td>3.51</td>\n",
              "      <td>0.56</td>\n",
              "      <td>9.4</td>\n",
              "      <td>5</td>\n",
              "      <td>0</td>\n",
              "    </tr>\n",
              "  </tbody>\n",
              "</table>\n",
              "</div>"
            ],
            "text/plain": [
              "   fixed_acidity  volatile_acidity  citric_acid  ...  alcohol  quality  Y\n",
              "0            7.4              0.70         0.00  ...      9.4        5  0\n",
              "1            7.8              0.88         0.00  ...      9.8        5  0\n",
              "2            7.8              0.76         0.04  ...      9.8        5  0\n",
              "3           11.2              0.28         0.56  ...      9.8        6  1\n",
              "4            7.4              0.70         0.00  ...      9.4        5  0\n",
              "\n",
              "[5 rows x 13 columns]"
            ]
          },
          "metadata": {},
          "execution_count": 4
        }
      ]
    },
    {
      "cell_type": "code",
      "metadata": {
        "colab": {
          "base_uri": "https://localhost:8080/"
        },
        "id": "07670649",
        "outputId": "d3258f20-cf41-41db-9ad3-03df0a32154d"
      },
      "source": [
        "# типы столбцов\n",
        "DF_raw.dtypes"
      ],
      "id": "07670649",
      "execution_count": 5,
      "outputs": [
        {
          "output_type": "execute_result",
          "data": {
            "text/plain": [
              "fixed_acidity           float64\n",
              "volatile_acidity        float64\n",
              "citric_acid             float64\n",
              "residual_sugar          float64\n",
              "chlorides               float64\n",
              "free_sulfur_dioxide     float64\n",
              "total_sulfur_dioxide    float64\n",
              "density                 float64\n",
              "pH                      float64\n",
              "sulphates               float64\n",
              "alcohol                 float64\n",
              "quality                   int64\n",
              "Y                         int64\n",
              "dtype: object"
            ]
          },
          "metadata": {},
          "execution_count": 5
        }
      ]
    },
    {
      "cell_type": "code",
      "metadata": {
        "colab": {
          "base_uri": "https://localhost:8080/"
        },
        "id": "eb99ea70",
        "outputId": "698cd864-05b1-4990-fcd9-a47241326ade"
      },
      "source": [
        "DF_raw.isna().sum()"
      ],
      "id": "eb99ea70",
      "execution_count": 6,
      "outputs": [
        {
          "output_type": "execute_result",
          "data": {
            "text/plain": [
              "fixed_acidity           0\n",
              "volatile_acidity        0\n",
              "citric_acid             0\n",
              "residual_sugar          0\n",
              "chlorides               0\n",
              "free_sulfur_dioxide     0\n",
              "total_sulfur_dioxide    0\n",
              "density                 0\n",
              "pH                      0\n",
              "sulphates               0\n",
              "alcohol                 0\n",
              "quality                 0\n",
              "Y                       0\n",
              "dtype: int64"
            ]
          },
          "metadata": {},
          "execution_count": 6
        }
      ]
    },
    {
      "cell_type": "code",
      "metadata": {
        "id": "shytn5xAIPRI"
      },
      "source": [
        "DF = DF_raw.sample(frac = 0.85, random_state = my_seed)\n",
        "DF_predict = DF_raw.drop(DF.index)"
      ],
      "id": "shytn5xAIPRI",
      "execution_count": 7,
      "outputs": []
    },
    {
      "cell_type": "code",
      "metadata": {
        "colab": {
          "base_uri": "https://localhost:8080/",
          "height": 297
        },
        "id": "XMML8904IzC-",
        "outputId": "a8832638-85a5-4841-c02f-9fb0e4253b66"
      },
      "source": [
        "DF.describe()"
      ],
      "id": "XMML8904IzC-",
      "execution_count": 8,
      "outputs": [
        {
          "output_type": "execute_result",
          "data": {
            "text/html": [
              "<div>\n",
              "<style scoped>\n",
              "    .dataframe tbody tr th:only-of-type {\n",
              "        vertical-align: middle;\n",
              "    }\n",
              "\n",
              "    .dataframe tbody tr th {\n",
              "        vertical-align: top;\n",
              "    }\n",
              "\n",
              "    .dataframe thead th {\n",
              "        text-align: right;\n",
              "    }\n",
              "</style>\n",
              "<table border=\"1\" class=\"dataframe\">\n",
              "  <thead>\n",
              "    <tr style=\"text-align: right;\">\n",
              "      <th></th>\n",
              "      <th>fixed_acidity</th>\n",
              "      <th>volatile_acidity</th>\n",
              "      <th>citric_acid</th>\n",
              "      <th>residual_sugar</th>\n",
              "      <th>chlorides</th>\n",
              "      <th>free_sulfur_dioxide</th>\n",
              "      <th>total_sulfur_dioxide</th>\n",
              "      <th>density</th>\n",
              "      <th>pH</th>\n",
              "      <th>sulphates</th>\n",
              "      <th>alcohol</th>\n",
              "      <th>quality</th>\n",
              "      <th>Y</th>\n",
              "    </tr>\n",
              "  </thead>\n",
              "  <tbody>\n",
              "    <tr>\n",
              "      <th>count</th>\n",
              "      <td>1359.000000</td>\n",
              "      <td>1359.000000</td>\n",
              "      <td>1359.000000</td>\n",
              "      <td>1359.000000</td>\n",
              "      <td>1359.000000</td>\n",
              "      <td>1359.000000</td>\n",
              "      <td>1359.000000</td>\n",
              "      <td>1359.000000</td>\n",
              "      <td>1359.000000</td>\n",
              "      <td>1359.000000</td>\n",
              "      <td>1359.000000</td>\n",
              "      <td>1359.000000</td>\n",
              "      <td>1359.000000</td>\n",
              "    </tr>\n",
              "    <tr>\n",
              "      <th>mean</th>\n",
              "      <td>8.320015</td>\n",
              "      <td>0.526744</td>\n",
              "      <td>0.269625</td>\n",
              "      <td>2.523326</td>\n",
              "      <td>0.087208</td>\n",
              "      <td>16.087196</td>\n",
              "      <td>47.107432</td>\n",
              "      <td>0.996730</td>\n",
              "      <td>3.309286</td>\n",
              "      <td>0.657417</td>\n",
              "      <td>10.420665</td>\n",
              "      <td>5.634290</td>\n",
              "      <td>0.529065</td>\n",
              "    </tr>\n",
              "    <tr>\n",
              "      <th>std</th>\n",
              "      <td>1.743664</td>\n",
              "      <td>0.176343</td>\n",
              "      <td>0.194457</td>\n",
              "      <td>1.359162</td>\n",
              "      <td>0.045168</td>\n",
              "      <td>10.589176</td>\n",
              "      <td>33.365074</td>\n",
              "      <td>0.001876</td>\n",
              "      <td>0.150939</td>\n",
              "      <td>0.168720</td>\n",
              "      <td>1.062383</td>\n",
              "      <td>0.801895</td>\n",
              "      <td>0.499338</td>\n",
              "    </tr>\n",
              "    <tr>\n",
              "      <th>min</th>\n",
              "      <td>4.600000</td>\n",
              "      <td>0.120000</td>\n",
              "      <td>0.000000</td>\n",
              "      <td>0.900000</td>\n",
              "      <td>0.012000</td>\n",
              "      <td>1.000000</td>\n",
              "      <td>6.000000</td>\n",
              "      <td>0.990070</td>\n",
              "      <td>2.740000</td>\n",
              "      <td>0.330000</td>\n",
              "      <td>8.400000</td>\n",
              "      <td>3.000000</td>\n",
              "      <td>0.000000</td>\n",
              "    </tr>\n",
              "    <tr>\n",
              "      <th>25%</th>\n",
              "      <td>7.100000</td>\n",
              "      <td>0.390000</td>\n",
              "      <td>0.090000</td>\n",
              "      <td>1.900000</td>\n",
              "      <td>0.070000</td>\n",
              "      <td>8.000000</td>\n",
              "      <td>22.000000</td>\n",
              "      <td>0.995575</td>\n",
              "      <td>3.210000</td>\n",
              "      <td>0.550000</td>\n",
              "      <td>9.500000</td>\n",
              "      <td>5.000000</td>\n",
              "      <td>0.000000</td>\n",
              "    </tr>\n",
              "    <tr>\n",
              "      <th>50%</th>\n",
              "      <td>7.900000</td>\n",
              "      <td>0.520000</td>\n",
              "      <td>0.260000</td>\n",
              "      <td>2.200000</td>\n",
              "      <td>0.079000</td>\n",
              "      <td>14.000000</td>\n",
              "      <td>38.000000</td>\n",
              "      <td>0.996720</td>\n",
              "      <td>3.310000</td>\n",
              "      <td>0.620000</td>\n",
              "      <td>10.100000</td>\n",
              "      <td>6.000000</td>\n",
              "      <td>1.000000</td>\n",
              "    </tr>\n",
              "    <tr>\n",
              "      <th>75%</th>\n",
              "      <td>9.200000</td>\n",
              "      <td>0.640000</td>\n",
              "      <td>0.420000</td>\n",
              "      <td>2.600000</td>\n",
              "      <td>0.090500</td>\n",
              "      <td>22.000000</td>\n",
              "      <td>64.000000</td>\n",
              "      <td>0.997800</td>\n",
              "      <td>3.400000</td>\n",
              "      <td>0.730000</td>\n",
              "      <td>11.100000</td>\n",
              "      <td>6.000000</td>\n",
              "      <td>1.000000</td>\n",
              "    </tr>\n",
              "    <tr>\n",
              "      <th>max</th>\n",
              "      <td>15.900000</td>\n",
              "      <td>1.330000</td>\n",
              "      <td>1.000000</td>\n",
              "      <td>15.400000</td>\n",
              "      <td>0.610000</td>\n",
              "      <td>72.000000</td>\n",
              "      <td>289.000000</td>\n",
              "      <td>1.003690</td>\n",
              "      <td>3.900000</td>\n",
              "      <td>2.000000</td>\n",
              "      <td>14.900000</td>\n",
              "      <td>8.000000</td>\n",
              "      <td>1.000000</td>\n",
              "    </tr>\n",
              "  </tbody>\n",
              "</table>\n",
              "</div>"
            ],
            "text/plain": [
              "       fixed_acidity  volatile_acidity  ...      quality            Y\n",
              "count    1359.000000       1359.000000  ...  1359.000000  1359.000000\n",
              "mean        8.320015          0.526744  ...     5.634290     0.529065\n",
              "std         1.743664          0.176343  ...     0.801895     0.499338\n",
              "min         4.600000          0.120000  ...     3.000000     0.000000\n",
              "25%         7.100000          0.390000  ...     5.000000     0.000000\n",
              "50%         7.900000          0.520000  ...     6.000000     1.000000\n",
              "75%         9.200000          0.640000  ...     6.000000     1.000000\n",
              "max        15.900000          1.330000  ...     8.000000     1.000000\n",
              "\n",
              "[8 rows x 13 columns]"
            ]
          },
          "metadata": {},
          "execution_count": 8
        }
      ]
    },
    {
      "cell_type": "markdown",
      "metadata": {
        "id": "a8a302f9"
      },
      "source": [
        "# Преобразование исходных данных и построение моделей\n",
        "## Стандартизация и переход к главным компонентам\n",
        "\n",
        "В качестве альтернативных моделей рассмотрим SVM с различными вариантами ядер и логистическую регрессию. Причём предварительно преобразуем пространство исходных показателей с помощью метода главных компонент."
      ],
      "id": "a8a302f9"
    },
    {
      "cell_type": "code",
      "metadata": {
        "colab": {
          "base_uri": "https://localhost:8080/"
        },
        "id": "c6f4304b",
        "outputId": "219ca16b-eb84-4653-941b-2c85346b36cd"
      },
      "source": [
        "# стандартизация\n",
        "sc = StandardScaler()\n",
        "X_train_std = sc.fit_transform(DF.iloc[:, 1:].values)\n",
        "\n",
        "# оцениваем объяснённую главными компонентами дисперсию\n",
        "pca = PCA()\n",
        "X_train_pca = pca.fit_transform(X_train_std)\n",
        "\n",
        "# считаем доли объяснённой дисперсии\n",
        "frac_var_expl = pca.explained_variance_ratio_\n",
        "print('Доли объяснённой дисперсии по компонентам в PLS:\\n',\n",
        "    np.around(frac_var_expl, 3),\n",
        "    '\\nОбщая сумма долей:', np.around(sum(frac_var_expl), 3))"
      ],
      "id": "c6f4304b",
      "execution_count": 9,
      "outputs": [
        {
          "output_type": "stream",
          "name": "stdout",
          "text": [
            "Доли объяснённой дисперсии по компонентам в PLS:\n",
            " [0.238 0.205 0.14  0.093 0.083 0.063 0.054 0.042 0.033 0.026 0.013 0.012] \n",
            "Общая сумма долей: 1.0\n"
          ]
        }
      ]
    },
    {
      "cell_type": "markdown",
      "metadata": {
        "id": "22dcbc9e"
      },
      "source": [
        "Таким образом, первые две главные компоненты объясняют 44.3% разброса 12 объясняющих переменных.\n",
        "Теперь объединим функции-преобразователи и оценщики в конвейер с помощью `Pipeline` и оценим точность логистической регрессии с помощью перекрёстной проверки."
      ],
      "id": "22dcbc9e"
    },
    {
      "cell_type": "markdown",
      "metadata": {
        "id": "32dfd3f9"
      },
      "source": [
        "## Модель логистической регрессии с перекрёстной проверкой"
      ],
      "id": "32dfd3f9"
    },
    {
      "cell_type": "code",
      "metadata": {
        "colab": {
          "base_uri": "https://localhost:8080/"
        },
        "id": "3eb3c208",
        "outputId": "61ab19c7-bc07-4a7b-9446-303d6b52adee"
      },
      "source": [
        "DF.iloc[:, 0].head(5)"
      ],
      "id": "3eb3c208",
      "execution_count": 10,
      "outputs": [
        {
          "output_type": "execute_result",
          "data": {
            "text/plain": [
              "147      7.6\n",
              "937     12.0\n",
              "877      7.7\n",
              "1000     7.5\n",
              "73       8.3\n",
              "Name: fixed_acidity, dtype: float64"
            ]
          },
          "metadata": {},
          "execution_count": 10
        }
      ]
    },
    {
      "cell_type": "code",
      "metadata": {
        "colab": {
          "base_uri": "https://localhost:8080/"
        },
        "id": "xx4t4PQOJRk9",
        "outputId": "64c02101-ac54-4ec4-f3ec-c8f278812bd7"
      },
      "source": [
        "DF.shape"
      ],
      "id": "xx4t4PQOJRk9",
      "execution_count": 11,
      "outputs": [
        {
          "output_type": "execute_result",
          "data": {
            "text/plain": [
              "(1359, 13)"
            ]
          },
          "metadata": {},
          "execution_count": 11
        }
      ]
    },
    {
      "cell_type": "code",
      "metadata": {
        "colab": {
          "base_uri": "https://localhost:8080/"
        },
        "id": "fa663583",
        "outputId": "45cea170-3cf6-44c0-b41e-44a0b1941bf3"
      },
      "source": [
        "# данные для обучения моделей\n",
        "X_train = DF.iloc[:, 1:] \n",
        "y_train = DF.iloc[:, -1]\n",
        "\n",
        "# объединяем в конвейер шкалирование, ГК с 2 компонентами и логит\n",
        "pipe_lr = make_pipeline(StandardScaler(),\n",
        "                        PCA(n_components = 2),\n",
        "                        LogisticRegression(random_state = my_seed, \n",
        "                                           solver = 'lbfgs'))\n",
        "\n",
        "# будем сохранять точность моделей в один массив\n",
        "score = list()\n",
        "score_models = list()\n",
        "\n",
        "# считаем точность с перекрёстной проверкой, показатель Acc\n",
        "cv = cross_val_score(estimator = pipe_lr, X = X_train, y = y_train, \n",
        "                     cv = 5, scoring='accuracy')\n",
        "\n",
        "# записываем точность\n",
        "score.append(np.around(np.mean(cv), 3)) \n",
        "score_models.append('sc_pca_logit')\n",
        "print('Acc с перекрёстной проверкой',\n",
        "      '\\nдля модели', score_models[0], ':', score[0])"
      ],
      "id": "fa663583",
      "execution_count": 12,
      "outputs": [
        {
          "output_type": "stream",
          "name": "stdout",
          "text": [
            "Acc с перекрёстной проверкой \n",
            "для модели sc_pca_logit : 0.94\n"
          ]
        }
      ]
    },
    {
      "cell_type": "markdown",
      "metadata": {
        "id": "323b0274"
      },
      "source": [
        "## SVM с перекрёстной проверкой\n",
        "\n",
        "Построим несколько вариантов модели SVM с различными ядерными функциями."
      ],
      "id": "323b0274"
    },
    {
      "cell_type": "code",
      "metadata": {
        "colab": {
          "base_uri": "https://localhost:8080/"
        },
        "id": "b2a5cca0",
        "outputId": "af9edc02-0280-4aca-d1b4-80a7c5081b4d"
      },
      "source": [
        "pipe_svc = make_pipeline(StandardScaler(), \n",
        "                         SVC(random_state = my_seed))\n",
        "\n",
        "# настроим параметры SVM с помощью сеточного поиска\n",
        "param_range = [0.0001, 0.001, 0.01, 0.1, 1.0, 10.0, 100.0, 1000.0] \n",
        "param_grid = [{'svc__C': param_range,\n",
        "               'svc__kernel': ['linear']},\n",
        "              {'svc__C': param_range,\n",
        "               'svc__gamma': param_range,\n",
        "               'svc__kernel': ['rbf']},\n",
        "              {'svc__C': param_range,\n",
        "               'svc__gamma': param_range,\n",
        "               'svc__degree' : [2, 3],\n",
        "               'svc__kernel': ['poly']}]\n",
        "\n",
        "# разбиения для перекрёстной проверки\n",
        "kfold = KFold(n_splits = 5, random_state = my_seed, shuffle = True)\n",
        "gs = GridSearchCV(estimator = pipe_svc, param_grid = param_grid, \n",
        "                  scoring = 'accuracy', refit = True, cv = kfold, \n",
        "                  n_jobs = -1)\n",
        "\n",
        "# таймер\n",
        "tic = time.perf_counter()\n",
        "\n",
        "# запускаем сеточный поиск\n",
        "gs = gs.fit(X_train, y_train)\n",
        "\n",
        "# таймер\n",
        "toc = time.perf_counter()\n",
        "print(f\"Сеточный поиск занял {toc - tic:0.2f} секунд\", sep='')"
      ],
      "id": "b2a5cca0",
      "execution_count": 13,
      "outputs": [
        {
          "output_type": "stream",
          "name": "stdout",
          "text": [
            "Сеточный поиск занял 76.19 секунд\n"
          ]
        }
      ]
    },
    {
      "cell_type": "code",
      "metadata": {
        "colab": {
          "base_uri": "https://localhost:8080/"
        },
        "id": "18a58ca3",
        "outputId": "4ed519dc-8e67-4914-d8e8-4b3c7e990a4a"
      },
      "source": [
        "# точность лучшей модели\n",
        "np.around(gs.best_score_, 3)"
      ],
      "id": "18a58ca3",
      "execution_count": 14,
      "outputs": [
        {
          "output_type": "execute_result",
          "data": {
            "text/plain": [
              "1.0"
            ]
          },
          "metadata": {},
          "execution_count": 14
        }
      ]
    },
    {
      "cell_type": "code",
      "metadata": {
        "colab": {
          "base_uri": "https://localhost:8080/",
          "height": 38
        },
        "id": "8b5d9a9f",
        "outputId": "eb75cbdd-3191-4bcd-fac7-326343ced3cb"
      },
      "source": [
        "# параметры лучшей модели\n",
        "# * ядерная функция \n",
        "gs.best_estimator_.get_params()['svc__kernel']"
      ],
      "id": "8b5d9a9f",
      "execution_count": 15,
      "outputs": [
        {
          "output_type": "execute_result",
          "data": {
            "application/vnd.google.colaboratory.intrinsic+json": {
              "type": "string"
            },
            "text/plain": [
              "'linear'"
            ]
          },
          "metadata": {},
          "execution_count": 15
        }
      ]
    },
    {
      "cell_type": "code",
      "metadata": {
        "colab": {
          "base_uri": "https://localhost:8080/"
        },
        "id": "96fbb50b",
        "outputId": "199a1131-0acd-4c2f-de1c-27f29cc2b857"
      },
      "source": [
        "# * параметр регуляризации\n",
        "gs.best_estimator_.get_params()['svc__C']"
      ],
      "id": "96fbb50b",
      "execution_count": 16,
      "outputs": [
        {
          "output_type": "execute_result",
          "data": {
            "text/plain": [
              "0.001"
            ]
          },
          "metadata": {},
          "execution_count": 16
        }
      ]
    },
    {
      "cell_type": "code",
      "metadata": {
        "colab": {
          "base_uri": "https://localhost:8080/",
          "height": 38
        },
        "id": "83d3ba93",
        "outputId": "9a1824a4-2aa5-4c04-fa4c-184ad8b0add9"
      },
      "source": [
        "# * коэффициент ядерной функции (для ядер 'rbf', 'poly' и 'sigmoid')\n",
        "gs.best_estimator_.get_params()['svc__gamma']"
      ],
      "id": "83d3ba93",
      "execution_count": 17,
      "outputs": [
        {
          "output_type": "execute_result",
          "data": {
            "application/vnd.google.colaboratory.intrinsic+json": {
              "type": "string"
            },
            "text/plain": [
              "'scale'"
            ]
          },
          "metadata": {},
          "execution_count": 17
        }
      ]
    },
    {
      "cell_type": "code",
      "metadata": {
        "colab": {
          "base_uri": "https://localhost:8080/"
        },
        "id": "3159f144",
        "outputId": "2204c3f2-1e68-493c-dbbf-d923f191ed48"
      },
      "source": [
        "# * степень полинома (для ядра 'poly')\n",
        "gs.best_estimator_.get_params()['svc__degree']"
      ],
      "id": "3159f144",
      "execution_count": 18,
      "outputs": [
        {
          "output_type": "execute_result",
          "data": {
            "text/plain": [
              "3"
            ]
          },
          "metadata": {},
          "execution_count": 18
        }
      ]
    },
    {
      "cell_type": "code",
      "metadata": {
        "colab": {
          "base_uri": "https://localhost:8080/"
        },
        "id": "89bed28b",
        "outputId": "a8aaa68d-efc3-4ba8-fe99-05ce2f1d2c3e"
      },
      "source": [
        "score.append(np.around(gs.best_score_,3))\n",
        "score_models.append('sc_pca_svc')\n",
        "\n",
        "print('Acc с перекрёстной проверкой','\\nдля модели',score_models[1],':',score[1])"
      ],
      "id": "89bed28b",
      "execution_count": 19,
      "outputs": [
        {
          "output_type": "stream",
          "name": "stdout",
          "text": [
            "Acc с перекрёстной проверкой \n",
            "для модели sc_pca_svc : 1.0\n"
          ]
        }
      ]
    },
    {
      "cell_type": "markdown",
      "metadata": {
        "id": "a0M6M1nYOeBN"
      },
      "source": [
        "# Метод kNN"
      ],
      "id": "a0M6M1nYOeBN"
    },
    {
      "cell_type": "markdown",
      "metadata": {
        "id": "cvuMN1s6Xy9d"
      },
      "source": [
        "Реализуем метод k-ближайших соседей с преобразованием PCA."
      ],
      "id": "cvuMN1s6Xy9d"
    },
    {
      "cell_type": "code",
      "metadata": {
        "id": "dz_XHEkNOhZb"
      },
      "source": [
        "from sklearn.neighbors import KNeighborsClassifier\n",
        "from sklearn.pipeline import Pipeline"
      ],
      "id": "dz_XHEkNOhZb",
      "execution_count": 20,
      "outputs": []
    },
    {
      "cell_type": "code",
      "metadata": {
        "colab": {
          "base_uri": "https://localhost:8080/"
        },
        "id": "zXKcT90lY1Z1",
        "outputId": "b136741e-1649-4dc3-e6d2-dba2a068ffe8"
      },
      "source": [
        "k_range = list(range(1,32))\n",
        "weight_options = [\"uniform\", \"distance\"]\n",
        "\n",
        "pipe_knn = Pipeline(steps=[('standard', StandardScaler()), ('PCA', PCA(n_components = 5)), ('knn', KNeighborsClassifier())])\n",
        "param_grid = {\n",
        "    'knn__n_neighbors': list(range(1,32))\n",
        "}\n",
        "\n",
        "knn = KNeighborsClassifier()\n",
        "kfold = KFold(n_splits = 5, random_state = my_seed, shuffle = True)\n",
        "grid = GridSearchCV(pipe_knn, param_grid, cv=kfold, scoring='accuracy')\n",
        "\n",
        "tic = time.perf_counter()\n",
        "grid.fit(X_train,y_train)\n",
        "toc = time.perf_counter()\n",
        "print(f\"Сеточный поиск занял {toc - tic:0.2f} секунд\", sep='')"
      ],
      "id": "zXKcT90lY1Z1",
      "execution_count": 21,
      "outputs": [
        {
          "output_type": "stream",
          "name": "stdout",
          "text": [
            "Сеточный поиск занял 5.80 секунд\n"
          ]
        }
      ]
    },
    {
      "cell_type": "markdown",
      "metadata": {
        "id": "EOJUu_3DbZ8b"
      },
      "source": [
        "В ходе обучения модели я меняла такие параметры как: n_splits (не дало особого увеличения точности) и n_components в PCA (дало прибавку к точности с 0.903 до 0.991)"
      ],
      "id": "EOJUu_3DbZ8b"
    },
    {
      "cell_type": "code",
      "metadata": {
        "colab": {
          "base_uri": "https://localhost:8080/"
        },
        "id": "gDpgtPfiY789",
        "outputId": "0efd489d-30ef-4a40-e7e8-9ea4f98e3ebe"
      },
      "source": [
        "score.append(np.around(grid.best_score_,3))\n",
        "score_models.append('sc_pca_knn')\n",
        "\n",
        "print('Acc с перекрёстной проверкой','\\nдля модели',score_models[2],':',score[2])"
      ],
      "id": "gDpgtPfiY789",
      "execution_count": 22,
      "outputs": [
        {
          "output_type": "stream",
          "name": "stdout",
          "text": [
            "Acc с перекрёстной проверкой \n",
            "для модели sc_pca_knn : 0.99\n"
          ]
        }
      ]
    },
    {
      "cell_type": "markdown",
      "metadata": {
        "id": "041010d5"
      },
      "source": [
        "\n",
        "# Прогноз на отложенные наблюдения по лучшей модели\n",
        "\n",
        "Ещё раз посмотрим на точность построенных моделей.  "
      ],
      "id": "041010d5"
    },
    {
      "cell_type": "code",
      "metadata": {
        "colab": {
          "base_uri": "https://localhost:8080/",
          "height": 142
        },
        "id": "13f506f8",
        "outputId": "cae3be14-c89f-4c9f-ece6-b5b0a9bc22ee"
      },
      "source": [
        "# сводка по точности моделей\n",
        "pd.DataFrame({'Модель' : score_models, 'Acc' : score})"
      ],
      "id": "13f506f8",
      "execution_count": 23,
      "outputs": [
        {
          "output_type": "execute_result",
          "data": {
            "text/html": [
              "<div>\n",
              "<style scoped>\n",
              "    .dataframe tbody tr th:only-of-type {\n",
              "        vertical-align: middle;\n",
              "    }\n",
              "\n",
              "    .dataframe tbody tr th {\n",
              "        vertical-align: top;\n",
              "    }\n",
              "\n",
              "    .dataframe thead th {\n",
              "        text-align: right;\n",
              "    }\n",
              "</style>\n",
              "<table border=\"1\" class=\"dataframe\">\n",
              "  <thead>\n",
              "    <tr style=\"text-align: right;\">\n",
              "      <th></th>\n",
              "      <th>Модель</th>\n",
              "      <th>Acc</th>\n",
              "    </tr>\n",
              "  </thead>\n",
              "  <tbody>\n",
              "    <tr>\n",
              "      <th>0</th>\n",
              "      <td>sc_pca_logit</td>\n",
              "      <td>0.94</td>\n",
              "    </tr>\n",
              "    <tr>\n",
              "      <th>1</th>\n",
              "      <td>sc_pca_svc</td>\n",
              "      <td>1.00</td>\n",
              "    </tr>\n",
              "    <tr>\n",
              "      <th>2</th>\n",
              "      <td>sc_pca_knn</td>\n",
              "      <td>0.99</td>\n",
              "    </tr>\n",
              "  </tbody>\n",
              "</table>\n",
              "</div>"
            ],
            "text/plain": [
              "         Модель   Acc\n",
              "0  sc_pca_logit  0.94\n",
              "1    sc_pca_svc  1.00\n",
              "2    sc_pca_knn  0.99"
            ]
          },
          "metadata": {},
          "execution_count": 23
        }
      ]
    },
    {
      "cell_type": "markdown",
      "metadata": {
        "id": "99c7c905"
      },
      "source": [
        "Все модели показывают хорошую точность по показателю $Acc$, при этом самой точной оказывается модель PCA + SVC. Сделаем прогноз на отложенные наблюдения.   "
      ],
      "id": "99c7c905"
    },
    {
      "cell_type": "code",
      "metadata": {
        "colab": {
          "base_uri": "https://localhost:8080/"
        },
        "id": "6f19fd52",
        "outputId": "9cd141bf-6c3f-4e2f-fc7c-a5cbc7defc09"
      },
      "source": [
        "# прогноз с помощью лучшей модели ансамбля с SVC\n",
        "y_hat=gs.best_estimator_.predict(X=DF_predict.iloc[:, 1:])\n",
        "# точность# характеристики точности\n",
        "print(classification_report(DF_predict.iloc[:,-1],y_hat))"
      ],
      "id": "6f19fd52",
      "execution_count": 24,
      "outputs": [
        {
          "output_type": "stream",
          "name": "stdout",
          "text": [
            "              precision    recall  f1-score   support\n",
            "\n",
            "           0       1.00      1.00      1.00       104\n",
            "           1       1.00      1.00      1.00       136\n",
            "\n",
            "    accuracy                           1.00       240\n",
            "   macro avg       1.00      1.00      1.00       240\n",
            "weighted avg       1.00      1.00      1.00       240\n",
            "\n"
          ]
        }
      ]
    },
    {
      "cell_type": "markdown",
      "metadata": {
        "id": "af39298f"
      },
      "source": [
        "# Источники \n",
        "\n",
        "1. Джеймс Г., Уиттон Д., Хасти Т., Тибширани Р. Введение в статистическое обучение с примерами на языке R. Пер. с англ. С.Э. Мастицкого – М.: ДМК Пресс, 2016 – 450 с.  \n",
        "1. *Рашка С.* Python и машинное обучение: крайне необходимое пособие по новейшей предсказательной аналитике, обязательное для более глубокого понимания методологии машинного обучения / пер. с англ. А.В. Логунова. – М.: ДМК Пресс, 2017. – 418 с.: ил.  \n",
        "1. *Tong Wang*, *Cynthia Rudin*, *Finale Doshi-Velez*, *Yimin Liu*, *Erica Klampfl*, *Perry MacNeille* A Bayesian Framework for Learning Rule Sets for Interpretable Classification / Journal of Machine Learning Research 18 (2017) 1-37. URL: <https://jmlr.org/papers/volume18/16-003/16-003.pdf>  \n",
        "1. *George Pipis* How to Run the Chi-Square Test in Python / medium.com. URL: <https://medium.com/swlh/how-to-run-chi-square-test-in-python-4e9f5d10249d>   \n",
        "1. *Bernd Klein* What are Decision Trees? / python-course.eu. URL: <https://www.python-course.eu/Decision_Trees.php>  \n",
        "1. Pruning decision trees - tutorial / kaggle.com. URL: <https://www.kaggle.com/arunmohan003/pruning-decision-trees-tutorial>  \n",
        "1. Post pruning decision trees with cost complexity pruning / scikit-learn.org. URL: <https://scikit-learn.org/stable/auto_examples/tree/plot_cost_complexity_pruning.html>  \n",
        "1. *Piotr Płoński* Visualize a Decision Tree in 4 Ways with Scikit-Learn and Python / mljar.com. URL: <https://mljar.com/blog/visualize-decision-tree/>  \n",
        "1. Random Forest Feature Importance Plot / www.analyseup.com. URL: <https://www.analyseup.com/learn-python-for-data-science/python-random-forest-feature-importance-plot.html>  "
      ],
      "id": "af39298f"
    }
  ]
}