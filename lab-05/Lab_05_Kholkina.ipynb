{
  "nbformat": 4,
  "nbformat_minor": 5,
  "metadata": {
    "colab": {
      "name": "Lab-05_Kholkina.ipynb",
      "provenance": [],
      "collapsed_sections": [
        "af39298f"
      ]
    },
    "kernelspec": {
      "display_name": "Python 3",
      "language": "python",
      "name": "python3"
    },
    "language_info": {
      "codemirror_mode": {
        "name": "ipython",
        "version": 3
      },
      "file_extension": ".py",
      "mimetype": "text/x-python",
      "name": "python",
      "nbconvert_exporter": "python",
      "pygments_lexer": "ipython3",
      "version": "3.8.8"
    }
  },
  "cells": [
    {
      "cell_type": "markdown",
      "metadata": {
        "id": "6b8b1c8d"
      },
      "source": [
        "`Дисциплина: Методы и технологии машинного обучения`   \n",
        "`Уровень подготовки: бакалавриат`   \n",
        "`Направление подготовки: 01.03.02 Прикладная математика и информатика`   \n",
        "`Семестр: осень 2021/2022`\n",
        "\n",
        "Холькина А.А.\n",
        "**ВАРИАНТ: 3, БУСТИНГ**"
      ],
      "id": "6b8b1c8d"
    },
    {
      "cell_type": "code",
      "metadata": {
        "colab": {
          "base_uri": "https://localhost:8080/",
          "height": 17
        },
        "id": "8c915500",
        "outputId": "76fde6e5-49f7-420a-e7b8-7a362d96cdf5"
      },
      "source": [
        "# настройка ширины страницы блокнота .......................................\n",
        "from IPython.core.display import display, HTML\n",
        "display(HTML(\"<style>.container { width:80% !important; }</style>\"))\n",
        "\n",
        "# расширение watermark для вывода информации о версиях пакетов\n",
        "#  https://github.com/rasbt/watermark\n",
        "# установка: командная строка - pip install watermark\n",
        "# %load_ext watermark"
      ],
      "id": "8c915500",
      "execution_count": 1,
      "outputs": [
        {
          "output_type": "display_data",
          "data": {
            "text/html": [
              "<style>.container { width:80% !important; }</style>"
            ],
            "text/plain": [
              "<IPython.core.display.HTML object>"
            ]
          },
          "metadata": {}
        }
      ]
    },
    {
      "cell_type": "markdown",
      "metadata": {
        "id": "1fc5c8ab"
      },
      "source": [
        "# Лабораторная работа №5: Методы, основанные на деревьях решений. Регрессионные деревья. Деревья классификации. Случайный лес. Бустинг.  \n",
        "\n",
        "В практических примерах ниже показано:   \n",
        "\n",
        "* как делать перекодировку признаков в номинальной и порядковой шкалах\n",
        "* как вырастить дерево и сделать обрезку его ветвей   \n",
        "* как настроить модель бэггинга   \n",
        "* как вырастить случайный лес  \n",
        "* как настроить модель бустинга на деревьях решений  \n",
        "* как подбирать настроечные параметры моделей методом сеточного поиска  \n",
        "\n",
        "Точность всех моделей оценивается методом перекрёстной проверки по 5 блокам.  \n",
        "\n",
        "*Модели*: дерево классификации, бэггинг, случайный лес, бустинг, дерево регрессии  \n"
      ],
      "id": "1fc5c8ab"
    },
    {
      "cell_type": "markdown",
      "metadata": {
        "id": "61b9ab5d"
      },
      "source": [
        "# Указания к выполнению\n",
        "\n",
        "\n",
        "## Загружаем пакеты"
      ],
      "id": "61b9ab5d"
    },
    {
      "cell_type": "code",
      "metadata": {
        "id": "c8fa189c"
      },
      "source": [
        "# загрузка пакетов: инструменты --------------------------------------------\n",
        "#  работа с массивами\n",
        "import numpy as np\n",
        "#  фреймы данных\n",
        "import pandas as pd\n",
        "#  графики\n",
        "import matplotlib as mpl\n",
        "#  стили и шаблоны графиков на основе matplotlib\n",
        "import seaborn as sns\n",
        "# загрузка файлов по URL\n",
        "import urllib\n",
        "# проверка существования файла на диске\n",
        "from pathlib import Path\n",
        "# для форматирования результатов с помощью Markdown\n",
        "from IPython.display import Markdown, display\n",
        "# перекодировка категориальных переменных\n",
        "from sklearn.preprocessing import OrdinalEncoder, OneHotEncoder\n",
        "# хи-квадрат тест на независимость по таблице сопряжённости\n",
        "from scipy.stats import chi2_contingency\n",
        "#  для таймера\n",
        "import time\n",
        "\n",
        "# загрузка пакетов: данные -------------------------------------------------\n",
        "from sklearn import datasets\n",
        "\n",
        "# загрузка пакетов: модели -------------------------------------------------\n",
        "#  дерево классификации\n",
        "from sklearn.tree import DecisionTreeClassifier, export_text, plot_tree\n",
        "# перекрёстная проверка и метод проверочной выборки\n",
        "from sklearn.model_selection import cross_val_score, train_test_split\n",
        "# для перекрёстной проверки и сеточного поиска\n",
        "from sklearn.model_selection import KFold, GridSearchCV\n",
        "# бэггинг\n",
        "from sklearn.ensemble import BaggingClassifier\n",
        "# случайный лес\n",
        "from sklearn.ensemble import RandomForestClassifier\n",
        "# бустинг\n",
        "from sklearn.ensemble import GradientBoostingClassifier\n",
        "#  сводка по точности классификации\n",
        "from sklearn.metrics import classification_report"
      ],
      "id": "c8fa189c",
      "execution_count": 2,
      "outputs": []
    },
    {
      "cell_type": "code",
      "metadata": {
        "id": "43a4a48e"
      },
      "source": [
        "# константы\n",
        "#  ядро для генератора случайных чисел\n",
        "my_seed = 3\n",
        "#  создаём псевдоним для короткого обращения к графикам\n",
        "plt = mpl.pyplot\n",
        "# настройка стиля и отображения графиков\n",
        "#  примеры стилей и шаблонов графиков: \n",
        "#  http://tonysyu.github.io/raw_content/matplotlib-style-gallery/gallery.html\n",
        "mpl.style.use('seaborn-whitegrid')\n",
        "sns.set_palette(\"Set2\")\n",
        "# раскомментируйте следующую строку, чтобы посмотреть палитру\n",
        "# sns.color_palette(\"Set2\")"
      ],
      "id": "43a4a48e",
      "execution_count": 3,
      "outputs": []
    },
    {
      "cell_type": "code",
      "metadata": {
        "id": "907a2353"
      },
      "source": [
        "# функция форматирования результатов с использованием Markdown\n",
        "def printmd(string):\n",
        "    display(Markdown(string))\n",
        "    \n",
        "# функции для попарной конкатенации элементов двух списков\n",
        "concat_func_md = lambda x, y: '`' + str(x) + \"`:&ensp;&ensp;&ensp;&ensp;\" + str(y)\n",
        "concat_func = lambda x, y: str(x) + ' ' * 4 + str(y)\n",
        "\n",
        "\n",
        "# функция, которая строит график важности признаков в модели случайного леса\n",
        "#  источник: https://www.analyseup.com/learn-python-for-data-science/python-random-forest-feature-importance-plot.html\n",
        "def plot_feature_importance(importance, names, model_type) :\n",
        "    #Create arrays from feature importance and feature names\n",
        "    feature_importance = np.array(importance)\n",
        "    feature_names = np.array(names)\n",
        "\n",
        "    #Create a DataFrame using a Dictionary\n",
        "    data={'feature_names':feature_names,'feature_importance':feature_importance}\n",
        "    fi_df = pd.DataFrame(data)\n",
        "\n",
        "    #Sort the DataFrame in order decreasing feature importance\n",
        "    fi_df.sort_values(by=['feature_importance'], ascending=False,\n",
        "                      inplace=True)\n",
        "\n",
        "    #Define size of bar plot\n",
        "    plt.figure(figsize=(10,8))\n",
        "    #Plot Searborn bar chart\n",
        "    sns.barplot(x=fi_df['feature_importance'], y=fi_df['feature_names'])\n",
        "    #Add chart labels\n",
        "    plt.title('Важность признаков в модели: ' + model_type)\n",
        "    plt.xlabel('Важность признака')\n",
        "    plt.ylabel('')"
      ],
      "id": "907a2353",
      "execution_count": 4,
      "outputs": []
    },
    {
      "cell_type": "markdown",
      "metadata": {
        "id": "87618f1b"
      },
      "source": [
        "## Загружаем данные\n",
        "\n",
        "Набор данных можно загрузить напрямую по ссылке: <https://raw.githubusercontent.com/aksyuk/MTML/main/Labs/data/in-vehicle-coupon-recommendation.csv>. Справочник к данным доступен по адресу: <https://github.com/aksyuk/MTML/blob/main/Labs/data/CodeBook_in-vehicle-coupon-recommendation.md>.    \n",
        "\n",
        "Загружаем данные во фрейм и выясняем их размерность. В таблице много строк, поэтому для экономии времени загрузку сделаем в два шага: сначала скачаем таблицу и сохраним в папку `'./data'`, затем прочитаем её во фрейм. Перед скачиванием проверим, нет ли уже такого файла в папке с данными.  "
      ],
      "id": "87618f1b"
    },
    {
      "cell_type": "code",
      "metadata": {
        "colab": {
          "base_uri": "https://localhost:8080/"
        },
        "id": "a7e42f2c",
        "outputId": "1e3a1763-e779-452e-a05a-3298c49efd30"
      },
      "source": [
        "\n",
        "fileURL = 'https://raw.githubusercontent.com/aksyuk/MTML/main/Labs/data/winequality-red_for_lab.csv'\n",
        "\n",
        "DF_raw = pd.read_csv(fileURL)\n",
        "\n",
        "# выясняем размерность фрейма\n",
        "print('Число строк и столбцов в наборе данных:\\n', DF_raw.shape)"
      ],
      "id": "a7e42f2c",
      "execution_count": 5,
      "outputs": [
        {
          "output_type": "stream",
          "name": "stdout",
          "text": [
            "Число строк и столбцов в наборе данных:\n",
            " (1599, 13)\n"
          ]
        }
      ]
    },
    {
      "cell_type": "code",
      "metadata": {
        "id": "xsKMN9zhB6r3"
      },
      "source": [
        "DF_raw = DF_raw.drop([\"citric_acid\", \"density\", \"quality\"], axis = 1)"
      ],
      "id": "xsKMN9zhB6r3",
      "execution_count": 6,
      "outputs": []
    },
    {
      "cell_type": "code",
      "metadata": {
        "colab": {
          "base_uri": "https://localhost:8080/"
        },
        "id": "07670649",
        "outputId": "91cfd538-b48c-4fe3-871b-3b9bb76cbcc3"
      },
      "source": [
        "# типы столбцов\n",
        "DF_raw.dtypes"
      ],
      "id": "07670649",
      "execution_count": 7,
      "outputs": [
        {
          "output_type": "execute_result",
          "data": {
            "text/plain": [
              "fixed_acidity           float64\n",
              "volatile_acidity        float64\n",
              "residual_sugar          float64\n",
              "chlorides               float64\n",
              "free_sulfur_dioxide     float64\n",
              "total_sulfur_dioxide    float64\n",
              "pH                      float64\n",
              "sulphates               float64\n",
              "alcohol                 float64\n",
              "Y                         int64\n",
              "dtype: object"
            ]
          },
          "metadata": {},
          "execution_count": 7
        }
      ]
    },
    {
      "cell_type": "markdown",
      "metadata": {
        "id": "0fe68e45"
      },
      "source": [
        "Все ок, перекодировка не требуется."
      ],
      "id": "0fe68e45"
    },
    {
      "cell_type": "code",
      "metadata": {
        "colab": {
          "base_uri": "https://localhost:8080/",
          "height": 268
        },
        "id": "fca342e8",
        "outputId": "c56dc1d1-e7fd-49d4-8a7e-f0648253c741"
      },
      "source": [
        "# первые 7 строк столбцов типа int64\n",
        "DF_raw.loc[:, DF_raw.columns[DF_raw.dtypes == 'int64']].head(7)"
      ],
      "id": "fca342e8",
      "execution_count": 8,
      "outputs": [
        {
          "output_type": "execute_result",
          "data": {
            "text/html": [
              "<div>\n",
              "<style scoped>\n",
              "    .dataframe tbody tr th:only-of-type {\n",
              "        vertical-align: middle;\n",
              "    }\n",
              "\n",
              "    .dataframe tbody tr th {\n",
              "        vertical-align: top;\n",
              "    }\n",
              "\n",
              "    .dataframe thead th {\n",
              "        text-align: right;\n",
              "    }\n",
              "</style>\n",
              "<table border=\"1\" class=\"dataframe\">\n",
              "  <thead>\n",
              "    <tr style=\"text-align: right;\">\n",
              "      <th></th>\n",
              "      <th>Y</th>\n",
              "    </tr>\n",
              "  </thead>\n",
              "  <tbody>\n",
              "    <tr>\n",
              "      <th>0</th>\n",
              "      <td>0</td>\n",
              "    </tr>\n",
              "    <tr>\n",
              "      <th>1</th>\n",
              "      <td>0</td>\n",
              "    </tr>\n",
              "    <tr>\n",
              "      <th>2</th>\n",
              "      <td>0</td>\n",
              "    </tr>\n",
              "    <tr>\n",
              "      <th>3</th>\n",
              "      <td>1</td>\n",
              "    </tr>\n",
              "    <tr>\n",
              "      <th>4</th>\n",
              "      <td>0</td>\n",
              "    </tr>\n",
              "    <tr>\n",
              "      <th>5</th>\n",
              "      <td>0</td>\n",
              "    </tr>\n",
              "    <tr>\n",
              "      <th>6</th>\n",
              "      <td>0</td>\n",
              "    </tr>\n",
              "  </tbody>\n",
              "</table>\n",
              "</div>"
            ],
            "text/plain": [
              "   Y\n",
              "0  0\n",
              "1  0\n",
              "2  0\n",
              "3  1\n",
              "4  0\n",
              "5  0\n",
              "6  0"
            ]
          },
          "metadata": {},
          "execution_count": 8
        }
      ]
    },
    {
      "cell_type": "markdown",
      "metadata": {
        "id": "5ce7ffd1"
      },
      "source": [
        "Отложим 15% наблюдений для прогноза.  "
      ],
      "id": "5ce7ffd1"
    },
    {
      "cell_type": "code",
      "metadata": {
        "id": "13f9300b"
      },
      "source": [
        "# наблюдения для моделирования\n",
        "DF = DF_raw.sample(frac=0.85, random_state=my_seed)\n",
        "# отложенные наблюдения\n",
        "DF_predict = DF_raw.drop(DF.index)"
      ],
      "id": "13f9300b",
      "execution_count": 9,
      "outputs": []
    },
    {
      "cell_type": "code",
      "metadata": {
        "colab": {
          "base_uri": "https://localhost:8080/",
          "height": 205
        },
        "id": "Dbzz4XKICRd7",
        "outputId": "fc4e5bc7-e100-429f-ecd2-ae0a815eaad5"
      },
      "source": [
        "DF.head(5)"
      ],
      "id": "Dbzz4XKICRd7",
      "execution_count": 10,
      "outputs": [
        {
          "output_type": "execute_result",
          "data": {
            "text/html": [
              "<div>\n",
              "<style scoped>\n",
              "    .dataframe tbody tr th:only-of-type {\n",
              "        vertical-align: middle;\n",
              "    }\n",
              "\n",
              "    .dataframe tbody tr th {\n",
              "        vertical-align: top;\n",
              "    }\n",
              "\n",
              "    .dataframe thead th {\n",
              "        text-align: right;\n",
              "    }\n",
              "</style>\n",
              "<table border=\"1\" class=\"dataframe\">\n",
              "  <thead>\n",
              "    <tr style=\"text-align: right;\">\n",
              "      <th></th>\n",
              "      <th>fixed_acidity</th>\n",
              "      <th>volatile_acidity</th>\n",
              "      <th>residual_sugar</th>\n",
              "      <th>chlorides</th>\n",
              "      <th>free_sulfur_dioxide</th>\n",
              "      <th>total_sulfur_dioxide</th>\n",
              "      <th>pH</th>\n",
              "      <th>sulphates</th>\n",
              "      <th>alcohol</th>\n",
              "      <th>Y</th>\n",
              "    </tr>\n",
              "  </thead>\n",
              "  <tbody>\n",
              "    <tr>\n",
              "      <th>147</th>\n",
              "      <td>7.6</td>\n",
              "      <td>0.490</td>\n",
              "      <td>1.6</td>\n",
              "      <td>0.236</td>\n",
              "      <td>10.0</td>\n",
              "      <td>88.0</td>\n",
              "      <td>3.11</td>\n",
              "      <td>0.80</td>\n",
              "      <td>9.3</td>\n",
              "      <td>0</td>\n",
              "    </tr>\n",
              "    <tr>\n",
              "      <th>937</th>\n",
              "      <td>12.0</td>\n",
              "      <td>0.630</td>\n",
              "      <td>1.4</td>\n",
              "      <td>0.071</td>\n",
              "      <td>6.0</td>\n",
              "      <td>26.0</td>\n",
              "      <td>3.07</td>\n",
              "      <td>0.60</td>\n",
              "      <td>10.4</td>\n",
              "      <td>0</td>\n",
              "    </tr>\n",
              "    <tr>\n",
              "      <th>877</th>\n",
              "      <td>7.7</td>\n",
              "      <td>0.715</td>\n",
              "      <td>2.1</td>\n",
              "      <td>0.064</td>\n",
              "      <td>31.0</td>\n",
              "      <td>43.0</td>\n",
              "      <td>3.41</td>\n",
              "      <td>0.57</td>\n",
              "      <td>11.8</td>\n",
              "      <td>1</td>\n",
              "    </tr>\n",
              "    <tr>\n",
              "      <th>1000</th>\n",
              "      <td>7.5</td>\n",
              "      <td>0.430</td>\n",
              "      <td>2.2</td>\n",
              "      <td>0.062</td>\n",
              "      <td>6.0</td>\n",
              "      <td>12.0</td>\n",
              "      <td>3.44</td>\n",
              "      <td>0.72</td>\n",
              "      <td>11.5</td>\n",
              "      <td>1</td>\n",
              "    </tr>\n",
              "    <tr>\n",
              "      <th>73</th>\n",
              "      <td>8.3</td>\n",
              "      <td>0.675</td>\n",
              "      <td>2.1</td>\n",
              "      <td>0.084</td>\n",
              "      <td>11.0</td>\n",
              "      <td>43.0</td>\n",
              "      <td>3.31</td>\n",
              "      <td>0.53</td>\n",
              "      <td>9.2</td>\n",
              "      <td>0</td>\n",
              "    </tr>\n",
              "  </tbody>\n",
              "</table>\n",
              "</div>"
            ],
            "text/plain": [
              "      fixed_acidity  volatile_acidity  residual_sugar  ...  sulphates  alcohol  Y\n",
              "147             7.6             0.490             1.6  ...       0.80      9.3  0\n",
              "937            12.0             0.630             1.4  ...       0.60     10.4  0\n",
              "877             7.7             0.715             2.1  ...       0.57     11.8  1\n",
              "1000            7.5             0.430             2.2  ...       0.72     11.5  1\n",
              "73              8.3             0.675             2.1  ...       0.53      9.2  0\n",
              "\n",
              "[5 rows x 10 columns]"
            ]
          },
          "metadata": {},
          "execution_count": 10
        }
      ]
    },
    {
      "cell_type": "code",
      "metadata": {
        "colab": {
          "base_uri": "https://localhost:8080/",
          "height": 205
        },
        "id": "LTUe3LAECUoL",
        "outputId": "a2048b5f-3247-4417-ac42-3bb836e1529e"
      },
      "source": [
        "DF_predict.head(5)"
      ],
      "id": "LTUe3LAECUoL",
      "execution_count": 11,
      "outputs": [
        {
          "output_type": "execute_result",
          "data": {
            "text/html": [
              "<div>\n",
              "<style scoped>\n",
              "    .dataframe tbody tr th:only-of-type {\n",
              "        vertical-align: middle;\n",
              "    }\n",
              "\n",
              "    .dataframe tbody tr th {\n",
              "        vertical-align: top;\n",
              "    }\n",
              "\n",
              "    .dataframe thead th {\n",
              "        text-align: right;\n",
              "    }\n",
              "</style>\n",
              "<table border=\"1\" class=\"dataframe\">\n",
              "  <thead>\n",
              "    <tr style=\"text-align: right;\">\n",
              "      <th></th>\n",
              "      <th>fixed_acidity</th>\n",
              "      <th>volatile_acidity</th>\n",
              "      <th>residual_sugar</th>\n",
              "      <th>chlorides</th>\n",
              "      <th>free_sulfur_dioxide</th>\n",
              "      <th>total_sulfur_dioxide</th>\n",
              "      <th>pH</th>\n",
              "      <th>sulphates</th>\n",
              "      <th>alcohol</th>\n",
              "      <th>Y</th>\n",
              "    </tr>\n",
              "  </thead>\n",
              "  <tbody>\n",
              "    <tr>\n",
              "      <th>2</th>\n",
              "      <td>7.8</td>\n",
              "      <td>0.760</td>\n",
              "      <td>2.3</td>\n",
              "      <td>0.092</td>\n",
              "      <td>15.0</td>\n",
              "      <td>54.0</td>\n",
              "      <td>3.26</td>\n",
              "      <td>0.65</td>\n",
              "      <td>9.8</td>\n",
              "      <td>0</td>\n",
              "    </tr>\n",
              "    <tr>\n",
              "      <th>12</th>\n",
              "      <td>5.6</td>\n",
              "      <td>0.615</td>\n",
              "      <td>1.6</td>\n",
              "      <td>0.089</td>\n",
              "      <td>16.0</td>\n",
              "      <td>59.0</td>\n",
              "      <td>3.58</td>\n",
              "      <td>0.52</td>\n",
              "      <td>9.9</td>\n",
              "      <td>0</td>\n",
              "    </tr>\n",
              "    <tr>\n",
              "      <th>13</th>\n",
              "      <td>7.8</td>\n",
              "      <td>0.610</td>\n",
              "      <td>1.6</td>\n",
              "      <td>0.114</td>\n",
              "      <td>9.0</td>\n",
              "      <td>29.0</td>\n",
              "      <td>3.26</td>\n",
              "      <td>1.56</td>\n",
              "      <td>9.1</td>\n",
              "      <td>0</td>\n",
              "    </tr>\n",
              "    <tr>\n",
              "      <th>17</th>\n",
              "      <td>8.1</td>\n",
              "      <td>0.560</td>\n",
              "      <td>1.7</td>\n",
              "      <td>0.368</td>\n",
              "      <td>16.0</td>\n",
              "      <td>56.0</td>\n",
              "      <td>3.11</td>\n",
              "      <td>1.28</td>\n",
              "      <td>9.3</td>\n",
              "      <td>0</td>\n",
              "    </tr>\n",
              "    <tr>\n",
              "      <th>26</th>\n",
              "      <td>7.6</td>\n",
              "      <td>0.410</td>\n",
              "      <td>1.8</td>\n",
              "      <td>0.080</td>\n",
              "      <td>4.0</td>\n",
              "      <td>11.0</td>\n",
              "      <td>3.28</td>\n",
              "      <td>0.59</td>\n",
              "      <td>9.5</td>\n",
              "      <td>0</td>\n",
              "    </tr>\n",
              "  </tbody>\n",
              "</table>\n",
              "</div>"
            ],
            "text/plain": [
              "    fixed_acidity  volatile_acidity  residual_sugar  ...  sulphates  alcohol  Y\n",
              "2             7.8             0.760             2.3  ...       0.65      9.8  0\n",
              "12            5.6             0.615             1.6  ...       0.52      9.9  0\n",
              "13            7.8             0.610             1.6  ...       1.56      9.1  0\n",
              "17            8.1             0.560             1.7  ...       1.28      9.3  0\n",
              "26            7.6             0.410             1.8  ...       0.59      9.5  0\n",
              "\n",
              "[5 rows x 10 columns]"
            ]
          },
          "metadata": {},
          "execution_count": 11
        }
      ]
    },
    {
      "cell_type": "markdown",
      "metadata": {
        "id": "1635163a"
      },
      "source": [
        "# Предварительный анализ данных  \n",
        "\n",
        "## Описательные статистики  \n",
        "\n",
        "Стандартный подсчёт статистик с помощью фунции `describe()` бесполезен для категориальных столбцов, поэтому рассчитаем частоты категорий по каждому столбцу. Для вывода отчёта воспользуемся форматированием на Markdown.   "
      ],
      "id": "1635163a"
    },
    {
      "cell_type": "code",
      "metadata": {
        "id": "LSiIt87kmx6h"
      },
      "source": [
        "DF_int = DF_raw.loc[:, DF_raw.columns[DF_raw.dtypes == 'int64']].head(7)"
      ],
      "id": "LSiIt87kmx6h",
      "execution_count": 12,
      "outputs": []
    },
    {
      "cell_type": "code",
      "metadata": {
        "colab": {
          "base_uri": "https://localhost:8080/",
          "height": 83
        },
        "id": "78108987",
        "outputId": "3eacc482-fb99-4bf7-f163-50bcaa7c5bda"
      },
      "source": [
        "# считаем частоты по столбцам, учитывая пропуски\n",
        "for col in DF_int.columns:\n",
        "    freq_col = DF[col].value_counts(dropna=False)\n",
        "    str_freqs = np.around(freq_col / sum(freq_col), 3).astype(str)\n",
        "    str_names = freq_col.index.values\n",
        "    # для вывода в html\n",
        "    printmd('**' + col + '**</br>' + \n",
        "            '</br>'.join(list(map(concat_func_md, str_names, str_freqs))))\n",
        "    # для сохранения в pdf\n",
        "    # print('\\n', col, '\\n', \n",
        "    #       '\\n'.join(list(map(concat_func, str_names, str_freqs))))"
      ],
      "id": "78108987",
      "execution_count": 13,
      "outputs": [
        {
          "output_type": "display_data",
          "data": {
            "text/markdown": "**Y**</br>`1`:&ensp;&ensp;&ensp;&ensp;0.529</br>`0`:&ensp;&ensp;&ensp;&ensp;0.471",
            "text/plain": [
              "<IPython.core.display.Markdown object>"
            ]
          },
          "metadata": {}
        }
      ]
    },
    {
      "cell_type": "markdown",
      "metadata": {
        "id": "d4a540a2"
      },
      "source": [
        "Ещё раз оценим количество пропусков.  "
      ],
      "id": "d4a540a2"
    },
    {
      "cell_type": "code",
      "metadata": {
        "colab": {
          "base_uri": "https://localhost:8080/"
        },
        "id": "42a96cd9",
        "outputId": "ec83407d-3842-461c-91ac-d62062615e7b"
      },
      "source": [
        "# считаем пропуски в столбцах, выводим ненулевые значения\n",
        "nas = DF.isna().sum()\n",
        "nas = np.around(nas / DF.shape[0], 3)\n",
        "nas[nas > 0]"
      ],
      "id": "42a96cd9",
      "execution_count": 14,
      "outputs": [
        {
          "output_type": "execute_result",
          "data": {
            "text/plain": [
              "Series([], dtype: float64)"
            ]
          },
          "metadata": {},
          "execution_count": 14
        }
      ]
    },
    {
      "cell_type": "markdown",
      "metadata": {
        "id": "b618a25b"
      },
      "source": [
        "Пропусков не обнаружено."
      ],
      "id": "b618a25b"
    },
    {
      "cell_type": "markdown",
      "metadata": {
        "id": "f8992461"
      },
      "source": [
        "## Распределение предикторов внутри классов  по зависимой переменной\n",
        "\n",
        "Все объясняющие переменные являются категориальными, поэтому оценивать их связь с зависимой переменной с помощью корреляционной матрицы некорректно. Вместо этого можно воспользоваться [критерием согласия Хи-квадрат](https://ru.wikipedia.org/wiki/%D0%9A%D1%80%D0%B8%D1%82%D0%B5%D1%80%D0%B8%D0%B9_%D1%81%D0%BE%D0%B3%D0%BB%D0%B0%D1%81%D0%B8%D1%8F_%D0%9F%D0%B8%D1%80%D1%81%D0%BE%D0%BD%D0%B0), который рассчитывается по таблице сопряжённости. Нулевая гипотеза теста: распределение долей в таблице сопряжённости случайно, т.е. два показателя независимы друг от друга.     \n",
        "Проведём тест для всех пар \"объясняющая переменная\" – \"зависимая переменная\" и выведем те пары, для которых соответствующее критерию p-значение больше 0.05 (т.е. нулевая гипотеза принимается, переменные независимы).  "
      ],
      "id": "f8992461"
    },
    {
      "cell_type": "code",
      "metadata": {
        "colab": {
          "base_uri": "https://localhost:8080/"
        },
        "id": "14078cd3",
        "outputId": "96468cb2-0728-476a-ef31-832c2ff0fc99"
      },
      "source": [
        "for col in DF.columns[:24] :\n",
        "    con_tab = pd.crosstab(DF[col], DF['Y'])\n",
        "    c, p, dof, expected = chi2_contingency(con_tab)\n",
        "    if p > 0.05 :\n",
        "        print(col, 'и Y',\n",
        "              '\\nH_0: переменные распределены независимо друг от друга', \n",
        "              '\\nP-значение:', np.around(p, 4))"
      ],
      "id": "14078cd3",
      "execution_count": 15,
      "outputs": [
        {
          "output_type": "stream",
          "name": "stdout",
          "text": [
            "free_sulfur_dioxide и Y \n",
            "H_0: переменные распределены независимо друг от друга \n",
            "P-значение: 0.259\n"
          ]
        }
      ]
    },
    {
      "cell_type": "markdown",
      "metadata": {
        "id": "d3a48810"
      },
      "source": [
        "# Модель дерева  \n",
        "\n",
        "В этом разделе построим:  \n",
        "\n",
        "* дерево классификации  \n",
        "* дерево классификации с обрезкой ветвей  \n",
        "\n",
        "\n",
        "## Дерево на всех признаках    \n",
        "\n",
        "Построим модель и выведем изображение дерева в виде текста.  "
      ],
      "id": "d3a48810"
    },
    {
      "cell_type": "code",
      "metadata": {
        "colab": {
          "base_uri": "https://localhost:8080/"
        },
        "id": "688312d9",
        "outputId": "f3fbd998-83fc-4c03-e2b0-e79564dfc4ad"
      },
      "source": [
        "# выращиваем дерево на всех объясняющих\n",
        "X = DF.drop(['Y'], axis=1)\n",
        "y = DF['Y']\n",
        "\n",
        "# классификатор\n",
        "cls_one_tree = DecisionTreeClassifier(criterion='entropy',\n",
        "                                      random_state=my_seed)\n",
        "\n",
        "tree_full = cls_one_tree.fit(X, y)\n",
        "\n",
        "# выводим количество листьев (количество конечных узлов)\n",
        "tree_full.get_n_leaves()"
      ],
      "id": "688312d9",
      "execution_count": 16,
      "outputs": [
        {
          "output_type": "execute_result",
          "data": {
            "text/plain": [
              "217"
            ]
          },
          "metadata": {},
          "execution_count": 16
        }
      ]
    },
    {
      "cell_type": "code",
      "metadata": {
        "colab": {
          "base_uri": "https://localhost:8080/"
        },
        "id": "cce2b6f3",
        "outputId": "aa7ce1fc-1571-4543-c965-15cb1a4a09c2"
      },
      "source": [
        "# глубина дерева: количество узлов от корня до листа\n",
        "#  в самой длинной ветви\n",
        "tree_full.get_depth()"
      ],
      "id": "cce2b6f3",
      "execution_count": 17,
      "outputs": [
        {
          "output_type": "execute_result",
          "data": {
            "text/plain": [
              "19"
            ]
          },
          "metadata": {},
          "execution_count": 17
        }
      ]
    },
    {
      "cell_type": "markdown",
      "metadata": {
        "id": "4fa61de0"
      },
      "source": [
        "Очевидно, дерево получилось слишком большое для отображения в текстовом формате. Графическая визуализация тоже не поможет в данном случае. Посчитаем показатели точности с перекрёстной проверкой.   "
      ],
      "id": "4fa61de0"
    },
    {
      "cell_type": "code",
      "metadata": {
        "colab": {
          "base_uri": "https://localhost:8080/"
        },
        "id": "a0127bc8",
        "outputId": "ab15b72a-3c9f-48ac-c155-0807cb7e707a"
      },
      "source": [
        "# будем сохранять точность моделей в один массив:\n",
        "score = list()\n",
        "score_models = list()\n",
        "\n",
        "# считаем точность с перекрёстной проверкой, показатель Acc\n",
        "cv = cross_val_score(estimator=cls_one_tree, X=X, y=y, cv=5,\n",
        "                     scoring='accuracy')\n",
        "\n",
        "# записываем точность\n",
        "score.append(np.around(np.mean(cv), 3))\n",
        "score_models.append('one_tree')\n",
        "\n",
        "print('Acc с перекрёстной проверкой',\n",
        "      '\\nдля модели', score_models[0], ':', score[0])"
      ],
      "id": "a0127bc8",
      "execution_count": 18,
      "outputs": [
        {
          "output_type": "stream",
          "name": "stdout",
          "text": [
            "Acc с перекрёстной проверкой \n",
            "для модели one_tree : 0.751\n"
          ]
        }
      ]
    },
    {
      "cell_type": "markdown",
      "metadata": {
        "id": "pf0gpFpwqkPE"
      },
      "source": [
        "Точность получилась довольно хорошей."
      ],
      "id": "pf0gpFpwqkPE"
    },
    {
      "cell_type": "markdown",
      "metadata": {
        "id": "e66a2df5"
      },
      "source": [
        "## Дерево с обрезкой ветвей   \n",
        "\n",
        "Подберём оптимальное количество ветвей, которое максимизирует $Acc$, для экономии времени рассчитанный методом проверочной выборки.  "
      ],
      "id": "e66a2df5"
    },
    {
      "cell_type": "code",
      "metadata": {
        "colab": {
          "base_uri": "https://localhost:8080/"
        },
        "id": "2935464d",
        "outputId": "295af4e1-a5bf-49aa-f806-1fccbd97c9e8"
      },
      "source": [
        "# рассчитываем параметры alpha для эффективных вариантов обрезки ветвей\n",
        "path = cls_one_tree.cost_complexity_pruning_path(X, y)\n",
        "ccp_alphas, impurities = path.ccp_alphas, path.impurities\n",
        "print('Всего значений alpha:', len(ccp_alphas))\n",
        "print('Энтропия листьев для первых 5 значений alpha:', impurities[:5])"
      ],
      "id": "2935464d",
      "execution_count": 19,
      "outputs": [
        {
          "output_type": "stream",
          "name": "stdout",
          "text": [
            "Всего значений alpha: 131\n",
            "Энтропия листьев для первых 5 значений alpha: [0.         0.0026561  0.00552596 0.00839581 0.00986748]\n"
          ]
        }
      ]
    },
    {
      "cell_type": "code",
      "metadata": {
        "colab": {
          "base_uri": "https://localhost:8080/",
          "height": 291
        },
        "id": "701c413e",
        "outputId": "a58b1eb1-7ade-4e37-8131-58410383bc6a"
      },
      "source": [
        "# изображаем на графике\n",
        "plt.plot(ccp_alphas[:-1], impurities[:-1], marker=',', drawstyle=\"steps-post\")\n",
        "plt.xlabel(\"значение гиперпараметра alpha\")\n",
        "plt.ylabel(\"общая энтропия листьев дерева\")\n",
        "plt.title(\"Изменение показателя нечистоты узлов с ростом alpha\")\n",
        "plt.show()"
      ],
      "id": "701c413e",
      "execution_count": 20,
      "outputs": [
        {
          "output_type": "display_data",
          "data": {
            "image/png": "[encoded data removed]",
            "text/plain": [
              "<Figure size 432x288 with 1 Axes>"
            ]
          },
          "metadata": {}
        }
      ]
    },
    {
      "cell_type": "code",
      "metadata": {
        "colab": {
          "base_uri": "https://localhost:8080/"
        },
        "id": "d3276234",
        "outputId": "926e054f-9504-4590-f335-6ba177032973"
      },
      "source": [
        "# обучающая и тестовая выборки, чтобы сэкономить время\n",
        "X_train, X_test, y_train, y_test = train_test_split(X, y, \n",
        "                                                    random_state=my_seed)\n",
        "\n",
        "# модели\n",
        "clfs = list()\n",
        "\n",
        "# таймер\n",
        "tic = time.perf_counter()\n",
        "# цикл по значениям alpha\n",
        "for ccp_alpha in ccp_alphas:\n",
        "    clf = DecisionTreeClassifier(random_state=my_seed, ccp_alpha=ccp_alpha)\n",
        "    clf.fit(X_train, y_train)\n",
        "    clfs.append(clf)\n",
        "\n",
        "# таймер\n",
        "toc = time.perf_counter()\n",
        "print(f\"Расчёты по обрезке дерева заняли {toc - tic:0.2f} секунд\")"
      ],
      "id": "d3276234",
      "execution_count": 21,
      "outputs": [
        {
          "output_type": "stream",
          "name": "stdout",
          "text": [
            "Расчёты по обрезке дерева заняли 0.76 секунд\n"
          ]
        }
      ]
    },
    {
      "cell_type": "code",
      "metadata": {
        "colab": {
          "base_uri": "https://localhost:8080/"
        },
        "id": "33434419",
        "outputId": "765b21dc-54c5-4568-832e-2f2582202ef3"
      },
      "source": [
        "# извлекаем характеристики глубины и точности\n",
        "#  таймер\n",
        "tic = time.perf_counter()\n",
        "node_counts = [clf.tree_.node_count for clf in clfs]\n",
        "train_scores = [clf.score(X_train, y_train) for clf in clfs]\n",
        "test_scores = [clf.score(X_test, y_test) for clf in clfs]\n",
        "#  таймер\n",
        "toc = time.perf_counter()\n",
        "print(f\"Расчёты показателей точности заняли {toc - tic:0.2f} секунд\")"
      ],
      "id": "33434419",
      "execution_count": 22,
      "outputs": [
        {
          "output_type": "stream",
          "name": "stdout",
          "text": [
            "Расчёты показателей точности заняли 0.21 секунд\n"
          ]
        }
      ]
    },
    {
      "cell_type": "code",
      "metadata": {
        "colab": {
          "base_uri": "https://localhost:8080/",
          "height": 297
        },
        "id": "f502a713",
        "outputId": "cfaa561f-3cc4-4269-a4ef-74c0ff842ec4"
      },
      "source": [
        "# изображаем на графике\n",
        "fig, ax = plt.subplots(1, 2)\n",
        "\n",
        "# график глубины дерева\n",
        "ax[0].plot(ccp_alphas, node_counts, marker=',', drawstyle=\"steps-post\")\n",
        "ax[0].set_xlabel(\"значение гиперпараметра alpha\")\n",
        "ax[0].set_ylabel(\"количество узлов\")\n",
        "ax[0].set_title(\"Сложность модели vs alpha\")\n",
        "\n",
        "# график точности\n",
        "ax[1].plot(ccp_alphas, train_scores, marker=',', label='train',\n",
        "           drawstyle=\"steps-post\")\n",
        "ax[1].plot(ccp_alphas, test_scores, marker=',', label='test',\n",
        "           drawstyle=\"steps-post\")\n",
        "ax[1].set_xlabel(\"значение гиперпараметра alpha\")\n",
        "ax[1].set_ylabel(\"Acc\")\n",
        "ax[1].set_title(\"Точность модели  vs alpha\")\n",
        "ax[1].legend()\n",
        "fig.tight_layout()"
      ],
      "id": "f502a713",
      "execution_count": 23,
      "outputs": [
        {
          "output_type": "display_data",
          "data": {
            "image/png": "[encoded data removed]",
            "text/plain": [
              "<Figure size 432x288 with 2 Axes>"
            ]
          },
          "metadata": {}
        }
      ]
    },
    {
      "cell_type": "markdown",
      "metadata": {
        "id": "42254d2b"
      },
      "source": [
        "Находим оптимальный размер дерева по максимуму $Acc$ на тестовой выборке.  "
      ],
      "id": "42254d2b"
    },
    {
      "cell_type": "code",
      "metadata": {
        "colab": {
          "base_uri": "https://localhost:8080/"
        },
        "id": "22746203",
        "outputId": "1a53c73a-a0cb-49fa-e5b9-bc1291899aea"
      },
      "source": [
        "# оптимальное количество узлов\n",
        "opt_nodes_num = node_counts[test_scores.index(max(test_scores))]\n",
        "\n",
        "# считаем точность с перекрёстной проверкой, показатель Acc\n",
        "cv = cross_val_score(estimator=clfs[opt_nodes_num], X=X, y=y, cv=5,\n",
        "                    scoring='accuracy')\n",
        "\n",
        "# записываем точность\n",
        "score.append(np.around(np.mean(cv), 3))\n",
        "score_models.append('pruned_tree')\n",
        "\n",
        "print('Оптимальное количество узлов:', opt_nodes_num,\n",
        "      '\\nсоответствующая Acc на тестовой:', np.around(max(test_scores), 3),\n",
        "      '\\n\\nAcc с перекрёстной проверкой',\n",
        "      '\\nдля модели', score_models[1], ':', score[1])"
      ],
      "id": "22746203",
      "execution_count": 24,
      "outputs": [
        {
          "output_type": "stream",
          "name": "stdout",
          "text": [
            "Оптимальное количество узлов: 19 \n",
            "соответствующая Acc на тестовой: 0.732 \n",
            "\n",
            "Acc с перекрёстной проверкой \n",
            "для модели pruned_tree : 0.741\n"
          ]
        }
      ]
    },
    {
      "cell_type": "markdown",
      "metadata": {
        "id": "be66ffe3"
      },
      "source": [
        "Посмотрим на характеристики глубины и сложности построенного дерева с обрезкой ветвей."
      ],
      "id": "be66ffe3"
    },
    {
      "cell_type": "code",
      "metadata": {
        "colab": {
          "base_uri": "https://localhost:8080/"
        },
        "id": "9d36d60b",
        "outputId": "e0eea3ea-377d-478e-b065-6ebe10cc58ea"
      },
      "source": [
        "# выводим количество листьев (количество узлов)\n",
        "clfs[opt_nodes_num].get_n_leaves()"
      ],
      "id": "9d36d60b",
      "execution_count": 25,
      "outputs": [
        {
          "output_type": "execute_result",
          "data": {
            "text/plain": [
              "67"
            ]
          },
          "metadata": {},
          "execution_count": 25
        }
      ]
    },
    {
      "cell_type": "code",
      "metadata": {
        "colab": {
          "base_uri": "https://localhost:8080/"
        },
        "id": "be182d99",
        "outputId": "6271e834-3d8e-449a-96eb-d341612835bb"
      },
      "source": [
        "# глубина дерева: количество узлов от корня до листа\n",
        "#  в самой длинной ветви\n",
        "clfs[opt_nodes_num].get_depth()"
      ],
      "id": "be182d99",
      "execution_count": 26,
      "outputs": [
        {
          "output_type": "execute_result",
          "data": {
            "text/plain": [
              "16"
            ]
          },
          "metadata": {},
          "execution_count": 26
        }
      ]
    },
    {
      "cell_type": "markdown",
      "metadata": {
        "id": "55d3d3e8"
      },
      "source": [
        "---\n",
        "\n",
        "📚 **Пример визуализации небольшого дерева**\n",
        "\n",
        "Лучшее дерево с обрезкой по-прежнему слишком велико для визуализации. Для примера нарисуем одно из небольших деревьев с обрезкой и выведем его же в виде текста.  "
      ],
      "id": "55d3d3e8"
    },
    {
      "cell_type": "code",
      "metadata": {
        "colab": {
          "base_uri": "https://localhost:8080/"
        },
        "id": "c7e4eba9",
        "outputId": "8bee97d5-9314-43ba-d515-1d0cb0ec0429"
      },
      "source": [
        "# находим деревья с количеством листьев меньше 20\n",
        "[i for i in node_counts if i < 20]"
      ],
      "id": "c7e4eba9",
      "execution_count": 27,
      "outputs": [
        {
          "output_type": "execute_result",
          "data": {
            "text/plain": [
              "[19,\n",
              " 19,\n",
              " 19,\n",
              " 15,\n",
              " 15,\n",
              " 15,\n",
              " 15,\n",
              " 15,\n",
              " 15,\n",
              " 15,\n",
              " 15,\n",
              " 15,\n",
              " 15,\n",
              " 15,\n",
              " 15,\n",
              " 15,\n",
              " 11,\n",
              " 9,\n",
              " 7,\n",
              " 3,\n",
              " 3,\n",
              " 3,\n",
              " 3,\n",
              " 1]"
            ]
          },
          "metadata": {},
          "execution_count": 27
        }
      ]
    },
    {
      "cell_type": "code",
      "metadata": {
        "colab": {
          "base_uri": "https://localhost:8080/",
          "height": 1000
        },
        "id": "af09592a",
        "outputId": "5d76ba0e-db9d-4344-a60d-904a06db9023"
      },
      "source": [
        "# визуализация на схеме НА ПРИМЕРЕ МАЛЕНЬКОГО ДЕРЕВА\n",
        "nodes_num = 11\n",
        "print('Количество узлов:', nodes_num,\n",
        "      '\\nТочность дерева на тестовой:', \n",
        "      np.around(test_scores[node_counts.index(nodes_num)], 3))\n",
        "\n",
        "fig = plt.figure(figsize=(25,20))\n",
        "_ = plot_tree(clfs[node_counts.index(nodes_num)], \n",
        "              filled=True, \n",
        "              feature_names=list(X.columns))"
      ],
      "id": "af09592a",
      "execution_count": 28,
      "outputs": [
        {
          "output_type": "stream",
          "name": "stdout",
          "text": [
            "Количество узлов: 11 \n",
            "Точность дерева на тестовой: 0.729\n"
          ]
        },
        {
          "output_type": "display_data",
          "data": {
            "image/png": "[encoded data removed]",
            "text/plain": [
              "<Figure size 1800x1440 with 1 Axes>"
            ]
          },
          "metadata": {}
        }
      ]
    },
    {
      "cell_type": "code",
      "metadata": {
        "colab": {
          "base_uri": "https://localhost:8080/"
        },
        "id": "f46adc5c",
        "outputId": "861c647b-36fd-44c4-eaeb-0945cd148b2c"
      },
      "source": [
        "# визуализируем дерево в виде текстовой схемы\n",
        "viz = export_text(clfs[node_counts.index(nodes_num)], \n",
        "                  feature_names=list(X.columns))\n",
        "print(viz)"
      ],
      "id": "f46adc5c",
      "execution_count": 29,
      "outputs": [
        {
          "output_type": "stream",
          "name": "stdout",
          "text": [
            "|--- alcohol <= 10.53\n",
            "|   |--- total_sulfur_dioxide <= 95.50\n",
            "|   |   |--- volatile_acidity <= 0.55\n",
            "|   |   |   |--- sulphates <= 0.64\n",
            "|   |   |   |   |--- class: 0\n",
            "|   |   |   |--- sulphates >  0.64\n",
            "|   |   |   |   |--- class: 1\n",
            "|   |   |--- volatile_acidity >  0.55\n",
            "|   |   |   |--- class: 0\n",
            "|   |--- total_sulfur_dioxide >  95.50\n",
            "|   |   |--- class: 0\n",
            "|--- alcohol >  10.53\n",
            "|   |--- sulphates <= 0.64\n",
            "|   |   |--- class: 1\n",
            "|   |--- sulphates >  0.64\n",
            "|   |   |--- class: 1\n",
            "\n"
          ]
        }
      ]
    },
    {
      "cell_type": "markdown",
      "metadata": {
        "id": "5d46e811"
      },
      "source": [
        "# Бустинг \n",
        "\n"
      ],
      "id": "5d46e811"
    },
    {
      "cell_type": "markdown",
      "metadata": {
        "id": "7ad6909e"
      },
      "source": [
        "Подберём сеточным поиском настроечные параметры модели:  \n",
        "* $B$ число деревьев, \n",
        "* $\\lambda$ – скорость обучения,\n",
        "* $d$ – глубина взаимодействия предикторов."
      ],
      "id": "7ad6909e"
    },
    {
      "cell_type": "code",
      "metadata": {
        "colab": {
          "base_uri": "https://localhost:8080/"
        },
        "id": "1038a6aa",
        "outputId": "bf9dc98a-f9ff-4bd1-ac77-622c7f676a18"
      },
      "source": [
        "num_trees = 50\n",
        "\n",
        "# разбиения для перекрёстной проверки\n",
        "kfold = KFold(n_splits=5, random_state=my_seed, shuffle=True)\n",
        "\n",
        "# обучаем модель с параметрами по умолчанию\n",
        "clf_tst = GradientBoostingClassifier(n_estimators=100, learning_rate=1,\n",
        "                                    max_depth=1, random_state=my_seed)\n",
        "cv = cross_val_score(clf_tst, X, y, cv=kfold, scoring='accuracy')\n",
        "np.around(np.mean(cv), 3)"
      ],
      "id": "1038a6aa",
      "execution_count": 30,
      "outputs": [
        {
          "output_type": "execute_result",
          "data": {
            "text/plain": [
              "0.753"
            ]
          },
          "metadata": {},
          "execution_count": 30
        }
      ]
    },
    {
      "cell_type": "code",
      "metadata": {
        "colab": {
          "base_uri": "https://localhost:8080/"
        },
        "id": "5b717e72",
        "outputId": "02813d77-cc92-458e-9c6a-328c3714bcc6"
      },
      "source": [
        "# настроим параметры бустинга с помощью сеточного поиска\n",
        "param_grid = {'n_estimators' : [10, 20, 30, 40, 50],\n",
        "            'learning_rate' : np.linspace(start=0.01, stop=0.25, num=15),\n",
        "            'max_depth' : [1, 2]}\n",
        "\n",
        "# таймер\n",
        "tic = time.perf_counter()\n",
        "clf = GridSearchCV(GradientBoostingClassifier(),\n",
        "                   param_grid, scoring='accuracy', cv=kfold)\n",
        "boost_tree = clf.fit(X, y)\n",
        "# таймер\n",
        "toc = time.perf_counter()\n",
        "print(f\"Сеточный поиск занял {toc - tic:0.2f} секунд\", sep='')"
      ],
      "id": "5b717e72",
      "execution_count": 31,
      "outputs": [
        {
          "output_type": "stream",
          "name": "stdout",
          "text": [
            "Сеточный поиск занял 30.48 секунд\n"
          ]
        }
      ]
    },
    {
      "cell_type": "code",
      "metadata": {
        "colab": {
          "base_uri": "https://localhost:8080/"
        },
        "id": "845a80be",
        "outputId": "b15be8bb-625f-46e7-c10a-027b94c59805"
      },
      "source": [
        "# точность лучшей модели\n",
        "np.around(boost_tree.best_score_, 3)"
      ],
      "id": "845a80be",
      "execution_count": 32,
      "outputs": [
        {
          "output_type": "execute_result",
          "data": {
            "text/plain": [
              "0.77"
            ]
          },
          "metadata": {},
          "execution_count": 32
        }
      ]
    },
    {
      "cell_type": "code",
      "metadata": {
        "colab": {
          "base_uri": "https://localhost:8080/"
        },
        "id": "113d0288",
        "outputId": "366df5af-4f8c-491c-e765-244808e049d8"
      },
      "source": [
        "# параметры лучшей модели\n",
        "print('Оптимальные значения параметров:')\n",
        "print('n_estimators:', \n",
        "      boost_tree.best_estimator_.get_params()['n_estimators'],\n",
        "      '\\nlearning_rate:',\n",
        "      boost_tree.best_estimator_.get_params()['learning_rate'],\n",
        "      '\\nmax_depth:',\n",
        "      boost_tree.best_estimator_.get_params()['max_depth'])"
      ],
      "id": "113d0288",
      "execution_count": 33,
      "outputs": [
        {
          "output_type": "stream",
          "name": "stdout",
          "text": [
            "Оптимальные значения параметров:\n",
            "n_estimators: 50 \n",
            "learning_rate: 0.23285714285714287 \n",
            "max_depth: 2\n"
          ]
        }
      ]
    },
    {
      "cell_type": "code",
      "metadata": {
        "colab": {
          "base_uri": "https://localhost:8080/"
        },
        "id": "e4436a2d",
        "outputId": "ccce66da-bcbb-4034-bba8-2cc6e0ef7f52"
      },
      "source": [
        "# записываем точность\n",
        "score.append(np.around(boost_tree.best_score_, 3))\n",
        "score_models.append('boost_tree_GS')\n",
        "\n",
        "print('Acc с перекрёстной проверкой',\n",
        "      '\\nдля модели', score_models[2], ':', score[2])"
      ],
      "id": "e4436a2d",
      "execution_count": 34,
      "outputs": [
        {
          "output_type": "stream",
          "name": "stdout",
          "text": [
            "Acc с перекрёстной проверкой \n",
            "для модели boost_tree_GS : 0.77\n"
          ]
        }
      ]
    },
    {
      "cell_type": "markdown",
      "metadata": {
        "id": "041010d5"
      },
      "source": [
        "\n",
        "# Прогноз на отложенные наблюдения по лучшей модели\n",
        "\n",
        "Ещё раз посмотрим на точность построенных моделей.  "
      ],
      "id": "041010d5"
    },
    {
      "cell_type": "code",
      "metadata": {
        "colab": {
          "base_uri": "https://localhost:8080/",
          "height": 143
        },
        "id": "13f506f8",
        "outputId": "7e502458-bec2-4885-ea06-9c5d62df1e8a"
      },
      "source": [
        "# сводка по точности моделей\n",
        "pd.DataFrame({'Модель' : score_models, 'Acc' : score})"
      ],
      "id": "13f506f8",
      "execution_count": 35,
      "outputs": [
        {
          "output_type": "execute_result",
          "data": {
            "text/html": [
              "<div>\n",
              "<style scoped>\n",
              "    .dataframe tbody tr th:only-of-type {\n",
              "        vertical-align: middle;\n",
              "    }\n",
              "\n",
              "    .dataframe tbody tr th {\n",
              "        vertical-align: top;\n",
              "    }\n",
              "\n",
              "    .dataframe thead th {\n",
              "        text-align: right;\n",
              "    }\n",
              "</style>\n",
              "<table border=\"1\" class=\"dataframe\">\n",
              "  <thead>\n",
              "    <tr style=\"text-align: right;\">\n",
              "      <th></th>\n",
              "      <th>Модель</th>\n",
              "      <th>Acc</th>\n",
              "    </tr>\n",
              "  </thead>\n",
              "  <tbody>\n",
              "    <tr>\n",
              "      <th>0</th>\n",
              "      <td>one_tree</td>\n",
              "      <td>0.751</td>\n",
              "    </tr>\n",
              "    <tr>\n",
              "      <th>1</th>\n",
              "      <td>pruned_tree</td>\n",
              "      <td>0.741</td>\n",
              "    </tr>\n",
              "    <tr>\n",
              "      <th>2</th>\n",
              "      <td>boost_tree_GS</td>\n",
              "      <td>0.770</td>\n",
              "    </tr>\n",
              "  </tbody>\n",
              "</table>\n",
              "</div>"
            ],
            "text/plain": [
              "          Модель    Acc\n",
              "0       one_tree  0.751\n",
              "1    pruned_tree  0.741\n",
              "2  boost_tree_GS  0.770"
            ]
          },
          "metadata": {},
          "execution_count": 35
        }
      ]
    },
    {
      "cell_type": "markdown",
      "metadata": {
        "id": "99c7c905"
      },
      "source": [
        "Все модели показывают среднюю точность по показателю $Acc$, при этом самой точной оказывается модель бустинга. Сделаем прогноз на отложенные наблюдения.   "
      ],
      "id": "99c7c905"
    },
    {
      "cell_type": "code",
      "metadata": {
        "colab": {
          "base_uri": "https://localhost:8080/"
        },
        "id": "6f19fd52",
        "outputId": "1222155e-70c6-4312-c100-1482893ce1a1"
      },
      "source": [
        "# данные для прогноза\n",
        "X_pred = DF_predict.drop(['Y'], axis=1)\n",
        "# строим прогноз\n",
        "y_hat = boost_tree.best_estimator_.predict(X_pred)\n",
        "# характеристики точности\n",
        "print(classification_report(DF_predict['Y'], y_hat))"
      ],
      "id": "6f19fd52",
      "execution_count": 36,
      "outputs": [
        {
          "output_type": "stream",
          "name": "stdout",
          "text": [
            "              precision    recall  f1-score   support\n",
            "\n",
            "           0       0.68      0.76      0.72       104\n",
            "           1       0.80      0.73      0.76       136\n",
            "\n",
            "    accuracy                           0.74       240\n",
            "   macro avg       0.74      0.74      0.74       240\n",
            "weighted avg       0.75      0.74      0.74       240\n",
            "\n"
          ]
        }
      ]
    },
    {
      "cell_type": "markdown",
      "metadata": {
        "id": "dkfMtzCtKukP"
      },
      "source": [
        "Сравним точность на отложенных наблюдениях с точностью моделей из упражнения 4.\n",
        "![image.png](data:image/png;base64,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)"
      ],
      "id": "dkfMtzCtKukP"
    },
    {
      "cell_type": "markdown",
      "metadata": {
        "id": "x3YaJod3NcZI"
      },
      "source": [
        "![image.png](data:image/png;base64,iVBORw0KGgoAAAANSUhEUgAAAIkAAABYCAYAAADBRtRDAAAKZUlEQVR4Ae1dbW7jOgzMGQP0QkWukh6le5D3o8fwAymN+CHKdhzHrlIt0LVsSeRwOKKdQG4v0zRNl8tl/AwO2hqASOj4zD8S2vi3zEBvPHEBobD2AL6HjWWK+x/RG09DJCdobojkBNJ7czlE0lvGTsA7RHIC6b25HCLpLWMn4B0iOYH03lwOkfSWsRPwDpF40v+7T9fyTeZ1uv+nBvy7yTd8H/fpR3W9c3NJJN+f+Pbb8XUSKYSXvyZdAr4GX2jDiOQy3f6JJSHjMl2GSDIx39OtLKrLdP06f+kcLpLL53dIhhXJz3T/wGqi423CrDTZEslBELFGaG5M8ZstlNWq/Vymgg/iNjYz9CcP4WLKNn++rlxdr5+3VIFD//OxTbpCX+zC3AL9OJF83KYbJz4nPCehJsMLBElUpRcJVCuOAymEOhLzOL0qTRXTdiAm+Cg2t9Abz2mLBLFTrLqt7cSxFXE7gTAvTwrlQJHcp29eJSnZacVcp/u//MyCZCBInE/ThNVViIDAUIp9QrMNEQUIl4qURBII70yRuDgQt8QRcDFBNBQb4lTVA3wiLq23le1DRfJTkvedbye36dsRgxWun10mEAHhFDv5fu1sgFysIjmKKFaLRFcZbovQVnJcDSM80T/gLqJwcdGcmB9Y04LBteePx4qkJPua7rekbkcEiJoTSTWmYUPEgVuWrLDtIlHPLRv5j0UiVWAZt8RhIbyFSCwRvGJcgstDF6pGdbsJiGjYKCvSMkkWcyWTylLEirLsbbKN7Fthq0yvuBCKBLeFqnJlgWdcWCDykK5jQVt9KgrjWAFSDWHR0nkIXA1c0wxtOJAlyEtOkOuXBMrqZ5A8HgLxfXKehNEYR8mFP07GCpFESYOQ1pASjIl4wm2kEnbBi9tcIzZgaojNVuYA1Mwl5p/6I+Az88Ku0AaCxOpbOmfLsiIYYPkI3CBIJVJI9mMzyfBPc0As+cR1XMO5sm2xhBSsuljzBKxKtMWScCGJxvi8OMAt5jihCCcY8NiR46YpNfDHDO1lY95rIicOeq5v3urRvXtwfSTmIZIj2c6+hkhOIL03l0MkvWXsBLxDJCeQ3pvLIZLeMnYC3iGSE0jvzeUQSW8ZOwHvEMkJpPfmsmuREPjxMzgINUArcQ9172Gjt6qwBW9vPLFohki2pHr7nCGS7dz9mZlDJH8m1dsDHSLZzt2fmTlE8mdSvT3QIZLt3P2ZmUMkfybV2wMdItnO3Z+Z+ZYikc3L9G0kNuTWOY2DT9sKZX9mPW/1Fd53in2gZBftFRbcvk/Cmn6ieBJmGRO9wuDGYG/sCigxTzTR2oy3aYoDbJ5uxbE2b+kNhYiH5IvtU7MF3DrKxPqNtxl3bCMFvotIhJ9M6IMiCXCn+BRBWUwGb94ULUlLMcl52qws5wZodRLz5G3M8+Zx87mOj+OQuKr+ggrClLGlKzcWRIKd2kiGP7fm4uDrYFOAjZVsdqnfpju9GorgSyVBYMmGSaiFJGdEGuzIVSe2GmsZqknXbQxo2scAOYY8BTaZp0aF4iqi+5gbJNoLjnxTbMijYCE7t0/6FSCYK31oLYgkJ0ORiwRHiQmDzyUU49N8AWTPk7+yIiEY+C8iaQeNwKpjM4mKvCBRlZ3GBY4DOBtjcDniKZw/g8fylt8RLv4Tj+A8+Q2EQ/ZJaDN+aO68SHyS1Nt0JZGIvHnL0oB1GxMVeAJbAk39vGJw7QUi0fbDRAHm7DGKqz2hKRJdGWg6xysLqrLIyc0V2cwlPHHVkLwR73nMrxKJSbKETIki8JwkE6xbIWZ+TIRYdS1NaHloJYIlCdtEkgRiXvRyrv3pHiLR4ib7trLE3IBnjC+CeUokeNrGSi5goqf91sNvIpFLn0myUAfwLxeJikO8q9YCWWpkbj4uEJrYFInH18SjOC2gVEV2t/g0RPVTHrSvpp80c/52U71YnRxdglLWCh4f69L9cSE4AqvB0+MW/UYiXDMiI1t1SS2c+UZg2w+xWF2v8Y1bgXox2w2fO41EEj0XRIsm2V3gMeetVAqeJHylqoMPDvoY87kgEpQxbUglzTERBu9Ubcsi7KPkp+BLcJwY5c8kSoJ2MOLTVSKZ8kOcq5TAUW6FDmfssXk15kmtdJ6ZfNiHTzFpFk+p8OARccg5847FJmZS67lKkmxY5Ylj7ysOvg521h4Sws8N+SMwkmNEIr/QpYjKA9Lna0VCcwyGtEB0six+vYDa3GgoMU80InFF/fRj4goSyUIpz1d1FbA4Z7AFtj3e1/72Re1tQ5sDhUg2zP+NU9oi+Y1olz4CP4j56eArRddV6EFIv3L40zwdHBXh/VWVxJZQ92zQIofFpcu+a7fuxS17L74+RPJigt/B/BDJO2TxxTEMkbyY4HcwP0TyDll8cQxDJC8m+B3MD5G8QxZfHEPXIiHw42dwEGqAFs4e6t7DxosX8a8w3xtPLJohkmO1M0RyLN9dehsi6TJtx4IeIjmW7y69DZF0mbZjQQ+RHMt3l96GSLpM27Ggh0iO5btLb28skrz/cmYDTxz8jrvLzB5Xslvv63xENbzBqbU10vh6xOry2JgnPW9dbEt7WOf78eZD/oa5xcPiG3zArXd+nSkS4OHjOiLNlEdOThNJWlSt11ZKCG6rJwtC52ah3y4Qv1O/eOEGiXp2+2JR40f+C5waiLXV+Go/Bd3ebe52cZud6vu9ME5xXL/u5U+8Ex5LlOy+J1LSH7VWlWoOF/PgVubDPIn/yrfjGX+n0Oym5532wBslXS2qaAGQqBqYV4kkgckKbxiiOOIyakWSRCfCsOdpbAkeiYFPE5wKuiKxvpD8gMTUr0XCbfipXkpbwBW8DKVtezQxT9P0/XWf+C8dmzj9bDq3nKYRWhgL/a7K8PwZn4siEYjJcUttNC4OXgPWbVhWwQVqNskzgZAtm3RYjI4skiKCNEISGeDSvpZwBf0pkTG+mCeFWvtWl6UZx07xyIKufZf+DXhnbzcWmHqbTjpKKw5eJaARPMBzIt0DlEmumR8TVcC4hrGT+4pIjF1MFPtLuLg/3GZRJ4qsxzzBL14Oi+emUYJNzeLb5xCJSWZMlCZNt18uEleltG/f3kck/nUTVZGXbkdUSdRvU2B8hluLmPAeV0nWgHdk82rHNRPIjiKJcGlfQXk2uCLSLc/m7HmRaEHAtOZjoV/HhulBjOg6WCT+BXF/ToHivoqyq25xJjhNCsJpH2crCV64hhg3Pria31EyI5znRbLihXDn38dfbrVMWSQq4fJwkZBrew+XTzoMi4WALYT7vTDuSSJflij5CEqk3L7u01U/GM/hYuBJ4EwoP5+4uHhM+m+TSFzSydIsj4v9SRgFr3sWVHD5GWrl7UZPi9uLwcfTZq8yETMBzE5+YeczuF7B0wtD/WUiqVZLWp36i7hXktG0vTOuIZIm0+s6+BagPk6uEggnEbeo4FieNdZhiEZtwhUZWvMRuDHvrMt8SyLne6h7DxtnEXGk3954GiI5Uh3Z1xDJCaT35nKIpLeMnYB3iOQE0ntzOUTSW8ZOwNu1SAj8+BkcRBr4HxW1euLVlNn0AAAAAElFTkSuQmCC)"
      ],
      "id": "x3YaJod3NcZI"
    },
    {
      "cell_type": "markdown",
      "metadata": {
        "id": "Zp73r8wSK30s"
      },
      "source": [
        "Точность моделей из упражнения 4 оказалась лучше."
      ],
      "id": "Zp73r8wSK30s"
    },
    {
      "cell_type": "markdown",
      "metadata": {
        "id": "af39298f"
      },
      "source": [
        "# Источники \n",
        "\n",
        "1. Джеймс Г., Уиттон Д., Хасти Т., Тибширани Р. Введение в статистическое обучение с примерами на языке R. Пер. с англ. С.Э. Мастицкого – М.: ДМК Пресс, 2016 – 450 с.  \n",
        "1. *Рашка С.* Python и машинное обучение: крайне необходимое пособие по новейшей предсказательной аналитике, обязательное для более глубокого понимания методологии машинного обучения / пер. с англ. А.В. Логунова. – М.: ДМК Пресс, 2017. – 418 с.: ил.  \n",
        "1. *Tong Wang*, *Cynthia Rudin*, *Finale Doshi-Velez*, *Yimin Liu*, *Erica Klampfl*, *Perry MacNeille* A Bayesian Framework for Learning Rule Sets for Interpretable Classification / Journal of Machine Learning Research 18 (2017) 1-37. URL: <https://jmlr.org/papers/volume18/16-003/16-003.pdf>  \n",
        "1. *George Pipis* How to Run the Chi-Square Test in Python / medium.com. URL: <https://medium.com/swlh/how-to-run-chi-square-test-in-python-4e9f5d10249d>   \n",
        "1. *Bernd Klein* What are Decision Trees? / python-course.eu. URL: <https://www.python-course.eu/Decision_Trees.php>  \n",
        "1. Pruning decision trees - tutorial / kaggle.com. URL: <https://www.kaggle.com/arunmohan003/pruning-decision-trees-tutorial>  \n",
        "1. Post pruning decision trees with cost complexity pruning / scikit-learn.org. URL: <https://scikit-learn.org/stable/auto_examples/tree/plot_cost_complexity_pruning.html>  \n",
        "1. *Piotr Płoński* Visualize a Decision Tree in 4 Ways with Scikit-Learn and Python / mljar.com. URL: <https://mljar.com/blog/visualize-decision-tree/>  \n",
        "1. Random Forest Feature Importance Plot / www.analyseup.com. URL: <https://www.analyseup.com/learn-python-for-data-science/python-random-forest-feature-importance-plot.html>  "
      ],
      "id": "af39298f"
    }
  ]
}