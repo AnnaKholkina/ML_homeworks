{
  "nbformat": 4,
  "nbformat_minor": 5,
  "metadata": {
    "kernelspec": {
      "display_name": "Python 3",
      "language": "python",
      "name": "python3"
    },
    "language_info": {
      "codemirror_mode": {
        "name": "ipython",
        "version": 3
      },
      "file_extension": ".py",
      "mimetype": "text/x-python",
      "name": "python",
      "nbconvert_exporter": "python",
      "pygments_lexer": "ipython3",
      "version": "3.8.8"
    },
    "colab": {
      "name": "Lab-04_Kholkina.ipynb",
      "provenance": [],
      "collapsed_sections": [
        "8fe7bbef",
        "bac7542b",
        "061a0c22",
        "8c555295",
        "09a02626"
      ]
    }
  },
  "cells": [
    {
      "cell_type": "markdown",
      "metadata": {
        "id": "a1aef29b"
      },
      "source": [
        "`Дисциплина: Методы и технологии машинного обучения`   \n",
        "`Уровень подготовки: бакалавриат`   \n",
        "`Направление подготовки: 01.03.02 Прикладная математика и информатика`   \n",
        "`Семестр: осень 2021/2022`   \n",
        "\n",
        "\n",
        "* Работу выполнила Холькина Анна, вариант 3\n",
        "\n",
        "# Лабораторная работа №4: Методы снижения размерности. Регуляризация логистической регрессии. \n",
        "\n",
        "В практических примерах ниже показано:   \n",
        "\n",
        "* как снижать размерность пространства признаков методами главных компонент (PCR)\n",
        "* как строить логистическую регрессию с регуляризацией параметров (метод ридж) \n",
        "\n",
        "Точность всех моделей оценивается методом перекрёстной проверки по 10 блокам.  \n",
        "\n",
        "*Модели*: множественная линейная регрессия \n",
        "*Данные*: `Wines` (источник: [репозиторий к книге С.Рашки Python и машинное обучение, глава 4](https://github.com/rasbt/python-machine-learning-book-3rd-edition/tree/master/ch04))"
      ],
      "id": "a1aef29b"
    },
    {
      "cell_type": "markdown",
      "metadata": {
        "id": "61b9ab5d"
      },
      "source": [
        "# Указания к выполнению\n",
        "\n",
        "\n",
        "## Загружаем пакеты"
      ],
      "id": "61b9ab5d"
    },
    {
      "cell_type": "code",
      "metadata": {
        "id": "c8fa189c"
      },
      "source": [
        "# загрузка пакетов: инструменты --------------------------------------------\n",
        "#  работа с массивами\n",
        "import numpy as np\n",
        "#  фреймы данных\n",
        "import pandas as pd\n",
        "#  распределение Стьюдента для проверки значимости\n",
        "from scipy.stats import t\n",
        "# подсчёт частот внутри массива\n",
        "from collections import Counter\n",
        "#  графики\n",
        "import matplotlib as mpl\n",
        "#  стили и шаблоны графиков на основе matplotlib\n",
        "import seaborn as sns\n",
        "\n",
        "# загрузка пакетов: данные -------------------------------------------------\n",
        "from sklearn import datasets\n",
        "\n",
        "# загрузка пакетов: модели -------------------------------------------------\n",
        "#  стандартизация показателей\n",
        "from sklearn.preprocessing import StandardScaler\n",
        "#  метод главных компонент\n",
        "from sklearn.decomposition import PCA\n",
        "# метод частных наименьших квадратов\n",
        "from sklearn.cross_decomposition import PLSRegression\n",
        "#  логистическая регрессия (ММП)\n",
        "from sklearn.linear_model import LogisticRegression, LogisticRegressionCV\n",
        "#  перекрёстная проверка по k блокам\n",
        "from sklearn.model_selection import KFold, cross_val_score\n",
        "#  расчёт Acc и сводка по точности классификации\n",
        "from sklearn.metrics import accuracy_score, classification_report"
      ],
      "id": "c8fa189c",
      "execution_count": 1,
      "outputs": []
    },
    {
      "cell_type": "code",
      "metadata": {
        "id": "43a4a48e"
      },
      "source": [
        "# константы\n",
        "#  ядро для генератора случайных чисел\n",
        "my_seed = 3\n",
        "#  создаём псевдоним для короткого обращения к графикам\n",
        "plt = mpl.pyplot\n",
        "# настройка стиля и отображения графиков\n",
        "#  примеры стилей и шаблонов графиков: \n",
        "#  http://tonysyu.github.io/raw_content/matplotlib-style-gallery/gallery.html\n",
        "mpl.style.use('seaborn-whitegrid')\n",
        "sns.set_palette(\"Set2\")\n",
        "# раскомментируйте следующую строку, чтобы посмотреть палитру\n",
        "# sns.color_palette(\"Set2\")"
      ],
      "id": "43a4a48e",
      "execution_count": 2,
      "outputs": []
    },
    {
      "cell_type": "code",
      "metadata": {
        "id": "29d97f61"
      },
      "source": [
        "# функция, которая строит график сжатия коэффициентов в ридж и лассо\n",
        "#  из репозитория к книге С.Рашки Python и машинное обучение,\n",
        "#  слегка переработанная\n",
        "def plot_coeffs_traces (X, y, class_number, penalty_name, C_opt, col_names,\n",
        "                        C_min_pow=-4, C_max_pow=3.) :\n",
        "    fig = plt.figure()\n",
        "    ax = plt.subplot(111)    \n",
        "    \n",
        "    # палитра\n",
        "    colors = sns.color_palette(\"Spectral\", len(col_names)-1)\n",
        "    \n",
        "    weights, params = [], []\n",
        "    for c in np.arange(C_min_pow, C_max_pow+1):\n",
        "        lr = LogisticRegression(penalty=penalty_name, \n",
        "                                C=10.**c, solver='liblinear', \n",
        "                                multi_class='ovr', random_state=my_seed)\n",
        "        lr.fit(X, y)\n",
        "        weights.append(lr.coef_[class_number])\n",
        "        params.append(10**c)\n",
        "\n",
        "    weights = np.array(weights)\n",
        "\n",
        "    for column, color in zip(range(weights.shape[1]), colors):\n",
        "        plt.plot(params, weights[:, column],\n",
        "                 label=col_names[column],\n",
        "                 color=color)\n",
        "\n",
        "    # отсечки по оптимальным C\n",
        "    plt.axvline(x=C_opt[class_number], color='magenta', \n",
        "                linestyle='--', linewidth=1)\n",
        "\n",
        "    plt.axhline(0, color='black', linestyle='--', linewidth=1)\n",
        "    plt.xlim([10**(C_min_pow), 10**C_max_pow])\n",
        "    plt.ylabel('weight coefficient')\n",
        "    plt.xlabel('C')\n",
        "    plt.xscale('log')\n",
        "    plt.legend(loc='upper left')\n",
        "    ax.legend(loc='upper center', \n",
        "              bbox_to_anchor=(1.38, 1.03),\n",
        "              ncol=1, fancybox=True)\n",
        "    plt.show()"
      ],
      "id": "29d97f61",
      "execution_count": 3,
      "outputs": []
    },
    {
      "cell_type": "markdown",
      "metadata": {
        "id": "87618f1b"
      },
      "source": [
        "## Загружаем данные\n",
        "\n",
        "* `fixed_acidity` – постоянная кислотность;\n",
        "* `volatile_acidity` – переменная кислотность;\n",
        "* `citric_acid` – содержание лимонной кислоты;\n",
        "* `residual_sugar` – остаточный сахар;\n",
        "* `chlorides` – содержание хлоридов;\n",
        "* `free_sulfur_dioxide` – содержание диоксида серы в свободном виде;\n",
        "* `total_sulfur_dioxide` – общее содержание диоксида серы;\n",
        "* `density` – плотность;\n",
        "* `pH` – кислотность;\n",
        "* `sulphates` – содержание сульфатов;\n",
        "* `alcohol` – содержание алкоголя;\n",
        "* `quality` – балльная оценка качества вина, от 0 до 10;\n",
        "* `Y` – целевая переменная: 1 = высокое качество (quality > 5), 0 = низкое (quality <= 5).\n",
        "\n",
        "Загружаем данные во фрейм и выясняем их размерность. Далее формируем фрейм из экзогенных переменных варианта.  "
      ],
      "id": "87618f1b"
    },
    {
      "cell_type": "markdown",
      "metadata": {
        "id": "lJfkMfp29QoJ"
      },
      "source": [
        "![image.png](data:image/png;base64,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)"
      ],
      "id": "lJfkMfp29QoJ"
    },
    {
      "cell_type": "code",
      "metadata": {
        "colab": {
          "base_uri": "https://localhost:8080/"
        },
        "id": "a7e42f2c",
        "outputId": "2d7b9d11-7b88-432c-d8cc-117b92e98c7e"
      },
      "source": [
        "# загружаем таблицу и превращаем её во фрейм\n",
        "DF_all = pd.read_csv('https://raw.githubusercontent.com/aksyuk/MTML/main/Labs/data/winequality-red_for_lab.csv')\n",
        "\n",
        "# выясняем размерность фрейма\n",
        "print('Число строк и столбцов в наборе данных:\\n', DF_all.shape)"
      ],
      "id": "a7e42f2c",
      "execution_count": 4,
      "outputs": [
        {
          "output_type": "stream",
          "name": "stdout",
          "text": [
            "Число строк и столбцов в наборе данных:\n",
            " (1599, 13)\n"
          ]
        }
      ]
    },
    {
      "cell_type": "code",
      "metadata": {
        "id": "Q58ehzs09a0S"
      },
      "source": [
        "DF_all = DF_all.drop([\"citric_acid\", \"density\", \"quality\"], axis = 1)"
      ],
      "id": "Q58ehzs09a0S",
      "execution_count": 5,
      "outputs": []
    },
    {
      "cell_type": "code",
      "metadata": {
        "colab": {
          "base_uri": "https://localhost:8080/",
          "height": 359
        },
        "id": "u7Td3PyOAZQj",
        "outputId": "64f9efb7-7e96-43b9-ee10-45c4705df032"
      },
      "source": [
        "DF_all.head(10)"
      ],
      "id": "u7Td3PyOAZQj",
      "execution_count": 6,
      "outputs": [
        {
          "output_type": "execute_result",
          "data": {
            "text/html": [
              "<div>\n",
              "<style scoped>\n",
              "    .dataframe tbody tr th:only-of-type {\n",
              "        vertical-align: middle;\n",
              "    }\n",
              "\n",
              "    .dataframe tbody tr th {\n",
              "        vertical-align: top;\n",
              "    }\n",
              "\n",
              "    .dataframe thead th {\n",
              "        text-align: right;\n",
              "    }\n",
              "</style>\n",
              "<table border=\"1\" class=\"dataframe\">\n",
              "  <thead>\n",
              "    <tr style=\"text-align: right;\">\n",
              "      <th></th>\n",
              "      <th>fixed_acidity</th>\n",
              "      <th>volatile_acidity</th>\n",
              "      <th>residual_sugar</th>\n",
              "      <th>chlorides</th>\n",
              "      <th>free_sulfur_dioxide</th>\n",
              "      <th>total_sulfur_dioxide</th>\n",
              "      <th>pH</th>\n",
              "      <th>sulphates</th>\n",
              "      <th>alcohol</th>\n",
              "      <th>Y</th>\n",
              "    </tr>\n",
              "  </thead>\n",
              "  <tbody>\n",
              "    <tr>\n",
              "      <th>0</th>\n",
              "      <td>7.4</td>\n",
              "      <td>0.70</td>\n",
              "      <td>1.9</td>\n",
              "      <td>0.076</td>\n",
              "      <td>11.0</td>\n",
              "      <td>34.0</td>\n",
              "      <td>3.51</td>\n",
              "      <td>0.56</td>\n",
              "      <td>9.4</td>\n",
              "      <td>0</td>\n",
              "    </tr>\n",
              "    <tr>\n",
              "      <th>1</th>\n",
              "      <td>7.8</td>\n",
              "      <td>0.88</td>\n",
              "      <td>2.6</td>\n",
              "      <td>0.098</td>\n",
              "      <td>25.0</td>\n",
              "      <td>67.0</td>\n",
              "      <td>3.20</td>\n",
              "      <td>0.68</td>\n",
              "      <td>9.8</td>\n",
              "      <td>0</td>\n",
              "    </tr>\n",
              "    <tr>\n",
              "      <th>2</th>\n",
              "      <td>7.8</td>\n",
              "      <td>0.76</td>\n",
              "      <td>2.3</td>\n",
              "      <td>0.092</td>\n",
              "      <td>15.0</td>\n",
              "      <td>54.0</td>\n",
              "      <td>3.26</td>\n",
              "      <td>0.65</td>\n",
              "      <td>9.8</td>\n",
              "      <td>0</td>\n",
              "    </tr>\n",
              "    <tr>\n",
              "      <th>3</th>\n",
              "      <td>11.2</td>\n",
              "      <td>0.28</td>\n",
              "      <td>1.9</td>\n",
              "      <td>0.075</td>\n",
              "      <td>17.0</td>\n",
              "      <td>60.0</td>\n",
              "      <td>3.16</td>\n",
              "      <td>0.58</td>\n",
              "      <td>9.8</td>\n",
              "      <td>1</td>\n",
              "    </tr>\n",
              "    <tr>\n",
              "      <th>4</th>\n",
              "      <td>7.4</td>\n",
              "      <td>0.70</td>\n",
              "      <td>1.9</td>\n",
              "      <td>0.076</td>\n",
              "      <td>11.0</td>\n",
              "      <td>34.0</td>\n",
              "      <td>3.51</td>\n",
              "      <td>0.56</td>\n",
              "      <td>9.4</td>\n",
              "      <td>0</td>\n",
              "    </tr>\n",
              "    <tr>\n",
              "      <th>5</th>\n",
              "      <td>7.4</td>\n",
              "      <td>0.66</td>\n",
              "      <td>1.8</td>\n",
              "      <td>0.075</td>\n",
              "      <td>13.0</td>\n",
              "      <td>40.0</td>\n",
              "      <td>3.51</td>\n",
              "      <td>0.56</td>\n",
              "      <td>9.4</td>\n",
              "      <td>0</td>\n",
              "    </tr>\n",
              "    <tr>\n",
              "      <th>6</th>\n",
              "      <td>7.9</td>\n",
              "      <td>0.60</td>\n",
              "      <td>1.6</td>\n",
              "      <td>0.069</td>\n",
              "      <td>15.0</td>\n",
              "      <td>59.0</td>\n",
              "      <td>3.30</td>\n",
              "      <td>0.46</td>\n",
              "      <td>9.4</td>\n",
              "      <td>0</td>\n",
              "    </tr>\n",
              "    <tr>\n",
              "      <th>7</th>\n",
              "      <td>7.3</td>\n",
              "      <td>0.65</td>\n",
              "      <td>1.2</td>\n",
              "      <td>0.065</td>\n",
              "      <td>15.0</td>\n",
              "      <td>21.0</td>\n",
              "      <td>3.39</td>\n",
              "      <td>0.47</td>\n",
              "      <td>10.0</td>\n",
              "      <td>1</td>\n",
              "    </tr>\n",
              "    <tr>\n",
              "      <th>8</th>\n",
              "      <td>7.8</td>\n",
              "      <td>0.58</td>\n",
              "      <td>2.0</td>\n",
              "      <td>0.073</td>\n",
              "      <td>9.0</td>\n",
              "      <td>18.0</td>\n",
              "      <td>3.36</td>\n",
              "      <td>0.57</td>\n",
              "      <td>9.5</td>\n",
              "      <td>1</td>\n",
              "    </tr>\n",
              "    <tr>\n",
              "      <th>9</th>\n",
              "      <td>7.5</td>\n",
              "      <td>0.50</td>\n",
              "      <td>6.1</td>\n",
              "      <td>0.071</td>\n",
              "      <td>17.0</td>\n",
              "      <td>102.0</td>\n",
              "      <td>3.35</td>\n",
              "      <td>0.80</td>\n",
              "      <td>10.5</td>\n",
              "      <td>0</td>\n",
              "    </tr>\n",
              "  </tbody>\n",
              "</table>\n",
              "</div>"
            ],
            "text/plain": [
              "   fixed_acidity  volatile_acidity  residual_sugar  ...  sulphates  alcohol  Y\n",
              "0            7.4              0.70             1.9  ...       0.56      9.4  0\n",
              "1            7.8              0.88             2.6  ...       0.68      9.8  0\n",
              "2            7.8              0.76             2.3  ...       0.65      9.8  0\n",
              "3           11.2              0.28             1.9  ...       0.58      9.8  1\n",
              "4            7.4              0.70             1.9  ...       0.56      9.4  0\n",
              "5            7.4              0.66             1.8  ...       0.56      9.4  0\n",
              "6            7.9              0.60             1.6  ...       0.46      9.4  0\n",
              "7            7.3              0.65             1.2  ...       0.47     10.0  1\n",
              "8            7.8              0.58             2.0  ...       0.57      9.5  1\n",
              "9            7.5              0.50             6.1  ...       0.80     10.5  0\n",
              "\n",
              "[10 rows x 10 columns]"
            ]
          },
          "metadata": {},
          "execution_count": 6
        }
      ]
    },
    {
      "cell_type": "markdown",
      "metadata": {
        "id": "5ce7ffd1"
      },
      "source": [
        "Отложим 15% наблюдений для прогноза.  "
      ],
      "id": "5ce7ffd1"
    },
    {
      "cell_type": "code",
      "metadata": {
        "id": "13f9300b"
      },
      "source": [
        "# наблюдения для моделирования\n",
        "DF = DF_all.sample(frac=0.85, random_state=my_seed)\n",
        "# отложенные наблюдения\n",
        "DF_predict = DF_all.drop(DF.index)"
      ],
      "id": "13f9300b",
      "execution_count": 7,
      "outputs": []
    },
    {
      "cell_type": "code",
      "metadata": {
        "colab": {
          "base_uri": "https://localhost:8080/",
          "height": 204
        },
        "id": "2c2eedc8",
        "outputId": "1ae21925-9086-4cb1-97ff-57b23621ab45"
      },
      "source": [
        "# первые 5 строк фрейма у первых 7 столбцов\n",
        "DF.head(5)"
      ],
      "id": "2c2eedc8",
      "execution_count": 8,
      "outputs": [
        {
          "output_type": "execute_result",
          "data": {
            "text/html": [
              "<div>\n",
              "<style scoped>\n",
              "    .dataframe tbody tr th:only-of-type {\n",
              "        vertical-align: middle;\n",
              "    }\n",
              "\n",
              "    .dataframe tbody tr th {\n",
              "        vertical-align: top;\n",
              "    }\n",
              "\n",
              "    .dataframe thead th {\n",
              "        text-align: right;\n",
              "    }\n",
              "</style>\n",
              "<table border=\"1\" class=\"dataframe\">\n",
              "  <thead>\n",
              "    <tr style=\"text-align: right;\">\n",
              "      <th></th>\n",
              "      <th>fixed_acidity</th>\n",
              "      <th>volatile_acidity</th>\n",
              "      <th>residual_sugar</th>\n",
              "      <th>chlorides</th>\n",
              "      <th>free_sulfur_dioxide</th>\n",
              "      <th>total_sulfur_dioxide</th>\n",
              "      <th>pH</th>\n",
              "      <th>sulphates</th>\n",
              "      <th>alcohol</th>\n",
              "      <th>Y</th>\n",
              "    </tr>\n",
              "  </thead>\n",
              "  <tbody>\n",
              "    <tr>\n",
              "      <th>147</th>\n",
              "      <td>7.6</td>\n",
              "      <td>0.490</td>\n",
              "      <td>1.6</td>\n",
              "      <td>0.236</td>\n",
              "      <td>10.0</td>\n",
              "      <td>88.0</td>\n",
              "      <td>3.11</td>\n",
              "      <td>0.80</td>\n",
              "      <td>9.3</td>\n",
              "      <td>0</td>\n",
              "    </tr>\n",
              "    <tr>\n",
              "      <th>937</th>\n",
              "      <td>12.0</td>\n",
              "      <td>0.630</td>\n",
              "      <td>1.4</td>\n",
              "      <td>0.071</td>\n",
              "      <td>6.0</td>\n",
              "      <td>26.0</td>\n",
              "      <td>3.07</td>\n",
              "      <td>0.60</td>\n",
              "      <td>10.4</td>\n",
              "      <td>0</td>\n",
              "    </tr>\n",
              "    <tr>\n",
              "      <th>877</th>\n",
              "      <td>7.7</td>\n",
              "      <td>0.715</td>\n",
              "      <td>2.1</td>\n",
              "      <td>0.064</td>\n",
              "      <td>31.0</td>\n",
              "      <td>43.0</td>\n",
              "      <td>3.41</td>\n",
              "      <td>0.57</td>\n",
              "      <td>11.8</td>\n",
              "      <td>1</td>\n",
              "    </tr>\n",
              "    <tr>\n",
              "      <th>1000</th>\n",
              "      <td>7.5</td>\n",
              "      <td>0.430</td>\n",
              "      <td>2.2</td>\n",
              "      <td>0.062</td>\n",
              "      <td>6.0</td>\n",
              "      <td>12.0</td>\n",
              "      <td>3.44</td>\n",
              "      <td>0.72</td>\n",
              "      <td>11.5</td>\n",
              "      <td>1</td>\n",
              "    </tr>\n",
              "    <tr>\n",
              "      <th>73</th>\n",
              "      <td>8.3</td>\n",
              "      <td>0.675</td>\n",
              "      <td>2.1</td>\n",
              "      <td>0.084</td>\n",
              "      <td>11.0</td>\n",
              "      <td>43.0</td>\n",
              "      <td>3.31</td>\n",
              "      <td>0.53</td>\n",
              "      <td>9.2</td>\n",
              "      <td>0</td>\n",
              "    </tr>\n",
              "  </tbody>\n",
              "</table>\n",
              "</div>"
            ],
            "text/plain": [
              "      fixed_acidity  volatile_acidity  residual_sugar  ...  sulphates  alcohol  Y\n",
              "147             7.6             0.490             1.6  ...       0.80      9.3  0\n",
              "937            12.0             0.630             1.4  ...       0.60     10.4  0\n",
              "877             7.7             0.715             2.1  ...       0.57     11.8  1\n",
              "1000            7.5             0.430             2.2  ...       0.72     11.5  1\n",
              "73              8.3             0.675             2.1  ...       0.53      9.2  0\n",
              "\n",
              "[5 rows x 10 columns]"
            ]
          },
          "metadata": {},
          "execution_count": 8
        }
      ]
    },
    {
      "cell_type": "code",
      "metadata": {
        "colab": {
          "base_uri": "https://localhost:8080/"
        },
        "id": "1e97a472",
        "outputId": "4106bec1-11db-42ae-a0ec-5ed385e64fee"
      },
      "source": [
        "# типы столбцов фрейма\n",
        "DF.dtypes"
      ],
      "id": "1e97a472",
      "execution_count": 9,
      "outputs": [
        {
          "output_type": "execute_result",
          "data": {
            "text/plain": [
              "fixed_acidity           float64\n",
              "volatile_acidity        float64\n",
              "residual_sugar          float64\n",
              "chlorides               float64\n",
              "free_sulfur_dioxide     float64\n",
              "total_sulfur_dioxide    float64\n",
              "pH                      float64\n",
              "sulphates               float64\n",
              "alcohol                 float64\n",
              "Y                         int64\n",
              "dtype: object"
            ]
          },
          "metadata": {},
          "execution_count": 9
        }
      ]
    },
    {
      "cell_type": "markdown",
      "metadata": {
        "id": "d4a540a2"
      },
      "source": [
        "Проверим, нет ли в таблице пропусков.  "
      ],
      "id": "d4a540a2"
    },
    {
      "cell_type": "code",
      "metadata": {
        "colab": {
          "base_uri": "https://localhost:8080/"
        },
        "id": "42a96cd9",
        "outputId": "dfe26c1c-92c6-4730-cf74-5d4f9f96be31"
      },
      "source": [
        "# считаем пропуски в каждом столбце\n",
        "DF.isna().sum()"
      ],
      "id": "42a96cd9",
      "execution_count": 10,
      "outputs": [
        {
          "output_type": "execute_result",
          "data": {
            "text/plain": [
              "fixed_acidity           0\n",
              "volatile_acidity        0\n",
              "residual_sugar          0\n",
              "chlorides               0\n",
              "free_sulfur_dioxide     0\n",
              "total_sulfur_dioxide    0\n",
              "pH                      0\n",
              "sulphates               0\n",
              "alcohol                 0\n",
              "Y                       0\n",
              "dtype: int64"
            ]
          },
          "metadata": {},
          "execution_count": 10
        }
      ]
    },
    {
      "cell_type": "markdown",
      "metadata": {
        "id": "2941191c"
      },
      "source": [
        "Пропусков не обнаружено.  \n",
        "\n",
        "# Предварительный анализ данных  \n",
        "\n",
        "## Описательные статистики  \n",
        "\n",
        "Считаем доли классов целевой переменной `Y`.  "
      ],
      "id": "2941191c"
    },
    {
      "cell_type": "code",
      "metadata": {
        "colab": {
          "base_uri": "https://localhost:8080/"
        },
        "id": "ad9c9120",
        "outputId": "8e361573-5577-4b54-e6ea-e68ecbe7eb07"
      },
      "source": [
        "# метки классов\n",
        "DF.Y.unique()"
      ],
      "id": "ad9c9120",
      "execution_count": 11,
      "outputs": [
        {
          "output_type": "execute_result",
          "data": {
            "text/plain": [
              "array([0, 1])"
            ]
          },
          "metadata": {},
          "execution_count": 11
        }
      ]
    },
    {
      "cell_type": "code",
      "metadata": {
        "colab": {
          "base_uri": "https://localhost:8080/"
        },
        "id": "1807f21e",
        "outputId": "65053c07-e0ac-44d2-9654-7c6c6c3265da"
      },
      "source": [
        "# доли классов\n",
        "np.around(DF.Y.value_counts() / len(DF.index), 3)"
      ],
      "id": "1807f21e",
      "execution_count": 12,
      "outputs": [
        {
          "output_type": "execute_result",
          "data": {
            "text/plain": [
              "1    0.529\n",
              "0    0.471\n",
              "Name: Y, dtype: float64"
            ]
          },
          "metadata": {},
          "execution_count": 12
        }
      ]
    },
    {
      "cell_type": "markdown",
      "metadata": {
        "id": "e3216487"
      },
      "source": [
        "Все объясняющие переменные набора данных непрерывные. Рассчитаем для них описательные статистики.  "
      ],
      "id": "e3216487"
    },
    {
      "cell_type": "code",
      "metadata": {
        "colab": {
          "base_uri": "https://localhost:8080/",
          "height": 297
        },
        "id": "c7df0768",
        "outputId": "34eb9494-4db6-4c32-a57f-9c9a292b0f0f"
      },
      "source": [
        "# описательные статистики\n",
        "DF.describe()"
      ],
      "id": "c7df0768",
      "execution_count": 13,
      "outputs": [
        {
          "output_type": "execute_result",
          "data": {
            "text/html": [
              "<div>\n",
              "<style scoped>\n",
              "    .dataframe tbody tr th:only-of-type {\n",
              "        vertical-align: middle;\n",
              "    }\n",
              "\n",
              "    .dataframe tbody tr th {\n",
              "        vertical-align: top;\n",
              "    }\n",
              "\n",
              "    .dataframe thead th {\n",
              "        text-align: right;\n",
              "    }\n",
              "</style>\n",
              "<table border=\"1\" class=\"dataframe\">\n",
              "  <thead>\n",
              "    <tr style=\"text-align: right;\">\n",
              "      <th></th>\n",
              "      <th>fixed_acidity</th>\n",
              "      <th>volatile_acidity</th>\n",
              "      <th>residual_sugar</th>\n",
              "      <th>chlorides</th>\n",
              "      <th>free_sulfur_dioxide</th>\n",
              "      <th>total_sulfur_dioxide</th>\n",
              "      <th>pH</th>\n",
              "      <th>sulphates</th>\n",
              "      <th>alcohol</th>\n",
              "      <th>Y</th>\n",
              "    </tr>\n",
              "  </thead>\n",
              "  <tbody>\n",
              "    <tr>\n",
              "      <th>count</th>\n",
              "      <td>1359.000000</td>\n",
              "      <td>1359.000000</td>\n",
              "      <td>1359.000000</td>\n",
              "      <td>1359.000000</td>\n",
              "      <td>1359.000000</td>\n",
              "      <td>1359.000000</td>\n",
              "      <td>1359.000000</td>\n",
              "      <td>1359.000000</td>\n",
              "      <td>1359.000000</td>\n",
              "      <td>1359.000000</td>\n",
              "    </tr>\n",
              "    <tr>\n",
              "      <th>mean</th>\n",
              "      <td>8.320015</td>\n",
              "      <td>0.526744</td>\n",
              "      <td>2.523326</td>\n",
              "      <td>0.087208</td>\n",
              "      <td>16.087196</td>\n",
              "      <td>47.107432</td>\n",
              "      <td>3.309286</td>\n",
              "      <td>0.657417</td>\n",
              "      <td>10.420665</td>\n",
              "      <td>0.529065</td>\n",
              "    </tr>\n",
              "    <tr>\n",
              "      <th>std</th>\n",
              "      <td>1.743664</td>\n",
              "      <td>0.176343</td>\n",
              "      <td>1.359162</td>\n",
              "      <td>0.045168</td>\n",
              "      <td>10.589176</td>\n",
              "      <td>33.365074</td>\n",
              "      <td>0.150939</td>\n",
              "      <td>0.168720</td>\n",
              "      <td>1.062383</td>\n",
              "      <td>0.499338</td>\n",
              "    </tr>\n",
              "    <tr>\n",
              "      <th>min</th>\n",
              "      <td>4.600000</td>\n",
              "      <td>0.120000</td>\n",
              "      <td>0.900000</td>\n",
              "      <td>0.012000</td>\n",
              "      <td>1.000000</td>\n",
              "      <td>6.000000</td>\n",
              "      <td>2.740000</td>\n",
              "      <td>0.330000</td>\n",
              "      <td>8.400000</td>\n",
              "      <td>0.000000</td>\n",
              "    </tr>\n",
              "    <tr>\n",
              "      <th>25%</th>\n",
              "      <td>7.100000</td>\n",
              "      <td>0.390000</td>\n",
              "      <td>1.900000</td>\n",
              "      <td>0.070000</td>\n",
              "      <td>8.000000</td>\n",
              "      <td>22.000000</td>\n",
              "      <td>3.210000</td>\n",
              "      <td>0.550000</td>\n",
              "      <td>9.500000</td>\n",
              "      <td>0.000000</td>\n",
              "    </tr>\n",
              "    <tr>\n",
              "      <th>50%</th>\n",
              "      <td>7.900000</td>\n",
              "      <td>0.520000</td>\n",
              "      <td>2.200000</td>\n",
              "      <td>0.079000</td>\n",
              "      <td>14.000000</td>\n",
              "      <td>38.000000</td>\n",
              "      <td>3.310000</td>\n",
              "      <td>0.620000</td>\n",
              "      <td>10.100000</td>\n",
              "      <td>1.000000</td>\n",
              "    </tr>\n",
              "    <tr>\n",
              "      <th>75%</th>\n",
              "      <td>9.200000</td>\n",
              "      <td>0.640000</td>\n",
              "      <td>2.600000</td>\n",
              "      <td>0.090500</td>\n",
              "      <td>22.000000</td>\n",
              "      <td>64.000000</td>\n",
              "      <td>3.400000</td>\n",
              "      <td>0.730000</td>\n",
              "      <td>11.100000</td>\n",
              "      <td>1.000000</td>\n",
              "    </tr>\n",
              "    <tr>\n",
              "      <th>max</th>\n",
              "      <td>15.900000</td>\n",
              "      <td>1.330000</td>\n",
              "      <td>15.400000</td>\n",
              "      <td>0.610000</td>\n",
              "      <td>72.000000</td>\n",
              "      <td>289.000000</td>\n",
              "      <td>3.900000</td>\n",
              "      <td>2.000000</td>\n",
              "      <td>14.900000</td>\n",
              "      <td>1.000000</td>\n",
              "    </tr>\n",
              "  </tbody>\n",
              "</table>\n",
              "</div>"
            ],
            "text/plain": [
              "       fixed_acidity  volatile_acidity  ...      alcohol            Y\n",
              "count    1359.000000       1359.000000  ...  1359.000000  1359.000000\n",
              "mean        8.320015          0.526744  ...    10.420665     0.529065\n",
              "std         1.743664          0.176343  ...     1.062383     0.499338\n",
              "min         4.600000          0.120000  ...     8.400000     0.000000\n",
              "25%         7.100000          0.390000  ...     9.500000     0.000000\n",
              "50%         7.900000          0.520000  ...    10.100000     1.000000\n",
              "75%         9.200000          0.640000  ...    11.100000     1.000000\n",
              "max        15.900000          1.330000  ...    14.900000     1.000000\n",
              "\n",
              "[8 rows x 10 columns]"
            ]
          },
          "metadata": {},
          "execution_count": 13
        }
      ]
    },
    {
      "cell_type": "markdown",
      "metadata": {
        "id": "8fe7bbef"
      },
      "source": [
        "Выводы по описательным статистикам: значения объясняющих переменных положительные, масштабы измерения отличаются. Для работы с методами снижения размерности и регуляризации понадобится стандартизация значений.   \n",
        "\n",
        "## Визуализация разброса переменных внутри классов  \n",
        "\n",
        "Поскольку в наборе данных 9 объясняющих переменных, и все они непрерывные, анализ матричного графика разброса будет затруднительным. Построим коробчатые диаграммы для объясняющих переменных, чтобы сравнить средние уровни и разброс по классам.  "
      ],
      "id": "8fe7bbef"
    },
    {
      "cell_type": "code",
      "metadata": {
        "colab": {
          "base_uri": "https://localhost:8080/",
          "height": 369
        },
        "id": "d4ee5069",
        "outputId": "94ae4868-3950-40d5-d399-5751b1052f0d"
      },
      "source": [
        "# создаём полотно и делим его на четыре части\n",
        "fig = plt.figure(figsize=(12, 5))\n",
        "gs = mpl.gridspec.GridSpec(1, 5)\n",
        "ax1 = plt.subplot(gs[0, 0])\n",
        "ax2 = plt.subplot(gs[0, 1])\n",
        "ax3 = plt.subplot(gs[0, 2])\n",
        "ax4 = plt.subplot(gs[0, 3])\n",
        "ax5 = plt.subplot(gs[0, 4])\n",
        "\n",
        "axs = [ax1, ax2, ax3, ax4, ax5]\n",
        "\n",
        "cols_loop = list(DF.columns[:5].values)\n",
        "for col_name in cols_loop :\n",
        "    i = cols_loop.index(col_name)\n",
        "    sns.boxplot(x='Y', y=col_name, data=DF, ax=axs[i])\n",
        "    axs[i].set_ylabel(col_name)\n",
        "    axs[i].set_title(col_name)\n",
        "\n",
        "# корректируем расположение графиков на полотне\n",
        "gs.tight_layout(plt.gcf())\n",
        "plt.show()"
      ],
      "id": "d4ee5069",
      "execution_count": 21,
      "outputs": [
        {
          "output_type": "display_data",
          "data": {
            "image/png": "[encoded data removed]",
            "text/plain": [
              "<Figure size 864x360 with 5 Axes>"
            ]
          },
          "metadata": {}
        }
      ]
    },
    {
      "cell_type": "code",
      "metadata": {
        "colab": {
          "base_uri": "https://localhost:8080/",
          "height": 369
        },
        "id": "af48928a",
        "outputId": "49fbbd0a-5018-4c79-eb6b-7b3efd238356"
      },
      "source": [
        "# создаём полотно и делим его на четыре части\n",
        "fig = plt.figure(figsize=(12, 5))\n",
        "gs = mpl.gridspec.GridSpec(1, 5)\n",
        "ax1 = plt.subplot(gs[0, 0])\n",
        "ax2 = plt.subplot(gs[0, 1])\n",
        "ax3 = plt.subplot(gs[0, 2])\n",
        "ax4 = plt.subplot(gs[0, 3])\n",
        "ax5 = plt.subplot(gs[0, 4])\n",
        "\n",
        "axs = [ax1, ax2, ax3, ax4, ax5]\n",
        "\n",
        "cols_loop = list(DF.columns[5:10].values)\n",
        "for col_name in cols_loop :\n",
        "    i = cols_loop.index(col_name)\n",
        "    sns.boxplot(x='Y', y=col_name, data=DF, ax=axs[i])\n",
        "    axs[i].set_ylabel(col_name)\n",
        "    axs[i].set_title(col_name)\n",
        "\n",
        "# корректируем расположение графиков на полотне\n",
        "gs.tight_layout(plt.gcf())\n",
        "plt.show()"
      ],
      "id": "af48928a",
      "execution_count": 22,
      "outputs": [
        {
          "output_type": "display_data",
          "data": {
            "image/png": "[encoded data removed]",
            "text/plain": [
              "<Figure size 864x360 with 5 Axes>"
            ]
          },
          "metadata": {}
        }
      ]
    },
    {
      "cell_type": "markdown",
      "metadata": {
        "id": "c4e9584f"
      },
      "source": [
        "На графиках отличие в медианах и разбросе между классами прослеживается практически по всем объясняющим переменным. Меньше всего различаются коробчатые диаграммы по переменным `pH` и `residual_sugar`. Это говорит о том, классы по зависимой переменной `Y` неплохо разделяются по всем объясняющим переменным.  "
      ],
      "id": "c4e9584f"
    },
    {
      "cell_type": "markdown",
      "metadata": {
        "id": "bac7542b"
      },
      "source": [
        "## Корреляционный анализ   \n",
        "\n",
        "Теперь посмотрим на взаимодействие объясняющих переменных.  "
      ],
      "id": "bac7542b"
    },
    {
      "cell_type": "code",
      "metadata": {
        "colab": {
          "base_uri": "https://localhost:8080/",
          "height": 602
        },
        "id": "11a7b0c4",
        "outputId": "224aee4d-8723-4360-e886-6936e755bb19"
      },
      "source": [
        "# рассчитываем корреляционную матрицу\n",
        "corr_mat = DF.drop('Y', axis=1).corr()\n",
        "col_names = DF.drop('Y', axis=1).columns\n",
        "\n",
        "# переключаем стиль оформления, чтобы убрать сетку с тепловой карты\n",
        "mpl.style.use('seaborn-white')\n",
        "\n",
        "# рисуем корреляционную матрицу\n",
        "f = plt.figure(figsize=(10, 8))\n",
        "plt.matshow(corr_mat, fignum=f.number, cmap='PiYG')\n",
        "# координаты для названий строк и столбцов\n",
        "tics_coords = np.arange(0, len(col_names))\n",
        "# рисуем подписи\n",
        "plt.xticks(tics_coords, col_names, fontsize=14, rotation=90)\n",
        "plt.yticks(tics_coords, col_names, fontsize=14)\n",
        "# настраиваем легенду справа от тепловой карты\n",
        "cb = plt.colorbar()\n",
        "cb.ax.tick_params(labelsize=14)\n",
        "cb.ax.tick_params(labelsize=14)\n",
        "plt.show()"
      ],
      "id": "11a7b0c4",
      "execution_count": 24,
      "outputs": [
        {
          "output_type": "display_data",
          "data": {
            "image/png": "[encoded data removed]",
            "text/plain": [
              "<Figure size 720x576 with 2 Axes>"
            ]
          },
          "metadata": {}
        }
      ]
    },
    {
      "cell_type": "markdown",
      "metadata": {
        "id": "b47250c6"
      },
      "source": [
        "Между объясняющими переменными обнаруживаются как прямые, так и обратные линейные взаимосвязи. Выведем все значимые коэффициенты в одной таблице и определим минимальный / максимальный из них.     "
      ],
      "id": "b47250c6"
    },
    {
      "cell_type": "code",
      "metadata": {
        "colab": {
          "base_uri": "https://localhost:8080/",
          "height": 1000
        },
        "id": "bf56e251",
        "outputId": "98a7b849-c172-4cc5-c0c7-07a286bbabc4"
      },
      "source": [
        "# делаем фрейм из корреляционной матрицы и стираем диагональные значения\n",
        "#  и нижний треугольник матрицы\n",
        "df = corr_mat\n",
        "df = df.where(np.triu(np.ones(df.shape), k=1).astype(bool))\n",
        "# меняем размерность с матрицы на таблицу: показатель 1, показатель 2,\n",
        "#  корреляция\n",
        "df = df.stack().reset_index()\n",
        "df.columns = ['Показатель_1', 'Показатель_2', 'Корреляция']\n",
        "# считаем двусторонние p-значения для проверки значимости\n",
        "t_stat = np.sqrt((len(DF.index) - 2) / (1 - df.Корреляция ** 2))\n",
        "df['P_значение'] = 2 * (1 - t.cdf(abs(t_stat), len(DF.index) - 2))\n",
        "# получили все корреляционные коэффициенты без 1 и без повторов\n",
        "#  выводим все значимые с сортировкой\n",
        "df.loc[df['P_значение'] < 0.05].sort_values('Корреляция')"
      ],
      "id": "bf56e251",
      "execution_count": 25,
      "outputs": [
        {
          "output_type": "execute_result",
          "data": {
            "text/html": [
              "<div>\n",
              "<style scoped>\n",
              "    .dataframe tbody tr th:only-of-type {\n",
              "        vertical-align: middle;\n",
              "    }\n",
              "\n",
              "    .dataframe tbody tr th {\n",
              "        vertical-align: top;\n",
              "    }\n",
              "\n",
              "    .dataframe thead th {\n",
              "        text-align: right;\n",
              "    }\n",
              "</style>\n",
              "<table border=\"1\" class=\"dataframe\">\n",
              "  <thead>\n",
              "    <tr style=\"text-align: right;\">\n",
              "      <th></th>\n",
              "      <th>Показатель_1</th>\n",
              "      <th>Показатель_2</th>\n",
              "      <th>Корреляция</th>\n",
              "      <th>P_значение</th>\n",
              "    </tr>\n",
              "  </thead>\n",
              "  <tbody>\n",
              "    <tr>\n",
              "      <th>5</th>\n",
              "      <td>fixed_acidity</td>\n",
              "      <td>pH</td>\n",
              "      <td>-0.679222</td>\n",
              "      <td>0.0</td>\n",
              "    </tr>\n",
              "    <tr>\n",
              "      <th>23</th>\n",
              "      <td>chlorides</td>\n",
              "      <td>pH</td>\n",
              "      <td>-0.266149</td>\n",
              "      <td>0.0</td>\n",
              "    </tr>\n",
              "    <tr>\n",
              "      <th>13</th>\n",
              "      <td>volatile_acidity</td>\n",
              "      <td>sulphates</td>\n",
              "      <td>-0.261673</td>\n",
              "      <td>0.0</td>\n",
              "    </tr>\n",
              "    <tr>\n",
              "      <th>0</th>\n",
              "      <td>fixed_acidity</td>\n",
              "      <td>volatile_acidity</td>\n",
              "      <td>-0.249112</td>\n",
              "      <td>0.0</td>\n",
              "    </tr>\n",
              "    <tr>\n",
              "      <th>25</th>\n",
              "      <td>chlorides</td>\n",
              "      <td>alcohol</td>\n",
              "      <td>-0.219163</td>\n",
              "      <td>0.0</td>\n",
              "    </tr>\n",
              "    <tr>\n",
              "      <th>14</th>\n",
              "      <td>volatile_acidity</td>\n",
              "      <td>alcohol</td>\n",
              "      <td>-0.212316</td>\n",
              "      <td>0.0</td>\n",
              "    </tr>\n",
              "    <tr>\n",
              "      <th>32</th>\n",
              "      <td>total_sulfur_dioxide</td>\n",
              "      <td>alcohol</td>\n",
              "      <td>-0.204688</td>\n",
              "      <td>0.0</td>\n",
              "    </tr>\n",
              "    <tr>\n",
              "      <th>33</th>\n",
              "      <td>pH</td>\n",
              "      <td>sulphates</td>\n",
              "      <td>-0.183784</td>\n",
              "      <td>0.0</td>\n",
              "    </tr>\n",
              "    <tr>\n",
              "      <th>3</th>\n",
              "      <td>fixed_acidity</td>\n",
              "      <td>free_sulfur_dioxide</td>\n",
              "      <td>-0.154581</td>\n",
              "      <td>0.0</td>\n",
              "    </tr>\n",
              "    <tr>\n",
              "      <th>4</th>\n",
              "      <td>fixed_acidity</td>\n",
              "      <td>total_sulfur_dioxide</td>\n",
              "      <td>-0.109531</td>\n",
              "      <td>0.0</td>\n",
              "    </tr>\n",
              "    <tr>\n",
              "      <th>18</th>\n",
              "      <td>residual_sugar</td>\n",
              "      <td>pH</td>\n",
              "      <td>-0.086573</td>\n",
              "      <td>0.0</td>\n",
              "    </tr>\n",
              "    <tr>\n",
              "      <th>29</th>\n",
              "      <td>free_sulfur_dioxide</td>\n",
              "      <td>alcohol</td>\n",
              "      <td>-0.068994</td>\n",
              "      <td>0.0</td>\n",
              "    </tr>\n",
              "    <tr>\n",
              "      <th>30</th>\n",
              "      <td>total_sulfur_dioxide</td>\n",
              "      <td>pH</td>\n",
              "      <td>-0.059394</td>\n",
              "      <td>0.0</td>\n",
              "    </tr>\n",
              "    <tr>\n",
              "      <th>7</th>\n",
              "      <td>fixed_acidity</td>\n",
              "      <td>alcohol</td>\n",
              "      <td>-0.055310</td>\n",
              "      <td>0.0</td>\n",
              "    </tr>\n",
              "    <tr>\n",
              "      <th>10</th>\n",
              "      <td>volatile_acidity</td>\n",
              "      <td>free_sulfur_dioxide</td>\n",
              "      <td>-0.009369</td>\n",
              "      <td>0.0</td>\n",
              "    </tr>\n",
              "    <tr>\n",
              "      <th>8</th>\n",
              "      <td>volatile_acidity</td>\n",
              "      <td>residual_sugar</td>\n",
              "      <td>0.003307</td>\n",
              "      <td>0.0</td>\n",
              "    </tr>\n",
              "    <tr>\n",
              "      <th>19</th>\n",
              "      <td>residual_sugar</td>\n",
              "      <td>sulphates</td>\n",
              "      <td>0.004742</td>\n",
              "      <td>0.0</td>\n",
              "    </tr>\n",
              "    <tr>\n",
              "      <th>21</th>\n",
              "      <td>chlorides</td>\n",
              "      <td>free_sulfur_dioxide</td>\n",
              "      <td>0.015747</td>\n",
              "      <td>0.0</td>\n",
              "    </tr>\n",
              "    <tr>\n",
              "      <th>20</th>\n",
              "      <td>residual_sugar</td>\n",
              "      <td>alcohol</td>\n",
              "      <td>0.045211</td>\n",
              "      <td>0.0</td>\n",
              "    </tr>\n",
              "    <tr>\n",
              "      <th>22</th>\n",
              "      <td>chlorides</td>\n",
              "      <td>total_sulfur_dioxide</td>\n",
              "      <td>0.050145</td>\n",
              "      <td>0.0</td>\n",
              "    </tr>\n",
              "    <tr>\n",
              "      <th>31</th>\n",
              "      <td>total_sulfur_dioxide</td>\n",
              "      <td>sulphates</td>\n",
              "      <td>0.050938</td>\n",
              "      <td>0.0</td>\n",
              "    </tr>\n",
              "    <tr>\n",
              "      <th>15</th>\n",
              "      <td>residual_sugar</td>\n",
              "      <td>chlorides</td>\n",
              "      <td>0.061581</td>\n",
              "      <td>0.0</td>\n",
              "    </tr>\n",
              "    <tr>\n",
              "      <th>9</th>\n",
              "      <td>volatile_acidity</td>\n",
              "      <td>chlorides</td>\n",
              "      <td>0.063067</td>\n",
              "      <td>0.0</td>\n",
              "    </tr>\n",
              "    <tr>\n",
              "      <th>28</th>\n",
              "      <td>free_sulfur_dioxide</td>\n",
              "      <td>sulphates</td>\n",
              "      <td>0.064838</td>\n",
              "      <td>0.0</td>\n",
              "    </tr>\n",
              "    <tr>\n",
              "      <th>11</th>\n",
              "      <td>volatile_acidity</td>\n",
              "      <td>total_sulfur_dioxide</td>\n",
              "      <td>0.070710</td>\n",
              "      <td>0.0</td>\n",
              "    </tr>\n",
              "    <tr>\n",
              "      <th>27</th>\n",
              "      <td>free_sulfur_dioxide</td>\n",
              "      <td>pH</td>\n",
              "      <td>0.091888</td>\n",
              "      <td>0.0</td>\n",
              "    </tr>\n",
              "    <tr>\n",
              "      <th>2</th>\n",
              "      <td>fixed_acidity</td>\n",
              "      <td>chlorides</td>\n",
              "      <td>0.103146</td>\n",
              "      <td>0.0</td>\n",
              "    </tr>\n",
              "    <tr>\n",
              "      <th>1</th>\n",
              "      <td>fixed_acidity</td>\n",
              "      <td>residual_sugar</td>\n",
              "      <td>0.112357</td>\n",
              "      <td>0.0</td>\n",
              "    </tr>\n",
              "    <tr>\n",
              "      <th>35</th>\n",
              "      <td>sulphates</td>\n",
              "      <td>alcohol</td>\n",
              "      <td>0.115514</td>\n",
              "      <td>0.0</td>\n",
              "    </tr>\n",
              "    <tr>\n",
              "      <th>6</th>\n",
              "      <td>fixed_acidity</td>\n",
              "      <td>sulphates</td>\n",
              "      <td>0.176118</td>\n",
              "      <td>0.0</td>\n",
              "    </tr>\n",
              "    <tr>\n",
              "      <th>34</th>\n",
              "      <td>pH</td>\n",
              "      <td>alcohol</td>\n",
              "      <td>0.198866</td>\n",
              "      <td>0.0</td>\n",
              "    </tr>\n",
              "    <tr>\n",
              "      <th>12</th>\n",
              "      <td>volatile_acidity</td>\n",
              "      <td>pH</td>\n",
              "      <td>0.217275</td>\n",
              "      <td>0.0</td>\n",
              "    </tr>\n",
              "    <tr>\n",
              "      <th>16</th>\n",
              "      <td>residual_sugar</td>\n",
              "      <td>free_sulfur_dioxide</td>\n",
              "      <td>0.218548</td>\n",
              "      <td>0.0</td>\n",
              "    </tr>\n",
              "    <tr>\n",
              "      <th>17</th>\n",
              "      <td>residual_sugar</td>\n",
              "      <td>total_sulfur_dioxide</td>\n",
              "      <td>0.241975</td>\n",
              "      <td>0.0</td>\n",
              "    </tr>\n",
              "    <tr>\n",
              "      <th>24</th>\n",
              "      <td>chlorides</td>\n",
              "      <td>sulphates</td>\n",
              "      <td>0.356182</td>\n",
              "      <td>0.0</td>\n",
              "    </tr>\n",
              "    <tr>\n",
              "      <th>26</th>\n",
              "      <td>free_sulfur_dioxide</td>\n",
              "      <td>total_sulfur_dioxide</td>\n",
              "      <td>0.660889</td>\n",
              "      <td>0.0</td>\n",
              "    </tr>\n",
              "  </tbody>\n",
              "</table>\n",
              "</div>"
            ],
            "text/plain": [
              "            Показатель_1          Показатель_2  Корреляция  P_значение\n",
              "5          fixed_acidity                    pH   -0.679222         0.0\n",
              "23             chlorides                    pH   -0.266149         0.0\n",
              "13      volatile_acidity             sulphates   -0.261673         0.0\n",
              "0          fixed_acidity      volatile_acidity   -0.249112         0.0\n",
              "25             chlorides               alcohol   -0.219163         0.0\n",
              "14      volatile_acidity               alcohol   -0.212316         0.0\n",
              "32  total_sulfur_dioxide               alcohol   -0.204688         0.0\n",
              "33                    pH             sulphates   -0.183784         0.0\n",
              "3          fixed_acidity   free_sulfur_dioxide   -0.154581         0.0\n",
              "4          fixed_acidity  total_sulfur_dioxide   -0.109531         0.0\n",
              "18        residual_sugar                    pH   -0.086573         0.0\n",
              "29   free_sulfur_dioxide               alcohol   -0.068994         0.0\n",
              "30  total_sulfur_dioxide                    pH   -0.059394         0.0\n",
              "7          fixed_acidity               alcohol   -0.055310         0.0\n",
              "10      volatile_acidity   free_sulfur_dioxide   -0.009369         0.0\n",
              "8       volatile_acidity        residual_sugar    0.003307         0.0\n",
              "19        residual_sugar             sulphates    0.004742         0.0\n",
              "21             chlorides   free_sulfur_dioxide    0.015747         0.0\n",
              "20        residual_sugar               alcohol    0.045211         0.0\n",
              "22             chlorides  total_sulfur_dioxide    0.050145         0.0\n",
              "31  total_sulfur_dioxide             sulphates    0.050938         0.0\n",
              "15        residual_sugar             chlorides    0.061581         0.0\n",
              "9       volatile_acidity             chlorides    0.063067         0.0\n",
              "28   free_sulfur_dioxide             sulphates    0.064838         0.0\n",
              "11      volatile_acidity  total_sulfur_dioxide    0.070710         0.0\n",
              "27   free_sulfur_dioxide                    pH    0.091888         0.0\n",
              "2          fixed_acidity             chlorides    0.103146         0.0\n",
              "1          fixed_acidity        residual_sugar    0.112357         0.0\n",
              "35             sulphates               alcohol    0.115514         0.0\n",
              "6          fixed_acidity             sulphates    0.176118         0.0\n",
              "34                    pH               alcohol    0.198866         0.0\n",
              "12      volatile_acidity                    pH    0.217275         0.0\n",
              "16        residual_sugar   free_sulfur_dioxide    0.218548         0.0\n",
              "17        residual_sugar  total_sulfur_dioxide    0.241975         0.0\n",
              "24             chlorides             sulphates    0.356182         0.0\n",
              "26   free_sulfur_dioxide  total_sulfur_dioxide    0.660889         0.0"
            ]
          },
          "metadata": {},
          "execution_count": 25
        }
      ]
    },
    {
      "cell_type": "markdown",
      "metadata": {
        "id": "d3a48810"
      },
      "source": [
        "# Методы снижения резмерности  \n",
        "\n",
        "Метод снижения размерности:  \n",
        "\n",
        "* регрессия на главные компоненты (PCR)   \n",
        "\n",
        "Проведем стандартизацию."
      ],
      "id": "d3a48810"
    },
    {
      "cell_type": "code",
      "metadata": {
        "colab": {
          "base_uri": "https://localhost:8080/"
        },
        "id": "688312d9",
        "outputId": "45c69837-87a7-4465-f84b-f89e7b211d46"
      },
      "source": [
        "# стандартизация\n",
        "sc = StandardScaler()\n",
        "X_train_std = sc.fit_transform(DF.iloc[:, :10].values)\n",
        "\n",
        "# проверяем средние и стандартные отклонения после стандартизации\n",
        "for i_col in range(X_train_std.shape[1]) :\n",
        "    print('Столбец ', i_col, ': среднее = ',\n",
        "          np.round(np.mean(X_train_std[:, i_col]), 2),\n",
        "         '   Станд. отклонение = ', \n",
        "          np.round(np.std(X_train_std[:, i_col]), 2), sep='')"
      ],
      "id": "688312d9",
      "execution_count": 29,
      "outputs": [
        {
          "output_type": "stream",
          "name": "stdout",
          "text": [
            "Столбец 0: среднее = 0.0   Станд. отклонение = 1.0\n",
            "Столбец 1: среднее = 0.0   Станд. отклонение = 1.0\n",
            "Столбец 2: среднее = -0.0   Станд. отклонение = 1.0\n",
            "Столбец 3: среднее = 0.0   Станд. отклонение = 1.0\n",
            "Столбец 4: среднее = 0.0   Станд. отклонение = 1.0\n",
            "Столбец 5: среднее = 0.0   Станд. отклонение = 1.0\n",
            "Столбец 6: среднее = 0.0   Станд. отклонение = 1.0\n",
            "Столбец 7: среднее = 0.0   Станд. отклонение = 1.0\n",
            "Столбец 8: среднее = -0.0   Станд. отклонение = 1.0\n",
            "Столбец 9: среднее = 0.0   Станд. отклонение = 1.0\n"
          ]
        }
      ]
    },
    {
      "cell_type": "markdown",
      "metadata": {
        "id": "ytzs7tpBlNyE"
      },
      "source": [
        "Распределения столбцов приняли нормальное распределение с мат. ожиданием равным нулю и СКО равным единице."
      ],
      "id": "ytzs7tpBlNyE"
    },
    {
      "cell_type": "markdown",
      "metadata": {
        "id": "061a0c22"
      },
      "source": [
        "## Регрессия на главные компоненты (PCR)  \n",
        "\n",
        "Пересчитаем объясняющие показатели в главные компоненты.  "
      ],
      "id": "061a0c22"
    },
    {
      "cell_type": "code",
      "metadata": {
        "colab": {
          "base_uri": "https://localhost:8080/"
        },
        "id": "c1e2e90c",
        "outputId": "e646a85b-4e2a-4a64-b4d8-ba2ec5a0cffe"
      },
      "source": [
        "# функция с методом главных компонент\n",
        "pca = PCA()\n",
        "# пересчитываем в главные компоненты (ГК)\n",
        "X_train_pca = pca.fit_transform(X_train_std)\n",
        "\n",
        "# считаем доли объяснённой дисперсии\n",
        "frac_var_expl = pca.explained_variance_ratio_\n",
        "print('Доли объяснённой дисперсии по компонентам в PCR:\\n',\n",
        "     np.around(frac_var_expl, 3),\n",
        "     '\\nОбщая сумма долей:', np.around(sum(frac_var_expl), 3))"
      ],
      "id": "c1e2e90c",
      "execution_count": 107,
      "outputs": [
        {
          "output_type": "stream",
          "name": "stdout",
          "text": [
            "Доли объяснённой дисперсии по компонентам в PCR:\n",
            " [0.214 0.2   0.161 0.114 0.091 0.061 0.053 0.048 0.034 0.024] \n",
            "Общая сумма долей: 1.0\n"
          ]
        }
      ]
    },
    {
      "cell_type": "markdown",
      "metadata": {
        "id": "7ae90980"
      },
      "source": [
        "Главные компоненты взаимно ортогональны, убедимся в этом.  "
      ],
      "id": "7ae90980"
    },
    {
      "cell_type": "code",
      "metadata": {
        "colab": {
          "base_uri": "https://localhost:8080/",
          "height": 359
        },
        "id": "9ba52a15",
        "outputId": "0ee0afa7-b5be-4a3f-b2cb-50c89e40a398"
      },
      "source": [
        "# ГК ортогональны – убедимся в этом, рассчитыв корреляционную матрицу\n",
        "corr_mat = pd.DataFrame(X_train_pca).corr()\n",
        "np.around(corr_mat, 2)"
      ],
      "id": "9ba52a15",
      "execution_count": 65,
      "outputs": [
        {
          "output_type": "execute_result",
          "data": {
            "text/html": [
              "<div>\n",
              "<style scoped>\n",
              "    .dataframe tbody tr th:only-of-type {\n",
              "        vertical-align: middle;\n",
              "    }\n",
              "\n",
              "    .dataframe tbody tr th {\n",
              "        vertical-align: top;\n",
              "    }\n",
              "\n",
              "    .dataframe thead th {\n",
              "        text-align: right;\n",
              "    }\n",
              "</style>\n",
              "<table border=\"1\" class=\"dataframe\">\n",
              "  <thead>\n",
              "    <tr style=\"text-align: right;\">\n",
              "      <th></th>\n",
              "      <th>0</th>\n",
              "      <th>1</th>\n",
              "      <th>2</th>\n",
              "      <th>3</th>\n",
              "      <th>4</th>\n",
              "      <th>5</th>\n",
              "      <th>6</th>\n",
              "      <th>7</th>\n",
              "      <th>8</th>\n",
              "      <th>9</th>\n",
              "    </tr>\n",
              "  </thead>\n",
              "  <tbody>\n",
              "    <tr>\n",
              "      <th>0</th>\n",
              "      <td>1.0</td>\n",
              "      <td>-0.0</td>\n",
              "      <td>-0.0</td>\n",
              "      <td>-0.0</td>\n",
              "      <td>0.0</td>\n",
              "      <td>-0.0</td>\n",
              "      <td>0.0</td>\n",
              "      <td>0.0</td>\n",
              "      <td>0.0</td>\n",
              "      <td>0.0</td>\n",
              "    </tr>\n",
              "    <tr>\n",
              "      <th>1</th>\n",
              "      <td>-0.0</td>\n",
              "      <td>1.0</td>\n",
              "      <td>0.0</td>\n",
              "      <td>0.0</td>\n",
              "      <td>-0.0</td>\n",
              "      <td>0.0</td>\n",
              "      <td>0.0</td>\n",
              "      <td>-0.0</td>\n",
              "      <td>-0.0</td>\n",
              "      <td>0.0</td>\n",
              "    </tr>\n",
              "    <tr>\n",
              "      <th>2</th>\n",
              "      <td>-0.0</td>\n",
              "      <td>0.0</td>\n",
              "      <td>1.0</td>\n",
              "      <td>-0.0</td>\n",
              "      <td>-0.0</td>\n",
              "      <td>-0.0</td>\n",
              "      <td>-0.0</td>\n",
              "      <td>0.0</td>\n",
              "      <td>-0.0</td>\n",
              "      <td>0.0</td>\n",
              "    </tr>\n",
              "    <tr>\n",
              "      <th>3</th>\n",
              "      <td>-0.0</td>\n",
              "      <td>0.0</td>\n",
              "      <td>-0.0</td>\n",
              "      <td>1.0</td>\n",
              "      <td>0.0</td>\n",
              "      <td>0.0</td>\n",
              "      <td>-0.0</td>\n",
              "      <td>0.0</td>\n",
              "      <td>0.0</td>\n",
              "      <td>0.0</td>\n",
              "    </tr>\n",
              "    <tr>\n",
              "      <th>4</th>\n",
              "      <td>0.0</td>\n",
              "      <td>-0.0</td>\n",
              "      <td>-0.0</td>\n",
              "      <td>0.0</td>\n",
              "      <td>1.0</td>\n",
              "      <td>0.0</td>\n",
              "      <td>-0.0</td>\n",
              "      <td>-0.0</td>\n",
              "      <td>-0.0</td>\n",
              "      <td>-0.0</td>\n",
              "    </tr>\n",
              "    <tr>\n",
              "      <th>5</th>\n",
              "      <td>-0.0</td>\n",
              "      <td>0.0</td>\n",
              "      <td>-0.0</td>\n",
              "      <td>0.0</td>\n",
              "      <td>0.0</td>\n",
              "      <td>1.0</td>\n",
              "      <td>0.0</td>\n",
              "      <td>0.0</td>\n",
              "      <td>-0.0</td>\n",
              "      <td>-0.0</td>\n",
              "    </tr>\n",
              "    <tr>\n",
              "      <th>6</th>\n",
              "      <td>0.0</td>\n",
              "      <td>0.0</td>\n",
              "      <td>-0.0</td>\n",
              "      <td>-0.0</td>\n",
              "      <td>-0.0</td>\n",
              "      <td>0.0</td>\n",
              "      <td>1.0</td>\n",
              "      <td>-0.0</td>\n",
              "      <td>-0.0</td>\n",
              "      <td>0.0</td>\n",
              "    </tr>\n",
              "    <tr>\n",
              "      <th>7</th>\n",
              "      <td>0.0</td>\n",
              "      <td>-0.0</td>\n",
              "      <td>0.0</td>\n",
              "      <td>0.0</td>\n",
              "      <td>-0.0</td>\n",
              "      <td>0.0</td>\n",
              "      <td>-0.0</td>\n",
              "      <td>1.0</td>\n",
              "      <td>0.0</td>\n",
              "      <td>-0.0</td>\n",
              "    </tr>\n",
              "    <tr>\n",
              "      <th>8</th>\n",
              "      <td>0.0</td>\n",
              "      <td>-0.0</td>\n",
              "      <td>-0.0</td>\n",
              "      <td>0.0</td>\n",
              "      <td>-0.0</td>\n",
              "      <td>-0.0</td>\n",
              "      <td>-0.0</td>\n",
              "      <td>0.0</td>\n",
              "      <td>1.0</td>\n",
              "      <td>-0.0</td>\n",
              "    </tr>\n",
              "    <tr>\n",
              "      <th>9</th>\n",
              "      <td>0.0</td>\n",
              "      <td>0.0</td>\n",
              "      <td>0.0</td>\n",
              "      <td>0.0</td>\n",
              "      <td>-0.0</td>\n",
              "      <td>-0.0</td>\n",
              "      <td>0.0</td>\n",
              "      <td>-0.0</td>\n",
              "      <td>-0.0</td>\n",
              "      <td>1.0</td>\n",
              "    </tr>\n",
              "  </tbody>\n",
              "</table>\n",
              "</div>"
            ],
            "text/plain": [
              "     0    1    2    3    4    5    6    7    8    9\n",
              "0  1.0 -0.0 -0.0 -0.0  0.0 -0.0  0.0  0.0  0.0  0.0\n",
              "1 -0.0  1.0  0.0  0.0 -0.0  0.0  0.0 -0.0 -0.0  0.0\n",
              "2 -0.0  0.0  1.0 -0.0 -0.0 -0.0 -0.0  0.0 -0.0  0.0\n",
              "3 -0.0  0.0 -0.0  1.0  0.0  0.0 -0.0  0.0  0.0  0.0\n",
              "4  0.0 -0.0 -0.0  0.0  1.0  0.0 -0.0 -0.0 -0.0 -0.0\n",
              "5 -0.0  0.0 -0.0  0.0  0.0  1.0  0.0  0.0 -0.0 -0.0\n",
              "6  0.0  0.0 -0.0 -0.0 -0.0  0.0  1.0 -0.0 -0.0  0.0\n",
              "7  0.0 -0.0  0.0  0.0 -0.0  0.0 -0.0  1.0  0.0 -0.0\n",
              "8  0.0 -0.0 -0.0  0.0 -0.0 -0.0 -0.0  0.0  1.0 -0.0\n",
              "9  0.0  0.0  0.0  0.0 -0.0 -0.0  0.0 -0.0 -0.0  1.0"
            ]
          },
          "metadata": {},
          "execution_count": 65
        }
      ]
    },
    {
      "cell_type": "markdown",
      "metadata": {
        "id": "85d9327f"
      },
      "source": [
        "Построим график объяснённой дисперсии. "
      ],
      "id": "85d9327f"
    },
    {
      "cell_type": "code",
      "metadata": {
        "colab": {
          "base_uri": "https://localhost:8080/",
          "height": 276
        },
        "id": "18370b0e",
        "outputId": "3bba5343-73b0-465a-a250-831568cc62d6"
      },
      "source": [
        "# график объяснённой дисперсии\n",
        "plt.bar(range(1,11),frac_var_expl,alpha=0.5,align='center',label='индивидуальная')\n",
        "plt.step(range(1,11),np.cumsum(frac_var_expl),where='mid',label='накопленная')\n",
        "plt.ylabel('Доля объяснённой дисперсии')\n",
        "plt.xlabel('Главные компоненты')\n",
        "plt.legend()\n",
        "plt.show()"
      ],
      "id": "18370b0e",
      "execution_count": 87,
      "outputs": [
        {
          "output_type": "display_data",
          "data": {
            "image/png": "[encoded data removed]",
            "text/plain": [
              "<Figure size 432x288 with 1 Axes>"
            ]
          },
          "metadata": {}
        }
      ]
    },
    {
      "cell_type": "markdown",
      "metadata": {
        "id": "49b8f0b9"
      },
      "source": [
        "Столбцы на графике показывают долю исходной дисперсии исходных переменных, которую объясняет главная компонента. Линией показана накопленная доля. Так, видно, что первые 5 компонент объясняют 80% исходной дисперсии $X$.   \n",
        "Чтобы увидеть, как классы выглядят в координатах ГК на графике, придётся сократить пространство для двух компонент, которые объясняют примерно 40% разброса объясняющих переменных.   "
      ],
      "id": "49b8f0b9"
    },
    {
      "cell_type": "code",
      "metadata": {
        "colab": {
          "base_uri": "https://localhost:8080/",
          "height": 276
        },
        "id": "8f48f85e",
        "outputId": "17359799-8cf0-4efc-fbbc-717d2e51d3d8"
      },
      "source": [
        "# пересчитываем X в 2 ГК\n",
        "pca = PCA(n_components=2)\n",
        "X_train_pca = pca.fit_transform(X_train_std)\n",
        "\n",
        "# график классов в пространстве ГК\n",
        "plt.scatter(X_train_pca[DF['Y'] == 0][:, 0], \n",
        "            X_train_pca[DF['Y'] == 0][:, 1], label='Y: 0')\n",
        "plt.scatter(X_train_pca[DF['Y'] == 1][:, 0], \n",
        "            X_train_pca[DF['Y'] == 1][:, 1], label='Y: 1')\n",
        "\n",
        "plt.xlabel('ГК 1 по PCA')\n",
        "plt.ylabel('ГК 2 по PCA')\n",
        "plt.legend()\n",
        "plt.show()"
      ],
      "id": "8f48f85e",
      "execution_count": 112,
      "outputs": [
        {
          "output_type": "display_data",
          "data": {
            "image/png": "[encoded data removed]",
            "text/plain": [
              "<Figure size 432x288 with 1 Axes>"
            ]
          },
          "metadata": {}
        }
      ]
    },
    {
      "cell_type": "markdown",
      "metadata": {
        "id": "508d8d88"
      },
      "source": [
        "Судя по графику, классы средне разделяются в пространстве двух главных компонент. Построим логистическую регрессию и оценим её точность с помощью перекрёстной проверки.  "
      ],
      "id": "508d8d88"
    },
    {
      "cell_type": "code",
      "metadata": {
        "colab": {
          "base_uri": "https://localhost:8080/"
        },
        "id": "3cf76589",
        "outputId": "fb48b70b-a2c1-45e4-8628-2399afc3b16a"
      },
      "source": [
        "# функция оценки логистической регрессии\n",
        "logit = LogisticRegression()\n",
        "# функция разбиения на блоки для перекрёстной проверки\n",
        "kf_10 = KFold(n_splits=10, random_state=my_seed, shuffle=True)\n",
        "# считаем точность модели (Acc) с перекрёстной проверкой по блокам\n",
        "score = list()\n",
        "acc = cross_val_score(logit, X_train_pca, DF.Y.values, cv=kf_10,\n",
        "                     scoring='accuracy').mean()\n",
        "score.append(np.around(acc, 3))\n",
        "score_models = list()\n",
        "score_models.append('logit_PC2')\n",
        "print('Модель ', score_models[0], ', перекрёстная проверка по 10 блокам',\n",
        "      '\\nAcc = ', np.around(score[0], 2), sep='')"
      ],
      "id": "3cf76589",
      "execution_count": 67,
      "outputs": [
        {
          "output_type": "stream",
          "name": "stdout",
          "text": [
            "Модель logit_PC2, перекрёстная проверка по 10 блокам\n",
            "Acc = 0.8\n"
          ]
        }
      ]
    },
    {
      "cell_type": "markdown",
      "metadata": {
        "id": "5d46e811"
      },
      "source": [
        "# Методы сжатия  \n",
        "\n",
        "## Ридж-регрессия  "
      ],
      "id": "5d46e811"
    },
    {
      "cell_type": "markdown",
      "metadata": {
        "id": "eb01d7f4"
      },
      "source": [
        "Функция `LogisticRegression()` умеет работать с мультиклассовой классификацией, используя при оценке параметров подход **один класс против остальных**. Построим ридж на наших данных.  "
      ],
      "id": "eb01d7f4"
    },
    {
      "cell_type": "code",
      "metadata": {
        "colab": {
          "base_uri": "https://localhost:8080/"
        },
        "id": "5b717e72",
        "outputId": "e4e59f3c-371d-44c5-d2c3-364289af2391"
      },
      "source": [
        "Y_train = DF.Y.values\n",
        "# функция для построения модели\n",
        "logit_ridge = LogisticRegression(penalty='l2', solver='liblinear')\n",
        "# оцениваем параметры\n",
        "logit_ridge.fit(X_train_std, Y_train)\n",
        "# выводим параметры\n",
        "print('Константы моделей для классов:\\n', np.around(logit_ridge.intercept_, 3),\n",
        "     '\\nКоэффициенты моделей для классов:\\n', np.around(logit_ridge.coef_, 3))"
      ],
      "id": "5b717e72",
      "execution_count": 89,
      "outputs": [
        {
          "output_type": "stream",
          "name": "stdout",
          "text": [
            "Константы моделей для классов:\n",
            " [0.345] \n",
            "Коэффициенты моделей для классов:\n",
            " [[-2.000e-03 -2.270e-01  2.000e-02 -9.600e-02  6.400e-02 -2.350e-01\n",
            "  -4.000e-03  2.080e-01  3.770e-01  5.319e+00]]\n"
          ]
        }
      ]
    },
    {
      "cell_type": "markdown",
      "metadata": {
        "id": "89338159"
      },
      "source": [
        "Подбираем гиперпараметр регуляризации $\\lambda$ с помощью перекрёстной проверки. В функции \n",
        "`LogisticRegression()` есть аргумент $C$ – это инверсия гиперпараметра $\\lambda$.   "
      ],
      "id": "89338159"
    },
    {
      "cell_type": "code",
      "metadata": {
        "colab": {
          "base_uri": "https://localhost:8080/"
        },
        "id": "f92b6e6d",
        "outputId": "8ff285cb-b211-4488-8294-dee631b73229"
      },
      "source": [
        "# поиск оптимального значения C:\n",
        "#  подбираем C по наибольшей точности с перекрёстной проверкой\n",
        "ridge_cv = LogisticRegressionCV(cv=10, random_state=my_seed+2, \n",
        "                                penalty='l2', solver='liblinear')\n",
        "ridge_cv.fit(X_train_std, Y_train)\n",
        "# значения параметра C (инверсия лямбды), которые дают наилучшую\n",
        "#  точность для каждого класса\n",
        "ridge_cv.C_"
      ],
      "id": "f92b6e6d",
      "execution_count": 90,
      "outputs": [
        {
          "output_type": "execute_result",
          "data": {
            "text/plain": [
              "array([0.04641589])"
            ]
          },
          "metadata": {},
          "execution_count": 90
        }
      ]
    },
    {
      "cell_type": "code",
      "metadata": {
        "colab": {
          "base_uri": "https://localhost:8080/"
        },
        "id": "5c84f917",
        "outputId": "dbbe8758-6cf5-478c-d6e5-904bb2fcdf9f"
      },
      "source": [
        "# сохраняем и выводим Acc для модели\n",
        "score.append(np.around(ridge_cv.score(X_train_std, Y_train), 3))\n",
        "score_models.append('logit_ridge')\n",
        "print('Модель ', score_models[1], ', перекрёстная проверка по 10 блокам',\n",
        "      '\\nAcc = ', score[1], sep='')"
      ],
      "id": "5c84f917",
      "execution_count": 91,
      "outputs": [
        {
          "output_type": "stream",
          "name": "stdout",
          "text": [
            "Модель logit_ridge, перекрёстная проверка по 10 блокам\n",
            "Acc = 1.0\n"
          ]
        }
      ]
    },
    {
      "cell_type": "markdown",
      "metadata": {
        "id": "d83226cc"
      },
      "source": [
        "Изобразим изменение коэффициентов ридж-регрессии на графике и сделаем отсечку на уровне оптимального параметра $C$.  "
      ],
      "id": "d83226cc"
    },
    {
      "cell_type": "code",
      "metadata": {
        "colab": {
          "base_uri": "https://localhost:8080/",
          "height": 281
        },
        "id": "083e40f7",
        "outputId": "46431746-aef2-40b0-cac7-932c59f090e3"
      },
      "source": [
        "# график динамики коэффициентов в ридж-регрессии    \n",
        "#  модель для класса 0\n",
        "plot_coeffs_traces(X_train_std, Y_train, 0, 'l2', ridge_cv.C_, DF.columns)"
      ],
      "id": "083e40f7",
      "execution_count": 106,
      "outputs": [
        {
          "output_type": "display_data",
          "data": {
            "image/png": "[encoded data removed]",
            "text/plain": [
              "<Figure size 432x288 with 1 Axes>"
            ]
          },
          "metadata": {}
        }
      ]
    },
    {
      "cell_type": "markdown",
      "metadata": {
        "id": "041010d5"
      },
      "source": [
        "Итак, судя по графикам, для значения гиперпараметра, дающего самую точную модель, ни один коэффициент при объясняющих переменных не обнуляется.\n",
        "\n",
        "\n",
        "# Прогноз на отложенные наблюдения по лучшей модели\n",
        "\n",
        "Ещё раз посмотрим на точность построенных моделей.  "
      ],
      "id": "041010d5"
    },
    {
      "cell_type": "code",
      "metadata": {
        "colab": {
          "base_uri": "https://localhost:8080/",
          "height": 111
        },
        "id": "13f506f8",
        "outputId": "e9b16708-4649-481c-87ba-005132521c8e"
      },
      "source": [
        "# сводка по точности моделей\n",
        "pd.DataFrame({'Модель' : score_models, 'Acc' : score})"
      ],
      "id": "13f506f8",
      "execution_count": 72,
      "outputs": [
        {
          "output_type": "execute_result",
          "data": {
            "text/html": [
              "<div>\n",
              "<style scoped>\n",
              "    .dataframe tbody tr th:only-of-type {\n",
              "        vertical-align: middle;\n",
              "    }\n",
              "\n",
              "    .dataframe tbody tr th {\n",
              "        vertical-align: top;\n",
              "    }\n",
              "\n",
              "    .dataframe thead th {\n",
              "        text-align: right;\n",
              "    }\n",
              "</style>\n",
              "<table border=\"1\" class=\"dataframe\">\n",
              "  <thead>\n",
              "    <tr style=\"text-align: right;\">\n",
              "      <th></th>\n",
              "      <th>Модель</th>\n",
              "      <th>Acc</th>\n",
              "    </tr>\n",
              "  </thead>\n",
              "  <tbody>\n",
              "    <tr>\n",
              "      <th>0</th>\n",
              "      <td>logit_PC2</td>\n",
              "      <td>0.804</td>\n",
              "    </tr>\n",
              "    <tr>\n",
              "      <th>1</th>\n",
              "      <td>logit_ridge</td>\n",
              "      <td>1.000</td>\n",
              "    </tr>\n",
              "  </tbody>\n",
              "</table>\n",
              "</div>"
            ],
            "text/plain": [
              "        Модель    Acc\n",
              "0    logit_PC2  0.804\n",
              "1  logit_ridge  1.000"
            ]
          },
          "metadata": {},
          "execution_count": 72
        }
      ]
    },
    {
      "cell_type": "markdown",
      "metadata": {
        "id": "99c7c905"
      },
      "source": [
        "Все модели показывают высокую точность по показателю $Acc$, при этом самой точной оказывается ридж-регрессия. Сделаем прогноз на отложенные наблюдения.   "
      ],
      "id": "99c7c905"
    },
    {
      "cell_type": "code",
      "metadata": {
        "colab": {
          "base_uri": "https://localhost:8080/"
        },
        "id": "6f19fd52",
        "outputId": "f542ee0d-4a6e-47eb-c78e-41ae6799032c"
      },
      "source": [
        "# формируем объекты с данными отложенной выборки\n",
        "X_pred_std = sc.fit_transform(DF_predict.iloc[:, :10].values)\n",
        "Y_pred = DF_predict.Y\n",
        "Y_hat = logit_ridge.predict(X_pred_std)\n",
        "# отчёт по точности на отложенных наблюдениях\n",
        "print(classification_report(Y_pred, Y_hat))"
      ],
      "id": "6f19fd52",
      "execution_count": 113,
      "outputs": [
        {
          "output_type": "stream",
          "name": "stdout",
          "text": [
            "              precision    recall  f1-score   support\n",
            "\n",
            "           0       1.00      1.00      1.00       104\n",
            "           1       1.00      1.00      1.00       136\n",
            "\n",
            "    accuracy                           1.00       240\n",
            "   macro avg       1.00      1.00      1.00       240\n",
            "weighted avg       1.00      1.00      1.00       240\n",
            "\n"
          ]
        }
      ]
    },
    {
      "cell_type": "markdown",
      "metadata": {
        "id": "15e4aa0a"
      },
      "source": [
        "Итак, методом логистической регрессии со сжатием коэффициенты с L2-регуляризацией мы получили идеально точную модель классификации трёх видов красных вин.  "
      ],
      "id": "15e4aa0a"
    },
    {
      "cell_type": "markdown",
      "metadata": {
        "id": "af39298f"
      },
      "source": [
        "# Источники \n",
        "\n",
        "1. *Рашка С.* Python и машинное обучение: крайне необходимое пособие по новейшей предсказательной аналитике, обязательное для более глубокого понимания методологии машинного обучения / пер. с англ. А.В. Логунова. – М.: ДМК Пресс, 2017. – 418 с.: ил.  \n",
        "1. Репозиторий с кодом к книге *Рашка С.* Python и машинное обучение / github.com. URL: <https://github.com/rasbt/python-machine-learning-book-3rd-edition>  \n",
        "1. *Xueting Bai*, *Lingbo Wang*, *Hanning Li* Identification of red wine categories based on physicochemical properties / 2019 5th International Conference on Education Technology, Management and Humanities Science (ETMHS 2019). URL: <https://webofproceedings.org/proceedings_series/ESSP/ETMHS%202019/ETMHS19309.pdf>  \n",
        "\n"
      ],
      "id": "af39298f"
    }
  ]
}