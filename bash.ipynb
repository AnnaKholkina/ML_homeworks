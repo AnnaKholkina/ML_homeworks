{
  "nbformat": 4,
  "nbformat_minor": 0,
  "metadata": {
    "colab": {
      "name": "[optional]bash.ipynb",
      "provenance": [],
      "collapsed_sections": [],
      "include_colab_link": true
    },
    "kernelspec": {
      "name": "python3",
      "display_name": "Python 3"
    }
  },
  "cells": [
    {
      "cell_type": "markdown",
      "metadata": {
        "id": "view-in-github",
        "colab_type": "text"
      },
      "source": [
        "<a href=\"https://colab.research.google.com/github/AnnaKholkina/ML_homeworks/blob/main/bash.ipynb\" target=\"_parent\"><img src=\"https://colab.research.google.com/assets/colab-badge.svg\" alt=\"Open In Colab\"/></a>"
      ]
    },
    {
      "cell_type": "code",
      "metadata": {
        "id": "R-ljAeWuqNN4",
        "scrolled": true,
        "colab": {
          "base_uri": "https://localhost:8080/"
        },
        "outputId": "30540f4e-b06b-4507-d569-1114e3ab0fd8"
      },
      "source": [
        "!apt-get moo"
      ],
      "execution_count": 1,
      "outputs": [
        {
          "output_type": "stream",
          "name": "stdout",
          "text": [
            "                 (__) \n",
            "                 (oo) \n",
            "           /------\\/ \n",
            "          / |    ||   \n",
            "         *  /\\---/\\ \n",
            "            ~~   ~~   \n",
            "...\"Have you mooed today?\"...\n"
          ]
        }
      ]
    },
    {
      "cell_type": "markdown",
      "metadata": {
        "id": "SR5360mDq7IG"
      },
      "source": [
        "В этом ноутбуке мы рассмотрим базовые команды командной строки в Linux\n",
        "\n",
        "План\n",
        "  - Команды UNIX\n",
        "  - Файловая система\n",
        "  - Аргументы к командам\n",
        "  - Переменные окружения\n"
      ]
    },
    {
      "cell_type": "markdown",
      "metadata": {
        "id": "exbUbtJhzNW0"
      },
      "source": [
        "# Команды в UNIX"
      ]
    },
    {
      "cell_type": "markdown",
      "metadata": {
        "id": "cyxieSjTuGpw"
      },
      "source": [
        "Линукс принадлежит к большому семейству операционных систем под названием UNIX, которые происходят от ОС AT&T Unix, разработанной еще в 1970-х. Mac OS, кстати, тоже её потомок.\n",
        "\n",
        "В операционных системах UNIX-типа для взаимодействия с ОС используют специальные команды. До появления привычного оконного интерфейса пользователи взаимодействовали с компьютером исключительно с помощью этих команд. \n",
        "\n",
        "Сейчас этот способ тоже используют, т. к. у него есть ряд преимуществ:\n",
        " - намного более удобней при подключение к компьютеру по сети;\n",
        " - иногда удобнее запустить одну команду, чем бродить по менюшкам в поисках нужной опции;\n",
        " - из команды можно составлять скрипты для автоматизации задач.\n",
        "\n"
      ]
    },
    {
      "cell_type": "markdown",
      "metadata": {
        "id": "4Kgd_-Jdq-HJ"
      },
      "source": [
        "Небольшой ликбез по понятиям:\n",
        "- **Командная строка** - интерфейс пользователя, окно для вывода системных сообщений и приёма команд;\n",
        "- **Терминал** - программа, которая отображает строку. Например: *gnome-terminal*, *xterm*, *tilda*;\n",
        "- **Оболочка (shell)** - программа которая выполняет команды. Например: *bash*, *zsh*, *sh*;\n",
        "- **Консоль** - комплект устройств интерактивного ввода-вывода (дисплей, клавиатура, мышь) для управления компьютером."
      ]
    },
    {
      "cell_type": "markdown",
      "metadata": {
        "id": "zsNEkoiC4I3d"
      },
      "source": [
        "Запускать команды можно как из терминала, так и из юпитера или колаба (Google Colab), поставив перед командой \"!\":"
      ]
    },
    {
      "cell_type": "code",
      "metadata": {
        "id": "wujSZ66i4UVm",
        "colab": {
          "base_uri": "https://localhost:8080/"
        },
        "outputId": "59032a44-aaf3-49a3-9007-c38d6c664a10"
      },
      "source": [
        "!echo \"Hello World\""
      ],
      "execution_count": 2,
      "outputs": [
        {
          "output_type": "stream",
          "name": "stdout",
          "text": [
            "Hello World\n"
          ]
        }
      ]
    },
    {
      "cell_type": "markdown",
      "metadata": {
        "id": "z8n1PxRZ0j7P"
      },
      "source": [
        "# Файловая система"
      ]
    },
    {
      "cell_type": "markdown",
      "metadata": {
        "id": "WwN4S7rv08JV"
      },
      "source": [
        "В Unix-системах все файлы образуют структуру похожую на дерево, в каждой директории (папке) хранятся файлы и другие директории. Самая первая директория которая содержит все остальные, называется корневой (*root*)\n",
        "\n",
        "\n",
        "У каждой директории есть путь (по сути, просто строка) который показывает где она находится в этом дереве. \"/\" - это путь корневой директории. \n",
        "\n",
        "---\n",
        "\n",
        "\n",
        "\n",
        "![alt text](http://linuxcommand.org/images/file_manager.jpg)\n",
        "\n",
        "В командной строке все команды выполняются в какой-либо директории.\n",
        "\n",
        "Представьте, что дерево файловой системы - это лабиринт, и каждая директория - это комната с файлами и дверьми в другие директории. В каждый момент времени вы находитесь в одной комнате.\n",
        "\n",
        "Посмотрим, как ходить по нашему лабиринту."
      ]
    },
    {
      "cell_type": "code",
      "metadata": {
        "id": "j2I1ZXrKq0tp",
        "colab": {
          "base_uri": "https://localhost:8080/"
        },
        "outputId": "8a5d42ed-1b17-42b9-b56b-37b4a6621682"
      },
      "source": [
        "# Выведем путь текущей директории\n",
        "!pwd"
      ],
      "execution_count": 3,
      "outputs": [
        {
          "output_type": "stream",
          "name": "stdout",
          "text": [
            "/content\n"
          ]
        }
      ]
    },
    {
      "cell_type": "code",
      "metadata": {
        "id": "9sQwAxoT5-kO",
        "colab": {
          "base_uri": "https://localhost:8080/"
        },
        "outputId": "fb08145b-03a8-404a-c6dc-6cb842c40bce"
      },
      "source": [
        "# Посмотрим, что в нашей директории есть\n",
        "!ls \n",
        "#ls is for \"list\""
      ],
      "execution_count": 4,
      "outputs": [
        {
          "output_type": "stream",
          "name": "stdout",
          "text": [
            "sample_data\n"
          ]
        }
      ]
    },
    {
      "cell_type": "code",
      "metadata": {
        "id": "nYL2dtfK6iWP",
        "colab": {
          "base_uri": "https://localhost:8080/"
        },
        "outputId": "1ba7be13-583c-4d7e-e597-b7ba139c5997"
      },
      "source": [
        "#Создадим пустой файлик\n",
        "!touch test-file\n",
        "# пробел в имени - плохая идея, создадутся два файла\n",
        "!touch hello world\n",
        "\n",
        "# посмотрим что получилось\n",
        "!ls"
      ],
      "execution_count": 5,
      "outputs": [
        {
          "output_type": "stream",
          "name": "stdout",
          "text": [
            "hello  sample_data  test-file  world\n"
          ]
        }
      ]
    },
    {
      "cell_type": "code",
      "metadata": {
        "id": "AFTolllI-gJH",
        "colab": {
          "base_uri": "https://localhost:8080/"
        },
        "outputId": "8a1c79f9-a029-481e-ed03-48e62e208ec8"
      },
      "source": [
        "#Удаление файлов\n",
        "!rm world\n",
        "!ls"
      ],
      "execution_count": 6,
      "outputs": [
        {
          "output_type": "stream",
          "name": "stdout",
          "text": [
            "hello  sample_data  test-file\n"
          ]
        }
      ]
    },
    {
      "cell_type": "code",
      "metadata": {
        "id": "dkLsVgkX_RNT"
      },
      "source": [
        "# Новая директория\n",
        "!mkdir please_come_here\n"
      ],
      "execution_count": 7,
      "outputs": []
    },
    {
      "cell_type": "markdown",
      "metadata": {
        "id": "hgVO1IAOAseT"
      },
      "source": [
        "Некоторые директории хранят файлы необходимые для работы программ. В них нужно что-либо менять только если знаешь, что делаешь.\n",
        "\n",
        "Это так называемые скрытые директории (hidden или dot directories/files) - их имя начинается с точки.\n"
      ]
    },
    {
      "cell_type": "code",
      "metadata": {
        "id": "JTxijZDRq8bN",
        "colab": {
          "base_uri": "https://localhost:8080/"
        },
        "outputId": "44d87035-406b-4748-c403-7f9dadb76395"
      },
      "source": [
        "# Покажем больше информации и отобразим скрытые файлы\n",
        "!ls -al\n",
        "# Первое слово - команда, а второе - аргумент"
      ],
      "execution_count": 8,
      "outputs": [
        {
          "output_type": "stream",
          "name": "stdout",
          "text": [
            "total 20\n",
            "drwxr-xr-x 1 root root 4096 Feb 14 10:01 .\n",
            "drwxr-xr-x 1 root root 4096 Feb 14 09:59 ..\n",
            "drwxr-xr-x 4 root root 4096 Feb  1 14:31 .config\n",
            "-rw-r--r-- 1 root root    0 Feb 14 10:01 hello\n",
            "drwxr-xr-x 2 root root 4096 Feb 14 10:01 please_come_here\n",
            "drwxr-xr-x 1 root root 4096 Feb  1 14:32 sample_data\n",
            "-rw-r--r-- 1 root root    0 Feb 14 10:01 test-file\n"
          ]
        }
      ]
    },
    {
      "cell_type": "markdown",
      "metadata": {
        "id": "K8Tei_Rz8ELQ"
      },
      "source": [
        "\n",
        "\n",
        "```\n",
        ".  - это путь к той директории в которой мы уже находимся\n",
        ".. - это путь к родительской директории\n",
        ".config - это скрытая папка\n",
        "```\n",
        "\n",
        "Каждая строчка - это одна из \"дверей\" в другую директорию либо файл.\n",
        "*Относительный* путь это не полный \"адрес\" директории а то, куда нам нужно пойти из места в котором мы сейчас находимся. \n",
        "\n",
        "\n",
        "```\n",
        " drwxr-xr-x 1 root root 4096 Feb 15 17:21 please_come_here\n",
        " |                           дата создания    |\n",
        " |                                         _относительный_ путь\n",
        " |\n",
        "  \\ d - эта метка значит, что это путь к другой директории (d for directory)\n",
        "```\n",
        "\n"
      ]
    },
    {
      "cell_type": "code",
      "metadata": {
        "id": "ozI5vv-G_Ato",
        "colab": {
          "base_uri": "https://localhost:8080/"
        },
        "outputId": "2fccfdc3-0595-4d85-b2a1-4efa9cda9e41"
      },
      "source": [
        "# переход в другую директорию команда cd\n",
        "!pwd\n",
        "!cd please_come_here\n",
        "!pwd"
      ],
      "execution_count": 9,
      "outputs": [
        {
          "output_type": "stream",
          "name": "stdout",
          "text": [
            "/content\n",
            "/content\n"
          ]
        }
      ]
    },
    {
      "cell_type": "markdown",
      "metadata": {
        "id": "j1YxW23TCoDo"
      },
      "source": [
        "Заработало?\n",
        "\n",
        "Не должно. Тут проблема в том что юпитер при исполнении каждой команды запускает новую оболочку в своей директории (той, откуда его вызвали), и после завершения команды она закрывается. Т. е. в одной оболочке он выполнил команду pwd, закрыл её, в другой выполнил команду cd please_come_here, закрыл её, и в третьей выполнил команду pwd и закрыл её.\n",
        "\n",
        "Чтоб команды запускались в новой директории нужно поменять текущую директорию самого юпитера с помощью команды:\n",
        "\n",
        "```\n",
        "%cd\n",
        "```\n"
      ]
    },
    {
      "cell_type": "code",
      "metadata": {
        "id": "KwJPa7wBA7QK",
        "colab": {
          "base_uri": "https://localhost:8080/"
        },
        "outputId": "f8654802-76b4-4460-d60d-12a4c0a33cc9"
      },
      "source": [
        "!pwd\n",
        "%cd please_come_here\n",
        "!pwd"
      ],
      "execution_count": 10,
      "outputs": [
        {
          "output_type": "stream",
          "name": "stdout",
          "text": [
            "/content\n",
            "/content/please_come_here\n",
            "/content/please_come_here\n"
          ]
        }
      ]
    },
    {
      "cell_type": "markdown",
      "metadata": {
        "id": "AuXdt89eNWoH"
      },
      "source": [
        "Если выполнить команду cd без аргументов - он вернёт вас в домашнюю директорию:"
      ]
    },
    {
      "cell_type": "code",
      "metadata": {
        "id": "DPrsHK-ENRZU",
        "colab": {
          "base_uri": "https://localhost:8080/"
        },
        "outputId": "07449ee5-ce3a-441f-b93e-57c31695dc60"
      },
      "source": [
        "%cd\n",
        "!pwd"
      ],
      "execution_count": 11,
      "outputs": [
        {
          "output_type": "stream",
          "name": "stdout",
          "text": [
            "/root\n",
            "/root\n"
          ]
        }
      ]
    },
    {
      "cell_type": "markdown",
      "metadata": {
        "id": "XkxqDBlcpvtR"
      },
      "source": [
        "Когда мы переходим в другую директорию, ее имя добавляется к нашему пути через \"/\".\n",
        "\n",
        "Например, были в `/home`, перешли в директорию `Pictures `оказались в `/home/Pictures`.\n",
        "\n",
        "Абсолютный путь файла в этой директории будет `/home/Picutes/image.png`. \n",
        "\n",
        "Если мы хотим взять файл из директории, которая является дочерней к той директории, где мы сейчас находимся, мы можем указать относительный путь файла.\n",
        "\n",
        "Например, из директории `/home` мы можем обратиться к файлу по пути `Pictures/image.png`."
      ]
    },
    {
      "cell_type": "code",
      "metadata": {
        "id": "2HUAw_NLBKyb",
        "colab": {
          "base_uri": "https://localhost:8080/"
        },
        "outputId": "957985f5-0d10-48fa-c602-f1a985329e84"
      },
      "source": [
        "# Можно выполнить несколько команд последовательно:\n",
        "# с помощью символа ; - для безусловного последовательного выполнения команд, они выполнятся последовательно одна за другой:\n",
        "!pwd; cd please_come_here; pwd\n",
        "\n",
        "# с помощью символа && - при этом вторая (и последующая) команда выполнится только в случае успешного выполнения первой (предыдущей):\n",
        "!pwd && cd please_come_here && pwd\n",
        "\n",
        "# с помощью символа || - при этом вторая (и последующая) команда выполнится только в случае неуспешного выполнения первой (предыдущей):\n",
        "!pwd || cd please_come_here && pwd\n"
      ],
      "execution_count": 12,
      "outputs": [
        {
          "output_type": "stream",
          "name": "stdout",
          "text": [
            "/root\n",
            "/bin/bash: line 0: cd: please_come_here: No such file or directory\n",
            "/root\n",
            "/root\n",
            "/bin/bash: line 0: cd: please_come_here: No such file or directory\n",
            "/root\n",
            "/root\n"
          ]
        }
      ]
    },
    {
      "cell_type": "markdown",
      "metadata": {
        "id": "hDuUsb-hSmsJ"
      },
      "source": [
        "## Запись и чтение в файлы"
      ]
    },
    {
      "cell_type": "code",
      "metadata": {
        "id": "KzJChjwnRhm4",
        "colab": {
          "base_uri": "https://localhost:8080/"
        },
        "outputId": "69a95b13-03a6-42d4-8318-1521aa7425f8"
      },
      "source": [
        "# Вывести текст в консоль\n",
        "\n",
        "!echo \"Sample text Пример текста\"\n",
        "# Echo - потому что команда выводит на выход то же, что и получает"
      ],
      "execution_count": 13,
      "outputs": [
        {
          "output_type": "stream",
          "name": "stdout",
          "text": [
            "Sample text Пример текста\n"
          ]
        }
      ]
    },
    {
      "cell_type": "code",
      "metadata": {
        "id": "WKrcMKg9R-I5"
      },
      "source": [
        "# Вместо консоли отправить в файл\n",
        "\n",
        "!echo \"London is the capital of Great Britain\" >> English.txt\n"
      ],
      "execution_count": 14,
      "outputs": []
    },
    {
      "cell_type": "code",
      "metadata": {
        "id": "4Ht2nwgeSXhi",
        "colab": {
          "base_uri": "https://localhost:8080/"
        },
        "outputId": "d3b150dc-0f35-41af-f91b-c2345e50f8d4"
      },
      "source": [
        "# Прочитать файл и вывести в консоль\n",
        "\n",
        "!cat English.txt"
      ],
      "execution_count": 15,
      "outputs": [
        {
          "output_type": "stream",
          "name": "stdout",
          "text": [
            "London is the capital of Great Britain\n"
          ]
        }
      ]
    },
    {
      "cell_type": "markdown",
      "metadata": {
        "id": "9DRyKxZJUdNx"
      },
      "source": [
        "## Скачивание из интернета"
      ]
    },
    {
      "cell_type": "code",
      "metadata": {
        "id": "EzS_vui3Ucer",
        "colab": {
          "base_uri": "https://localhost:8080/"
        },
        "outputId": "7cc42fa4-117a-4c68-9807-7fe543361abd"
      },
      "source": [
        "# сохраняем страницу по адресу\n",
        "\n",
        "!curl example.com >> example-com.html\n",
        "!ls\n",
        "!cat example-com.html\n"
      ],
      "execution_count": 16,
      "outputs": [
        {
          "output_type": "stream",
          "name": "stdout",
          "text": [
            "  % Total    % Received % Xferd  Average Speed   Time    Time     Time  Current\n",
            "                                 Dload  Upload   Total   Spent    Left  Speed\n",
            "100  1256  100  1256    0     0   4407      0 --:--:-- --:--:-- --:--:--  4407\n",
            "English.txt  example-com.html\n",
            "<!doctype html>\n",
            "<html>\n",
            "<head>\n",
            "    <title>Example Domain</title>\n",
            "\n",
            "    <meta charset=\"utf-8\" />\n",
            "    <meta http-equiv=\"Content-type\" content=\"text/html; charset=utf-8\" />\n",
            "    <meta name=\"viewport\" content=\"width=device-width, initial-scale=1\" />\n",
            "    <style type=\"text/css\">\n",
            "    body {\n",
            "        background-color: #f0f0f2;\n",
            "        margin: 0;\n",
            "        padding: 0;\n",
            "        font-family: -apple-system, system-ui, BlinkMacSystemFont, \"Segoe UI\", \"Open Sans\", \"Helvetica Neue\", Helvetica, Arial, sans-serif;\n",
            "        \n",
            "    }\n",
            "    div {\n",
            "        width: 600px;\n",
            "        margin: 5em auto;\n",
            "        padding: 2em;\n",
            "        background-color: #fdfdff;\n",
            "        border-radius: 0.5em;\n",
            "        box-shadow: 2px 3px 7px 2px rgba(0,0,0,0.02);\n",
            "    }\n",
            "    a:link, a:visited {\n",
            "        color: #38488f;\n",
            "        text-decoration: none;\n",
            "    }\n",
            "    @media (max-width: 700px) {\n",
            "        div {\n",
            "            margin: 0 auto;\n",
            "            width: auto;\n",
            "        }\n",
            "    }\n",
            "    </style>    \n",
            "</head>\n",
            "\n",
            "<body>\n",
            "<div>\n",
            "    <h1>Example Domain</h1>\n",
            "    <p>This domain is for use in illustrative examples in documents. You may use this\n",
            "    domain in literature without prior coordination or asking for permission.</p>\n",
            "    <p><a href=\"https://www.iana.org/domains/example\">More information...</a></p>\n",
            "</div>\n",
            "</body>\n",
            "</html>\n"
          ]
        }
      ]
    },
    {
      "cell_type": "code",
      "metadata": {
        "id": "bONrzreaXVkD"
      },
      "source": [
        "!curl instagram.com"
      ],
      "execution_count": 17,
      "outputs": []
    },
    {
      "cell_type": "markdown",
      "metadata": {
        "id": "hdEXswC6YBCJ"
      },
      "source": [
        "Иногда сервера пытаются перенаправить запрос на другой адрес. Curl не следует по таким перенаправлениям. Есть програмка wget которая может переходить по таким ссылкам и вообще проходить по всем ссылкам на странице и скачивать их."
      ]
    },
    {
      "cell_type": "code",
      "metadata": {
        "id": "BscMnGvUYeBT",
        "colab": {
          "base_uri": "https://localhost:8080/"
        },
        "outputId": "087a953d-3c20-459a-8598-9b39e748b39d"
      },
      "source": [
        "!wget instagram.com -O insta.html"
      ],
      "execution_count": 18,
      "outputs": [
        {
          "output_type": "stream",
          "name": "stdout",
          "text": [
            "--2022-02-14 10:08:11--  http://instagram.com/\n",
            "Resolving instagram.com (instagram.com)... 157.240.11.174, 2a03:2880:f264:e5:face:b00c:0:4420\n",
            "Connecting to instagram.com (instagram.com)|157.240.11.174|:80... connected.\n",
            "HTTP request sent, awaiting response... 301 Moved Permanently\n",
            "Location: https://instagram.com/ [following]\n",
            "--2022-02-14 10:08:11--  https://instagram.com/\n",
            "Connecting to instagram.com (instagram.com)|157.240.11.174|:443... connected.\n",
            "HTTP request sent, awaiting response... 301 Moved Permanently\n",
            "Location: https://www.instagram.com/ [following]\n",
            "--2022-02-14 10:08:12--  https://www.instagram.com/\n",
            "Resolving www.instagram.com (www.instagram.com)... 157.240.214.174, 2a03:2880:f23f:e5:face:b00c:0:4420\n",
            "Connecting to www.instagram.com (www.instagram.com)|157.240.214.174|:443... connected.\n",
            "HTTP request sent, awaiting response... 200 OK\n",
            "Length: 70896 (69K) [text/html]\n",
            "Saving to: ‘insta.html’\n",
            "\n",
            "insta.html          100%[===================>]  69.23K  --.-KB/s    in 0.03s   \n",
            "\n",
            "2022-02-14 10:08:12 (2.59 MB/s) - ‘insta.html’ saved [70896/70896]\n",
            "\n"
          ]
        }
      ]
    },
    {
      "cell_type": "markdown",
      "metadata": {
        "id": "vvDscEabYqhr"
      },
      "source": [
        "Обратите внимание на\n",
        "\n",
        "`HTTP request sent, awaiting response... 301 Moved Permanently` (четвёртая строка)\n"
      ]
    },
    {
      "cell_type": "markdown",
      "metadata": {
        "id": "MXDgtgM3PjlU"
      },
      "source": [
        "# Аргументы и параметры к командам"
      ]
    },
    {
      "cell_type": "markdown",
      "metadata": {
        "id": "L5t2LkSzPwFa"
      },
      "source": [
        "Обычно **аргументы** – это то, над чем выполняется команда. Например, команда перехода в другую директорию должна получить в качестве аргумента путь директории, в которую следует перейти. Команде вывода на экран содержимого файла надо передать имя файла.\n",
        "\n",
        "**Параметры** модифицируют, как бы видоизменяют/управляют работой программы. Например, с помощью команды просмотра содержимого каталога можно вывести простой список вложенных объектов. Используя же определенный параметр, можно получить подробные сведения о каждом файле и папке.\n",
        "\n",
        "Аргументы указывают через пробел, как отдельные слова.\n",
        "\n",
        "Параметры указывают после дефиса: `-f` (однобуквенные) либо после двух дефисов: `--file`."
      ]
    },
    {
      "cell_type": "code",
      "metadata": {
        "id": "uXUizaaSBnsl",
        "colab": {
          "base_uri": "https://localhost:8080/",
          "height": 476
        },
        "outputId": "872e3af2-7751-471c-e077-3c0305dc6ffa"
      },
      "source": [
        "# календарик на весь год\n",
        "\n",
        "!ncal 2020\n"
      ],
      "execution_count": null,
      "outputs": [
        {
          "output_type": "stream",
          "text": [
            "                                  2020\n",
            "    January           February          March             April             \n",
            "Su     5 12 19 26        2  9 16 23     1  8 15 22 29        5 12 19 26   \n",
            "Mo     6 13 20 27        3 10 17 24     2  9 16 23 30        6 13 20 27   \n",
            "Tu     7 14 21 28        4 11 18 25     3 10 17 24 31        7 14 21 28   \n",
            "We  1  8 15 22 29        5 12 19 26     4 11 18 25        1  8 15 22 29   \n",
            "Th  2  9 16 23 30        6 13 20 27     5 12 19 26        2  9 16 23 30   \n",
            "Fr  3 10 17 24 31        7 14 21 28     6 13 20 27        3 10 17 24      \n",
            "Sa  4 11 18 25        1  8 15 22 29     7 14 21 28        4 11 18 25      \n",
            "\n",
            "    May               June              July              August            \n",
            "Su     3 10 17 24 31     7 14 21 28        5 12 19 26        2  9 16 23 30\n",
            "Mo     4 11 18 25     1  8 15 22 29        6 13 20 27        3 10 17 24 31\n",
            "Tu     5 12 19 26     2  9 16 23 30        7 14 21 28        4 11 18 25   \n",
            "We     6 13 20 27     3 10 17 24        1  8 15 22 29        5 12 19 26   \n",
            "Th     7 14 21 28     4 11 18 25        2  9 16 23 30        6 13 20 27   \n",
            "Fr  1  8 15 22 29     5 12 19 26        3 10 17 24 31        7 14 21 28   \n",
            "Sa  2  9 16 23 30     6 13 20 27        4 11 18 25        1  8 15 22 29   \n",
            "\n",
            "    September         October           November          December          \n",
            "Su     6 13 20 27        4 11 18 25     1  8 15 22 29        6 13 20 27   \n",
            "Mo     7 14 21 28        5 12 19 26     2  9 16 23 30        7 14 21 28   \n",
            "Tu  1  8 15 22 29        6 13 20 27     3 10 17 24        1  8 15 22 29   \n",
            "We  2  9 16 23 30        7 14 21 28     4 11 18 25        2  9 16 23 30   \n",
            "Th  3 10 17 24        1  8 15 22 29     5 12 19 26        3 10 17 24 31   \n",
            "Fr  4 11 18 \u001b[7m25\u001b[m        2  9 16 23 30     6 13 20 27        4 11 18 25      \n",
            "Sa  5 12 19 26        3 10 17 24 31     7 14 21 28        5 12 19 26      \n"
          ],
          "name": "stdout"
        }
      ]
    },
    {
      "cell_type": "code",
      "metadata": {
        "id": "2aciKu7IB5Vm",
        "colab": {
          "base_uri": "https://localhost:8080/",
          "height": 153
        },
        "outputId": "57cb3911-d0c6-4286-e3cc-49cc405398d8"
      },
      "source": [
        "# передаем 2 аргумента\n",
        "\n",
        "!ncal 09 2020\n"
      ],
      "execution_count": null,
      "outputs": [
        {
          "output_type": "stream",
          "text": [
            "    September 2020    \n",
            "Su     6 13 20 27   \n",
            "Mo     7 14 21 28   \n",
            "Tu  1  8 15 22 29   \n",
            "We  2  9 16 23 30   \n",
            "Th  3 10 17 24      \n",
            "Fr  4 11 18 \u001b[7m25\u001b[m      \n",
            "Sa  5 12 19 26      \n"
          ],
          "name": "stdout"
        }
      ]
    },
    {
      "cell_type": "code",
      "metadata": {
        "id": "4l3d14WtfIAA",
        "colab": {
          "base_uri": "https://localhost:8080/",
          "height": 153
        },
        "outputId": "dffe73bf-93ea-4623-9e1c-e9dbaca4d2bd"
      },
      "source": [
        "# передаем параметр -b\n",
        "\n",
        "!ncal -b 09 2020\n"
      ],
      "execution_count": null,
      "outputs": [
        {
          "output_type": "stream",
          "text": [
            "   September 2020     \n",
            "Su Mo Tu We Th Fr Sa  \n",
            "       1  2  3  4  5  \n",
            " 6  7  8  9 10 11 12  \n",
            "13 14 15 16 17 18 19  \n",
            "20 21 22 23 24 \u001b[7m25\u001b[m 26  \n",
            "27 28 29 30           \n",
            "                      \n"
          ],
          "name": "stdout"
        }
      ]
    },
    {
      "cell_type": "code",
      "metadata": {
        "id": "vk9NUxh4fQPy",
        "colab": {
          "base_uri": "https://localhost:8080/",
          "height": 289
        },
        "outputId": "974f0c6e-5dac-42d7-ab0e-85d62e1edd33"
      },
      "source": [
        "# Однобуквенные параметры можно склеивать\n",
        "\n",
        "!ncal -b -w 09 2020\n",
        "!ncal -bw 09 2020"
      ],
      "execution_count": null,
      "outputs": [
        {
          "output_type": "stream",
          "text": [
            "     September 2020        \n",
            " w| Su Mo Tu We Th Fr Sa   \n",
            "35|        1  2  3  4  5   \n",
            "36|  6  7  8  9 10 11 12   \n",
            "37| 13 14 15 16 17 18 19   \n",
            "38| 20 21 22 23 24 \u001b[7m25\u001b[m 26   \n",
            "39| 27 28 29 30            \n",
            "                           \n",
            "     September 2020        \n",
            " w| Su Mo Tu We Th Fr Sa   \n",
            "35|        1  2  3  4  5   \n",
            "36|  6  7  8  9 10 11 12   \n",
            "37| 13 14 15 16 17 18 19   \n",
            "38| 20 21 22 23 24 \u001b[7m25\u001b[m 26   \n",
            "39| 27 28 29 30            \n",
            "                           \n"
          ],
          "name": "stdout"
        }
      ]
    },
    {
      "cell_type": "markdown",
      "metadata": {
        "id": "V7jcOwBpgd1U"
      },
      "source": [
        "# Переменные окружения"
      ]
    },
    {
      "cell_type": "markdown",
      "metadata": {
        "id": "gm-YZUlLi0lT"
      },
      "source": [
        "Оболочка в себе содержит так называемые переменные окружения - глобальные константы которые доступны всем программам которые она выполняет. В них удобно хранить например путь к конфигурационным файлам или порт какого нибудь сервиса.\n",
        "\n",
        "Переменные окружения зачастую определяют как ведет себя программа. Например, Python ищет пакеты в переменной `PYTHONPATH`.\n",
        "\n",
        "В переменной `PATH` находятся пути в которых Bash ищет исполняемые файлы других программ.\n"
      ]
    },
    {
      "cell_type": "code",
      "metadata": {
        "id": "QRCUr1pTfQLZ",
        "colab": {
          "base_uri": "https://localhost:8080/",
          "height": 34
        },
        "outputId": "75635d95-2478-4237-8410-98f5a155dadf"
      },
      "source": [
        "# объявляем переменную и считываем ее ($ перед именем)\n",
        "!FOO=kindersurprise && echo $FOO"
      ],
      "execution_count": null,
      "outputs": [
        {
          "output_type": "stream",
          "text": [
            "kindersurprise\n"
          ],
          "name": "stdout"
        }
      ]
    },
    {
      "cell_type": "code",
      "metadata": {
        "id": "ow-40MynjgVV",
        "colab": {
          "base_uri": "https://localhost:8080/",
          "height": 51
        },
        "outputId": "0668c6f9-c873-4d67-fea7-2f3dc66c5690"
      },
      "source": [
        "!echo $PATH\n",
        "!echo $PYTHONPATH"
      ],
      "execution_count": null,
      "outputs": [
        {
          "output_type": "stream",
          "text": [
            "/usr/local/nvidia/bin:/usr/local/cuda/bin:/usr/local/sbin:/usr/local/bin:/usr/sbin:/usr/bin:/sbin:/bin:/tools/node/bin:/tools/google-cloud-sdk/bin:/opt/bin\n",
            "/env/python\n"
          ],
          "name": "stdout"
        }
      ]
    },
    {
      "cell_type": "markdown",
      "metadata": {
        "id": "n9L5dgVwkzhV"
      },
      "source": [
        "Мы можем создать новую папку и заставить питон думать что в ней лежит модуль:"
      ]
    },
    {
      "cell_type": "code",
      "metadata": {
        "id": "uA50ME6BktK9",
        "colab": {
          "base_uri": "https://localhost:8080/",
          "height": 34
        },
        "outputId": "bb9eb951-9421-46fa-d518-f43478a3555b"
      },
      "source": [
        "!rm -r fakemodule\n",
        "!mkdir fakemodule\n",
        "!mkdir fakemodule/power\n",
        "!echo \"print('A great power comes with a great responsibility')\" >> fakemodule/power/__init__.py\n"
      ],
      "execution_count": null,
      "outputs": [
        {
          "output_type": "stream",
          "text": [
            "rm: cannot remove 'fakemodule': No such file or directory\n"
          ],
          "name": "stdout"
        }
      ]
    },
    {
      "cell_type": "code",
      "metadata": {
        "id": "QgLMIDMkuRTk",
        "colab": {
          "base_uri": "https://localhost:8080/",
          "height": 51
        },
        "outputId": "22231640-d065-4e85-d081-e694f4070b3b"
      },
      "source": [
        "!export a=\"Эта переменная будет доступна другим программам вызванным в той же оболочке\" && echo $a\n",
        "# Но тут уже не получится, для каждой команды Jupyter запускает свою оболочку \n",
        "!echo $a"
      ],
      "execution_count": null,
      "outputs": [
        {
          "output_type": "stream",
          "text": [
            "Эта переменная будет доступна другим программам вызванным в той же оболочке\n",
            "\n"
          ],
          "name": "stdout"
        }
      ]
    },
    {
      "cell_type": "code",
      "metadata": {
        "id": "y1v9jifPlRZv",
        "colab": {
          "base_uri": "https://localhost:8080/",
          "height": 34
        },
        "outputId": "4214bbe0-9e2f-47fc-9a3b-a64d96405a90"
      },
      "source": [
        "!PYTHONPATH=$PYTHONPATH:$(pwd)/fakemodule && python -c 'import power'"
      ],
      "execution_count": null,
      "outputs": [
        {
          "output_type": "stream",
          "text": [
            "A great power comes with a great responsibility\n"
          ],
          "name": "stdout"
        }
      ]
    },
    {
      "cell_type": "markdown",
      "metadata": {
        "id": "nU9-VI-ErsHX"
      },
      "source": [
        "Конструкция `$(pwd)` подставляет вывод команды `pwd` в выражение. \n",
        "\n",
        "```\n",
        "PYTHONPATH=$PYTHONPATH:$(pwd)/fakemodule\n",
        "\n",
        "```\n",
        "После подстановки переменных мы получим:\n",
        "\n",
        "```\n",
        "PYTHONPATH=<то что было в PYTHONPATH>:<текущая директория>/fakemodule\n",
        "\n",
        "```\n",
        "Это добавит нашу fakemodule в переменную окружения и позволит питону найти наш модуль.\n"
      ]
    },
    {
      "cell_type": "code",
      "metadata": {
        "id": "62Ue2ovHmnTC",
        "colab": {
          "base_uri": "https://localhost:8080/",
          "height": 34
        },
        "outputId": "412d6d48-50f6-4080-b50b-bfbaf91945b1"
      },
      "source": [
        "!echo $(pwd)"
      ],
      "execution_count": null,
      "outputs": [
        {
          "output_type": "stream",
          "text": [
            "/root\n"
          ],
          "name": "stdout"
        }
      ]
    },
    {
      "cell_type": "markdown",
      "metadata": {
        "id": "cJvgfw6L-ZTs"
      },
      "source": [
        "С помощью этой конструкции можно из результата выполнения команды создать переменную и сразу ей воспользоваться:"
      ]
    },
    {
      "cell_type": "code",
      "metadata": {
        "id": "B7EepgGX-ZTt",
        "colab": {
          "base_uri": "https://localhost:8080/",
          "height": 34
        },
        "outputId": "eadb0101-eb94-4281-f5ae-03f3f7cfb799"
      },
      "source": [
        "!dt_now=$(date); echo $dt_now"
      ],
      "execution_count": null,
      "outputs": [
        {
          "output_type": "stream",
          "text": [
            "Fri Sep 25 07:44:04 UTC 2020\n"
          ],
          "name": "stdout"
        }
      ]
    },
    {
      "cell_type": "markdown",
      "metadata": {
        "id": "V6hGvh7O-ZTv"
      },
      "source": [
        "Для более углублённого изучения Linux в целом и командной оболочки в частности рекомендуем пройти курс Введение в Linux от Института биоинформатики https://stepik.org/course/73"
      ]
    },
    {
      "cell_type": "code",
      "metadata": {
        "id": "jEDu1XUp-ZTv"
      },
      "source": [
        ""
      ],
      "execution_count": null,
      "outputs": []
    }
  ]
}